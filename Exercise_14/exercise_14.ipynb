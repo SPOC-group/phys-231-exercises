{
 "cells": [
  {
   "cell_type": "code",
   "execution_count": 1,
   "id": "38bdb56f",
   "metadata": {
    "tags": []
   },
   "outputs": [],
   "source": [
    "import numpy as np\n",
    "from matplotlib import pyplot as plt\n",
    "from scipy import sparse, optimize, linalg"
   ]
  },
  {
   "cell_type": "markdown",
   "id": "a0f32af8",
   "metadata": {},
   "source": [
    "# Baby phase transitions"
   ]
  },
  {
   "cell_type": "markdown",
   "id": "a8711852-d40b-405d-8729-3177ecfeba4e",
   "metadata": {},
   "source": [
    "In this tutorial we study two examples of phase transitions in problems related to datascience, seen in lecture 14."
   ]
  },
  {
   "cell_type": "markdown",
   "id": "078765a1",
   "metadata": {},
   "source": [
    "## Erdós–Rényi random graph"
   ]
  },
  {
   "cell_type": "markdown",
   "id": "e86d1e51",
   "metadata": {},
   "source": [
    "We consider $N$ vertices (_sommets_) $i$ (also called nodes). There are $N(N-1)/2$ non-ordered pairs of vertices $(i,j)$. We connect each pair with an non-oriented edge at random, identically and independantly, with probability $p=d/N$. We consider $N$ large.\n",
    "\n",
    "In the course part 14.2 you saw that a large connected component appears if $d>1$. A connected component is a set of vertices that are all connected together (there is a path between each pair of vertices) and that are not connected to any other vertex. A large component is a component whose size is a finite fraction of the size of the graph.\n",
    "\n",
    "In this part we check this numerically."
   ]
  },
  {
   "cell_type": "markdown",
   "id": "784959b2",
   "metadata": {},
   "source": [
    "1 – What is the average degree of such a graph ? We say it is sparse (_épars_) ; why ?"
   ]
  },
  {
   "cell_type": "markdown",
   "id": "41c39680",
   "metadata": {},
   "source": [
    "2 – Write a function that creates an instance of this graph by returning its adjacency matrix. It should output a symmetric $N\\times N$ array whose elements are 0 or 1, for the absence or the presence of an edge, as defined in the course. The diagonal is 0. You may use `np.triu` to symmetrize it."
   ]
  },
  {
   "cell_type": "code",
   "execution_count": null,
   "id": "430ee832",
   "metadata": {},
   "outputs": [],
   "source": []
  },
  {
   "cell_type": "markdown",
   "id": "96db00c6",
   "metadata": {},
   "source": [
    "3 – We use the `connected_components` routine from `sparse.csgraph` from `scipy`. It computes all the connected components of a sparse graph. It returns a tuple `(n, l)` where `n` is the number of components and `l` is an $N$-array that labels each vertex according to the component it belongs to. Run it on a small example to understand the format of `l`.\n",
    "\n",
    "Write a function that returns the size of the largest component divided by $N$. You may use `np.unique` to count the size of the components."
   ]
  },
  {
   "cell_type": "code",
   "execution_count": null,
   "id": "046a04b2",
   "metadata": {},
   "outputs": [],
   "source": []
  },
  {
   "cell_type": "markdown",
   "id": "c3a6fdb0",
   "metadata": {},
   "source": [
    "4 – In the course you saw a phase transition appears at $d=1$ in the limit $N$ large. The proportion $\\rho$ of nodes occupied by the largest connected component is 0 if $d<1$ and $\\rho=1-x/d$ if $d>1$, where $0<x<1$ is the solution of $xe^{-x}=de^{-d}$ over $]0,1[$.\n",
    "\n",
    "Code a function that computes $\\rho$. You can solve the equation with the routine `optimize.bisect` from scipy. This is an implementation of the bisection algorithm."
   ]
  },
  {
   "cell_type": "code",
   "execution_count": null,
   "id": "1108bdca",
   "metadata": {},
   "outputs": [],
   "source": []
  },
  {
   "cell_type": "markdown",
   "id": "87369d0d",
   "metadata": {},
   "source": [
    "5 – Run your code for about fifteen different $d$. For each $d$ perform ten to thirty trial (i.e. generate 10 to 30 graphs for each $d$) and compute the empirical mean of $\\rho$ and its standard deviation. Plot them as a function of $d$ with `plt.plot`. You can use `plt.fill_between` to plot the standard deviation (add some transparancy with the parameter `alpha=0.2`). Take $N=500$ at the beginning ; then on the same graph plot $N=200$, $N=400$ and $N=1200$. Add the theoretical curve $N\\to \\infty$."
   ]
  },
  {
   "cell_type": "code",
   "execution_count": null,
   "id": "900d820d",
   "metadata": {},
   "outputs": [],
   "source": []
  },
  {
   "cell_type": "markdown",
   "id": "4860143d",
   "metadata": {},
   "source": [
    "6 – Observe the transition around the critical $d^*=1$."
   ]
  },
  {
   "cell_type": "markdown",
   "id": "b96ea7f9",
   "metadata": {},
   "source": [
    "_For $d<d^*$ the proportion of the graph occupied by the largest component tends to zero while for $d>d^*$ it converges to a finite value. The transition is sharper for $N$ larger._"
   ]
  },
  {
   "cell_type": "markdown",
   "id": "f327f01a",
   "metadata": {},
   "source": [
    "## Baik–Ben Arous–Péché transition"
   ]
  },
  {
   "cell_type": "markdown",
   "id": "139ab8f8",
   "metadata": {},
   "source": [
    "We consider a spiked (_piquée_) $N\\times N$ random matrix defined by\n",
    "$$\n",
    "A = \\sqrt{\\frac{\\mu}{N}} uu^T+\\Xi\n",
    "$$\n",
    "where $u\\in\\mathbb R^N$ is the spike, the signal, that contains information and $\\Xi$ is symmetric noise. They are distributed according to : $u_i\\sim\\mathcal N(0,1)$ and $\\Xi_{i\\leq j}\\sim\\mathcal N(0,1)$ independantly for $1\\leq i\\leq j\\leq N$. $\\mu$ is the signal-to-noise ratio.\n",
    "\n",
    "In the course section 14.3 you saw that a transition appears at $\\mu=1$ : for $\\mu<1$ the leading eigenvector of $A$ is uncorrelated with the spike while for $\\mu>1$ it is correlated. We investigate this numerically."
   ]
  },
  {
   "cell_type": "markdown",
   "id": "3db3d0b8",
   "metadata": {},
   "source": [
    "7 – Write a function that generates a spike $u$ and one instance of $A$. It should return $A$ and $u$."
   ]
  },
  {
   "cell_type": "code",
   "execution_count": null,
   "id": "c76fefc3",
   "metadata": {},
   "outputs": [],
   "source": [
    "def _A(N, mu):\n",
    "    "
   ]
  },
  {
   "cell_type": "markdown",
   "id": "c616600b",
   "metadata": {},
   "source": [
    "8 — $A$ is symmetric so its eigenvalues are real. Compute its leading (ie largest in absolute value) eigenvalue $\\lambda_1$ and its associated eigenvector $u_1$. You may recall of the iterative power method from your first tutorial, or use the routine `linalg.eigh` from scipy."
   ]
  },
  {
   "cell_type": "code",
   "execution_count": null,
   "id": "ba049255",
   "metadata": {},
   "outputs": [],
   "source": []
  },
  {
   "cell_type": "markdown",
   "id": "e907f45d",
   "metadata": {},
   "source": [
    "9 – We define the overlap as\n",
    "$$\n",
    "q_u = \\frac{|u^Tu_1|}{||u||\\,||u_1||}\\ .\n",
    "$$\n",
    "It is the cosine of the angle between the two vectors. It quantifies how much information on the signal $u$ one can retrieve given $A$. A non-null overlap means we know information about the direction of the spike.\n",
    "\n",
    "Compute the overlap.\n",
    "\n",
    "In the course you saw a phase transition appears at $\\mu=1$ in the limit $N$ large. Random matrix theory gives us that $q_u=0$ if $\\mu<1$ and $q_u=\\sqrt{1-\\mu^{-1}}$ else. Implement this function."
   ]
  },
  {
   "cell_type": "code",
   "execution_count": null,
   "id": "ea7f914c",
   "metadata": {},
   "outputs": [],
   "source": []
  },
  {
   "cell_type": "markdown",
   "id": "93d390e2",
   "metadata": {},
   "source": [
    "10 – Pack your code in a function. Run it for about fifteen different $\\mu$. For each $\\mu$ perform ten to thirty trials ; take the empirical mean of $q_u$ and its standard deviation. Plot them vs $\\mu$ with `plt.plot` and `plt.fill_between`. Take $N=500$ at the beginning ; then on the same graph plot $N=200$, $N=500$ and $N=1500$. Add the theoretical curve $N\\to\\infty$."
   ]
  },
  {
   "cell_type": "markdown",
   "id": "5db297c3",
   "metadata": {},
   "source": [
    "11 – There is also a transition for $\\lambda_1$. To see it, compute all the eigenvalues of $A$, with `linalg.eigvalsh`, rescale them by $1/\\sqrt{N}$ and plot their histogram, $\\lambda_1$ being excluded. Use around thirty bins. Add a vertical line showing where is $\\lambda_1$. Do this once for a few different $\\mu$ at $N=3000$."
   ]
  },
  {
   "cell_type": "code",
   "execution_count": null,
   "id": "0fcc96af",
   "metadata": {
    "scrolled": true
   },
   "outputs": [],
   "source": []
  },
  {
   "cell_type": "markdown",
   "id": "aaf0d17b",
   "metadata": {},
   "source": [
    "12 – Observe the BBP transition."
   ]
  },
  {
   "cell_type": "markdown",
   "id": "29f20b09",
   "metadata": {},
   "source": [
    "_The eigenvalues of $A$ divided by $\\sqrt{N}$ form a bulk that spans $[-2,2]$ (they are distributed according to the semi-circle law). When $\\mu>1$, $\\lambda_1$ emerges from the bulk._"
   ]
  }
 ],
 "metadata": {
  "kernelspec": {
   "display_name": "Python 3 (ipykernel)",
   "language": "python",
   "name": "python3"
  },
  "language_info": {
   "codemirror_mode": {
    "name": "ipython",
    "version": 3
   },
   "file_extension": ".py",
   "mimetype": "text/x-python",
   "name": "python",
   "nbconvert_exporter": "python",
   "pygments_lexer": "ipython3",
   "version": "3.10.4"
  },
  "unianalytics_cell_mapping": [
   [
    "38bdb56f",
    "38bdb56f"
   ],
   [
    "a0f32af8",
    "a0f32af8"
   ],
   [
    "a8711852-d40b-405d-8729-3177ecfeba4e",
    "a8711852-d40b-405d-8729-3177ecfeba4e"
   ],
   [
    "078765a1",
    "078765a1"
   ],
   [
    "e86d1e51",
    "e86d1e51"
   ],
   [
    "784959b2",
    "784959b2"
   ],
   [
    "41c39680",
    "41c39680"
   ],
   [
    "430ee832",
    "430ee832"
   ],
   [
    "96db00c6",
    "96db00c6"
   ],
   [
    "046a04b2",
    "046a04b2"
   ],
   [
    "c3a6fdb0",
    "c3a6fdb0"
   ],
   [
    "1108bdca",
    "1108bdca"
   ],
   [
    "87369d0d",
    "87369d0d"
   ],
   [
    "900d820d",
    "900d820d"
   ],
   [
    "4860143d",
    "4860143d"
   ],
   [
    "b96ea7f9",
    "b96ea7f9"
   ],
   [
    "f327f01a",
    "f327f01a"
   ],
   [
    "139ab8f8",
    "139ab8f8"
   ],
   [
    "3db3d0b8",
    "3db3d0b8"
   ],
   [
    "c76fefc3",
    "c76fefc3"
   ],
   [
    "c616600b",
    "c616600b"
   ],
   [
    "ba049255",
    "ba049255"
   ],
   [
    "e907f45d",
    "e907f45d"
   ],
   [
    "ea7f914c",
    "ea7f914c"
   ],
   [
    "93d390e2",
    "93d390e2"
   ],
   [
    "5db297c3",
    "5db297c3"
   ],
   [
    "0fcc96af",
    "0fcc96af"
   ],
   [
    "aaf0d17b",
    "aaf0d17b"
   ],
   [
    "29f20b09",
    "29f20b09"
   ]
  ],
  "unianalytics_notebook_id": "1446dd70-6f14-4b77-a79a-bc5079decd88"
 },
 "nbformat": 4,
 "nbformat_minor": 5
}
