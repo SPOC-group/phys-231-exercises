{
 "cells": [
  {
   "cell_type": "markdown",
   "id": "4696634c",
   "metadata": {
    "tags": [],
    "user_expressions": []
   },
   "source": [
    "# Introduction to python and numpy\n",
    "This is a jupyter notebook. Each box on the screen is called a cell. Each cell can either contain text (such as this one) or code. Each code cell can be executed independently of other cells.\n",
    "Use Shift + Enter to run a cell and move to the next one."
   ]
  },
  {
   "cell_type": "markdown",
   "id": "f18712a3",
   "metadata": {
    "id": "PPqzb58f5tEt",
    "tags": [],
    "user_expressions": []
   },
   "source": [
    "## Python crash course\n",
    " Taken in part from the [official python tutorials ](https://docs.python.org/3.8/tutorial/index.html)\n",
    "\n",
    "  [Official python documentation](https://docs.python.org/3/)\n"
   ]
  },
  {
   "cell_type": "code",
   "execution_count": 1,
   "id": "d387e00f",
   "metadata": {
    "tags": []
   },
   "outputs": [
    {
     "name": "stdout",
     "output_type": "stream",
     "text": [
      "Hello World!\n"
     ]
    }
   ],
   "source": [
    "print(\"Hello World!\")"
   ]
  },
  {
   "cell_type": "markdown",
   "id": "291d9a8f",
   "metadata": {
    "id": "sNA9CWMa6r-u",
    "jp-MarkdownHeadingCollapsed": true,
    "tags": [],
    "user_expressions": []
   },
   "source": [
    "### Basic arithmetics"
   ]
  },
  {
   "cell_type": "code",
   "execution_count": 2,
   "id": "6e4396e0",
   "metadata": {
    "colab": {
     "base_uri": "https://localhost:8080/"
    },
    "id": "twdfrghu5kSE",
    "outputId": "8262a49f-d392-4190-a34a-93c1a9279132",
    "tags": []
   },
   "outputs": [
    {
     "data": {
      "text/plain": [
       "2"
      ]
     },
     "execution_count": 2,
     "metadata": {},
     "output_type": "execute_result"
    }
   ],
   "source": [
    "1+1 "
   ]
  },
  {
   "cell_type": "code",
   "execution_count": 3,
   "id": "1a3cd0a3",
   "metadata": {
    "colab": {
     "base_uri": "https://localhost:8080/"
    },
    "id": "MW9oA_1V6jxD",
    "outputId": "aaacf976-09d7-47d8-9328-93b807fd19dd",
    "tags": []
   },
   "outputs": [
    {
     "data": {
      "text/plain": [
       "10"
      ]
     },
     "execution_count": 3,
     "metadata": {},
     "output_type": "execute_result"
    }
   ],
   "source": [
    "20*2-30"
   ]
  },
  {
   "cell_type": "code",
   "execution_count": 4,
   "id": "d52683d1",
   "metadata": {
    "colab": {
     "base_uri": "https://localhost:8080/"
    },
    "id": "siD9CsahDKn0",
    "outputId": "ae14dce9-1c4d-4b26-8ff3-b34ddbc9f11f",
    "tags": []
   },
   "outputs": [
    {
     "data": {
      "text/plain": [
       "1.6"
      ]
     },
     "execution_count": 4,
     "metadata": {},
     "output_type": "execute_result"
    }
   ],
   "source": [
    "8 / 5  #division always returns a floating point number"
   ]
  },
  {
   "cell_type": "code",
   "execution_count": 5,
   "id": "48fe74a4",
   "metadata": {
    "colab": {
     "base_uri": "https://localhost:8080/"
    },
    "id": "j71sytfgDeXl",
    "outputId": "88870a1f-076c-4d7e-fa26-7f777331710f",
    "tags": []
   },
   "outputs": [
    {
     "data": {
      "text/plain": [
       "1"
      ]
     },
     "execution_count": 5,
     "metadata": {},
     "output_type": "execute_result"
    }
   ],
   "source": [
    "8//5 #floor division"
   ]
  },
  {
   "cell_type": "code",
   "execution_count": 6,
   "id": "1bef9ce2",
   "metadata": {
    "colab": {
     "base_uri": "https://localhost:8080/"
    },
    "id": "8dopqKsJDlmC",
    "outputId": "f3475ee6-3cae-40d3-e006-cfbaf233162c",
    "tags": []
   },
   "outputs": [
    {
     "data": {
      "text/plain": [
       "2"
      ]
     },
     "execution_count": 6,
     "metadata": {},
     "output_type": "execute_result"
    }
   ],
   "source": [
    "17%3 #remainder of the division"
   ]
  },
  {
   "cell_type": "code",
   "execution_count": 7,
   "id": "9bb1a104",
   "metadata": {
    "colab": {
     "base_uri": "https://localhost:8080/"
    },
    "id": "jmZ4heQh62ox",
    "outputId": "1b302e4e-4305-4987-9e05-faafea7a6e60",
    "tags": []
   },
   "outputs": [
    {
     "data": {
      "text/plain": [
       "8"
      ]
     },
     "execution_count": 7,
     "metadata": {},
     "output_type": "execute_result"
    }
   ],
   "source": [
    "2**3 #powers"
   ]
  },
  {
   "cell_type": "code",
   "execution_count": 8,
   "id": "a1786eea",
   "metadata": {
    "colab": {
     "base_uri": "https://localhost:8080/"
    },
    "id": "R6ltyhSQJcY7",
    "outputId": "f2c0f89a-8bfa-48eb-c8dd-0a4aa692b00e",
    "tags": []
   },
   "outputs": [
    {
     "data": {
      "text/plain": [
       "(-1+0j)"
      ]
     },
     "execution_count": 8,
     "metadata": {},
     "output_type": "execute_result"
    }
   ],
   "source": [
    "# 1j is the imaginary unit\n",
    "1j**2"
   ]
  },
  {
   "cell_type": "code",
   "execution_count": 9,
   "id": "9c7928d2",
   "metadata": {
    "colab": {
     "base_uri": "https://localhost:8080/"
    },
    "id": "1Xwu-MmfCwNb",
    "outputId": "711f0870-f141-4c35-c7a5-c0430874d1d5",
    "tags": []
   },
   "outputs": [
    {
     "data": {
      "text/plain": [
       "(3-1j)"
      ]
     },
     "execution_count": 9,
     "metadata": {},
     "output_type": "execute_result"
    }
   ],
   "source": [
    "(1+1j)*(1-2j) #complex multiplication"
   ]
  },
  {
   "cell_type": "markdown",
   "id": "d076bcd0",
   "metadata": {
    "id": "nRthJeKHD-e8",
    "jp-MarkdownHeadingCollapsed": true,
    "tags": [],
    "user_expressions": []
   },
   "source": [
    "### Declaring and assigning variables\n",
    "Python is dynamically typed, meaning that the type (character, int, double) of a variable is inferred at runtime. Therefore you don't need to specify it when declaring variables."
   ]
  },
  {
   "cell_type": "code",
   "execution_count": 10,
   "id": "e223515d",
   "metadata": {
    "colab": {
     "base_uri": "https://localhost:8080/"
    },
    "id": "K0GcWOMKD3hd",
    "outputId": "9a80dd4d-02bd-4031-9a77-04d301ad3cac",
    "tags": []
   },
   "outputs": [
    {
     "data": {
      "text/plain": [
       "7.45"
      ]
     },
     "execution_count": 10,
     "metadata": {},
     "output_type": "execute_result"
    }
   ],
   "source": [
    "a=2\n",
    "b=5.450\n",
    "c=a+b\n",
    "c"
   ]
  },
  {
   "cell_type": "markdown",
   "id": "a762125b",
   "metadata": {
    "id": "jGfjsfALGp0J",
    "jp-MarkdownHeadingCollapsed": true,
    "tags": [],
    "user_expressions": []
   },
   "source": [
    "### Strings"
   ]
  },
  {
   "cell_type": "code",
   "execution_count": 11,
   "id": "4695e1fb",
   "metadata": {
    "colab": {
     "base_uri": "https://localhost:8080/",
     "height": 35
    },
    "id": "nwfXLMoNGgtX",
    "outputId": "fbba9d44-d7a2-4e55-cf69-7254d1d47520",
    "tags": []
   },
   "outputs": [
    {
     "name": "stdout",
     "output_type": "stream",
     "text": [
      "the quick brown fox jumps over the lazy dog\n"
     ]
    }
   ],
   "source": [
    "a=\"the quick brown fox jumps over the lazy dog\"\n",
    "print(a)"
   ]
  },
  {
   "cell_type": "code",
   "execution_count": 12,
   "id": "e9d9ffea",
   "metadata": {
    "colab": {
     "base_uri": "https://localhost:8080/"
    },
    "id": "iYeA7TszHUtR",
    "outputId": "c218f7f2-2a79-4b1a-c12a-12d6e04c170c",
    "tags": []
   },
   "outputs": [
    {
     "name": "stdout",
     "output_type": "stream",
     "text": [
      "t\n",
      "g\n",
      "e quick \n",
      "eqik\n"
     ]
    }
   ],
   "source": [
    "print(a[0])\n",
    "print(a[-1]) # negative indices count form the end \n",
    "print(a[2:10]) # [start: stop] last index not included (i.e. 2:10 means 2,3,4,5,6,7,8,9)\n",
    "print(a[2:10:2])# [start:stop:step]"
   ]
  },
  {
   "cell_type": "code",
   "execution_count": 13,
   "id": "b66cb6dc",
   "metadata": {
    "colab": {
     "base_uri": "https://localhost:8080/"
    },
    "id": "d0xUjzBbIK3H",
    "outputId": "a8c2c2c8-36dd-48c2-9119-caa73d7b8dbf",
    "tags": []
   },
   "outputs": [
    {
     "data": {
      "text/plain": [
       "43"
      ]
     },
     "execution_count": 13,
     "metadata": {},
     "output_type": "execute_result"
    }
   ],
   "source": [
    "len(a) #length"
   ]
  },
  {
   "cell_type": "markdown",
   "id": "d84d5c4d",
   "metadata": {
    "id": "Vrrp5wQMKG3f",
    "jp-MarkdownHeadingCollapsed": true,
    "tags": [],
    "user_expressions": []
   },
   "source": [
    "### Printing"
   ]
  },
  {
   "cell_type": "code",
   "execution_count": 14,
   "id": "73f1f230",
   "metadata": {
    "colab": {
     "base_uri": "https://localhost:8080/"
    },
    "id": "wJHk0AGtLTAN",
    "outputId": "389b72a0-8df9-4ffe-eae0-7958bedaa372",
    "tags": []
   },
   "outputs": [
    {
     "name": "stdout",
     "output_type": "stream",
     "text": [
      "x=35 y=290.393\n",
      "x=35 y=2.90e+02\n",
      "[1, 2, 3, 4]\n"
     ]
    }
   ],
   "source": [
    "X=35\n",
    "Y=290.39343939339\n",
    "\n",
    "# C++ like syntax \n",
    "print(\"x=%d y=%.3f\"%(X,Y))  \n",
    "\n",
    "# Put variables directly in text, between curly brackets {}.\n",
    "print(f\"x={X} y={Y:.2e}\") \n",
    "\n",
    "#print can also take directly objects as arguments\n",
    "a=[1,2,3,4]\n",
    "print(a)"
   ]
  },
  {
   "cell_type": "markdown",
   "id": "c5271bcb",
   "metadata": {
    "id": "-vQtCvdlKM-z",
    "jp-MarkdownHeadingCollapsed": true,
    "tags": [],
    "user_expressions": []
   },
   "source": [
    "### Flow control"
   ]
  },
  {
   "cell_type": "code",
   "execution_count": 15,
   "id": "bb5b8eaa",
   "metadata": {
    "colab": {
     "base_uri": "https://localhost:8080/"
    },
    "id": "ef5eIHjtL5mR",
    "outputId": "c5ad8f1d-5830-4344-92b4-0d47eb2fcad7",
    "tags": []
   },
   "outputs": [
    {
     "name": "stdout",
     "output_type": "stream",
     "text": [
      "x is greater than zero\n"
     ]
    }
   ],
   "source": [
    "#if statements\n",
    "x=10\n",
    "if(x>0):\n",
    "    print(\"x is greater than zero\")\n",
    "elif(x==0):\n",
    "    print(\"x is exactly zero\")\n",
    "else:\n",
    "    print(\"x is negative\")"
   ]
  },
  {
   "cell_type": "code",
   "execution_count": 16,
   "id": "8dd949ef",
   "metadata": {
    "colab": {
     "base_uri": "https://localhost:8080/"
    },
    "id": "SMyu-I38N1NP",
    "outputId": "c59f0ca2-948f-4eaa-854d-aa9a226b547a",
    "tags": []
   },
   "outputs": [
    {
     "name": "stdout",
     "output_type": "stream",
     "text": [
      "0\n",
      "1\n",
      "2\n",
      "3\n",
      "4\n"
     ]
    }
   ],
   "source": [
    "#The range function: loop over the integers from 0 to 4\n",
    "for i in range(5):\n",
    "    print(i)"
   ]
  },
  {
   "cell_type": "code",
   "execution_count": 17,
   "id": "aa8e14f0",
   "metadata": {
    "colab": {
     "base_uri": "https://localhost:8080/"
    },
    "id": "tuqQ0OZCN8oU",
    "outputId": "17791976-3268-47e8-9be9-062dbf8958a9",
    "tags": []
   },
   "outputs": [
    {
     "name": "stdout",
     "output_type": "stream",
     "text": [
      "5\n",
      "7\n",
      "9\n",
      "11\n",
      "13\n",
      "15\n",
      "17\n",
      "19\n"
     ]
    }
   ],
   "source": [
    "for i in range(5,20,2): #start,stop,step\n",
    "    print(i)"
   ]
  },
  {
   "cell_type": "code",
   "execution_count": 18,
   "id": "8dc8a9ac",
   "metadata": {
    "colab": {
     "base_uri": "https://localhost:8080/"
    },
    "id": "iwTcy7_XNwL4",
    "outputId": "b0ec475a-c9bd-497a-d781-ff3edd2d77df",
    "tags": []
   },
   "outputs": [
    {
     "name": "stdout",
     "output_type": "stream",
     "text": [
      "0\n",
      "1\n",
      "2\n",
      "3\n",
      "4\n"
     ]
    }
   ],
   "source": [
    "i=0\n",
    "while (i<5):\n",
    "    print(i)\n",
    "    i+=1"
   ]
  },
  {
   "cell_type": "markdown",
   "id": "01426b37",
   "metadata": {
    "id": "QQgEYn6QR0ju",
    "jp-MarkdownHeadingCollapsed": true,
    "tags": [],
    "user_expressions": []
   },
   "source": [
    "### Functions"
   ]
  },
  {
   "cell_type": "code",
   "execution_count": 19,
   "id": "a95ea5af",
   "metadata": {
    "colab": {
     "base_uri": "https://localhost:8080/"
    },
    "id": "790GDC8qRzuD",
    "outputId": "92b07a6e-e37b-4671-fa16-d590118b831a",
    "tags": []
   },
   "outputs": [
    {
     "data": {
      "text/plain": [
       "8"
      ]
     },
     "execution_count": 19,
     "metadata": {},
     "output_type": "execute_result"
    }
   ],
   "source": [
    "def power(x,exp):\n",
    "    return x**exp\n",
    "    \n",
    "power(2,3)"
   ]
  },
  {
   "cell_type": "code",
   "execution_count": 20,
   "id": "954819a4",
   "metadata": {
    "colab": {
     "base_uri": "https://localhost:8080/"
    },
    "id": "iMXOIGJUSCLj",
    "outputId": "6441fee4-ed4a-4559-99d5-8bacf77320a1",
    "tags": []
   },
   "outputs": [
    {
     "data": {
      "text/plain": [
       "(12, 4)"
      ]
     },
     "execution_count": 20,
     "metadata": {},
     "output_type": "execute_result"
    }
   ],
   "source": [
    "def volume_surface(a,b=2,c=3):#default arguments\n",
    "    vol=a*b*c\n",
    "    surf=a*b\n",
    "    return vol,surf\n",
    "\n",
    "volume_surface(a=2)"
   ]
  },
  {
   "cell_type": "markdown",
   "id": "efcfc424",
   "metadata": {
    "tags": [],
    "user_expressions": []
   },
   "source": [
    "## Numpy\n",
    "Numpy is the main library for scientific computing. \n",
    "The strength of python lies in its libraries: without them it would be just another crappy programming language.\n",
    "**One cannot learn python without learning the libraries**.\n",
    "\n",
    "Python benefits from a very large community, so chances are someone else had the same problem as you and posted it on [Stack Overflow](https://stackoverflow.com/).\n",
    "\n",
    "You can also use [ChatGPT](https://chat.openai.com/) or [Github Copilot](https://github.com/features/copilot) to help writing and debugging code. Just remember to check that the output makes sense!\n",
    "\n",
    "Numpy complete tutorial and documentation:\n",
    "1. [Official quickstart guide](https://numpy.org/doc/stable/user/quickstart.html)\n",
    " \n",
    "2. [Official documentation](https://numpy.org/doc/1.21/)\n",
    " \n",
    " "
   ]
  },
  {
   "cell_type": "markdown",
   "id": "d61fe919",
   "metadata": {
    "user_expressions": []
   },
   "source": [
    "To use `numpy` you need to import the module, using for example:"
   ]
  },
  {
   "cell_type": "code",
   "execution_count": 21,
   "id": "b9172742",
   "metadata": {
    "tags": []
   },
   "outputs": [],
   "source": [
    "import numpy as np"
   ]
  },
  {
   "cell_type": "markdown",
   "id": "17c36030",
   "metadata": {
    "jp-MarkdownHeadingCollapsed": true,
    "tags": [],
    "user_expressions": []
   },
   "source": [
    "### Vectors in python\n",
    "There are two data structures to represent vectors\n",
    "1. Python lists\n",
    "2. Numpy arrays\n"
   ]
  },
  {
   "cell_type": "code",
   "execution_count": 22,
   "id": "c548656f",
   "metadata": {
    "tags": []
   },
   "outputs": [],
   "source": [
    "a=[1,2,3,4] #syntax for python list\n",
    "b=np.array([1,2,3,4]) #syntax for numpy array"
   ]
  },
  {
   "cell_type": "code",
   "execution_count": 23,
   "id": "7776063d",
   "metadata": {
    "tags": []
   },
   "outputs": [],
   "source": [
    "a=[[1,2],[3,4]] #nested list\n",
    "b=np.array([[1,2],[3,4]]) #nested list converted in 2 by 2 numpy array"
   ]
  },
  {
   "cell_type": "markdown",
   "id": "81351c9b",
   "metadata": {
    "jp-MarkdownHeadingCollapsed": true,
    "tags": [],
    "user_expressions": []
   },
   "source": [
    "### Arrays vs Lists\n",
    "Many operations (e.g. accessing elements via index, iterating over elements, appending, removing,concatenating,...) are available both in lists and arrays.\n",
    "We will describe these things only for numpy arrays, but the same applies to lists.\n",
    "\n",
    "\n",
    "What are the main differences between numpy arrays and lists?\n",
    "1. Type homogeneity: all elements in a numpy array share the same numeric data type, in contrast lists can contain different data types\n",
    "2. Memory contiguity: a numpy array is stored in a contiguous block of memory. Lists element are not, they can be scattered around in memory.\n",
    "3. Numpy arrays have fixed length along each dimension, lists do not. E.g. the list `[[1,2],[3,4,5]]` cannot be converted to numpy array, since the first and second 'rows'  of the matrix would have different lengths.\n",
    "\n",
    "These characteristics make numpy arrays the fastest data structure for computations with vectors, matrices, tensors (intended as multi indices objects),...\n",
    "\n",
    "**Bottom line: use numpy arrays for manipulating numerical tensors, lists for all the rest.**\n",
    "\n"
   ]
  },
  {
   "cell_type": "code",
   "execution_count": 24,
   "id": "3fedac06",
   "metadata": {
    "tags": []
   },
   "outputs": [
    {
     "name": "stdout",
     "output_type": "stream",
     "text": [
      "['qwerty', [[1, 2], [3, 4]], array([[1, 2],\n",
      "       [3, 4]]), -293.929, [1, 2], (1+3j), False]\n",
      "2\n"
     ]
    }
   ],
   "source": [
    "heterogeneous_list=['qwerty',a, b, -293.929, [1,2], 1+3j, False] #there is no numpy equivalent for this\n",
    "print(heterogeneous_list)\n",
    "print(heterogeneous_list[4][1])"
   ]
  },
  {
   "cell_type": "code",
   "execution_count": 25,
   "id": "8af1522d",
   "metadata": {
    "tags": []
   },
   "outputs": [
    {
     "name": "stdout",
     "output_type": "stream",
     "text": [
      "1\n",
      "2\n",
      "3\n",
      "4\n"
     ]
    }
   ],
   "source": [
    "#both lists and numpy arrays support iteration over elements\n",
    "a=[1,2,3,4]\n",
    "b=np.array(a)\n",
    "\n",
    "for x in b: #or 'for x in a:'\n",
    "    print(x)"
   ]
  },
  {
   "cell_type": "code",
   "execution_count": 26,
   "id": "595259b6",
   "metadata": {
    "tags": []
   },
   "outputs": [
    {
     "name": "stdout",
     "output_type": "stream",
     "text": [
      "(3, 2, 2)\n",
      "12\n",
      "3\n"
     ]
    }
   ],
   "source": [
    "#The shape of an array is the length of each dimension. The size is the total number of elements. 'len' gives the length of the first dimension of the array.\n",
    "b=np.ones([3,2,2])\n",
    "print(b.shape) \n",
    "print(b.size)\n",
    "print(len(b))"
   ]
  },
  {
   "cell_type": "code",
   "execution_count": 27,
   "id": "6e6cf2db",
   "metadata": {
    "tags": []
   },
   "outputs": [
    {
     "name": "stdout",
     "output_type": "stream",
     "text": [
      "9\n",
      "[ 9 16]\n",
      "[1 9]\n",
      "16\n"
     ]
    }
   ],
   "source": [
    "#same indexing rules as strings\n",
    "squares=np.array([1,4,9,16,25,36]) #try with 'squares=[1,4,9,16,25,36]', works the same!\n",
    "print(squares[2])\n",
    "print(squares[2:4])\n",
    "print(squares[0:4:2]) #start:stop:step\n",
    "print(squares[-3])"
   ]
  },
  {
   "cell_type": "code",
   "execution_count": 28,
   "id": "07090afe",
   "metadata": {
    "tags": []
   },
   "outputs": [
    {
     "name": "stdout",
     "output_type": "stream",
     "text": [
      "[[1. 1. 1.]\n",
      " [1. 1. 1.]\n",
      " [1. 1. 1.]\n",
      " [1. 1. 1.]]\n",
      "element of a:  1.0\n",
      "first column:  [1. 1. 1. 1.]\n",
      "first row:  [1. 1. 1.]\n",
      "2 by 2 minor:  [[1. 1.]\n",
      " [1. 1.]]\n"
     ]
    }
   ],
   "source": [
    "#indexing for higher dimensional arrays\n",
    "a=np.ones([4,3])\n",
    "print(a)\n",
    "print(\"element of a: \",a[1,2]) \n",
    "print(\"first column: \",a[:,0])\n",
    "print(\"first row: \", a[0,:])\n",
    "print(\"2 by 2 minor: \", a[:2,:2])"
   ]
  },
  {
   "cell_type": "code",
   "execution_count": 29,
   "id": "88e268e1",
   "metadata": {
    "tags": []
   },
   "outputs": [
    {
     "name": "stdout",
     "output_type": "stream",
     "text": [
      "zeros\n",
      " [[0. 0. 0.]\n",
      " [0. 0. 0.]\n",
      " [0. 0. 0.]]\n",
      "ones\n",
      " [[[1. 1.]\n",
      "  [1. 1.]]\n",
      "\n",
      " [[1. 1.]\n",
      "  [1. 1.]]\n",
      "\n",
      " [[1. 1.]\n",
      "  [1. 1.]]]\n",
      "identity\n",
      " [[1. 0. 0.]\n",
      " [0. 1. 0.]\n",
      " [0. 0. 1.]]\n",
      "linspace \n",
      " [0.  0.1 0.2 0.3 0.4 0.5 0.6 0.7 0.8 0.9 1. ]\n",
      "arange \n",
      " [0.  0.1 0.2 0.3 0.4 0.5 0.6 0.7 0.8 0.9]\n",
      "random in [0,1)\n",
      " [[0.24624766 0.69131728]\n",
      " [0.06787497 0.45114979]]\n"
     ]
    }
   ],
   "source": [
    "#Notable arrays:\n",
    "print(\"zeros\\n\",np.zeros([3,3])) #3 by 3 matrix of all zeros\n",
    "print(\"ones\\n\",np.ones([3,2,2])) #3 by 2 by 2 tensor of all ones\n",
    "print(\"identity\\n\",np.identity(3))# 3 by 3 identity matrix\n",
    "print(\"linspace \\n\",np.linspace(0,1,11))#(start,stop, number of points) 1D array of evenly spaced values \n",
    "print(\"arange \\n\",np.arange(0,1,0.1))#(start,stop, step) 1D array of evenly spaced values \n",
    "print(\"random in [0,1)\\n\",np.random.random([2, 2])) #independent random numbers uniformly distributed in the interval [0,1)"
   ]
  },
  {
   "cell_type": "markdown",
   "id": "793777b8",
   "metadata": {
    "tags": [],
    "user_expressions": []
   },
   "source": [
    "#### Arrays operations\n",
    "The following are common operations on arrays (not available for lists)\n",
    "**Most operations act in an element-wise manner on arrays**\n"
   ]
  },
  {
   "cell_type": "code",
   "execution_count": 30,
   "id": "b12c2289",
   "metadata": {
    "tags": []
   },
   "outputs": [
    {
     "name": "stdout",
     "output_type": "stream",
     "text": [
      "10\n",
      "[-2.14159265  4.123       4.          4.        ]\n",
      "[-3.14159265  4.246       3.          0.        ]\n",
      "[0.04321392 8.35616843 2.71828183 1.        ]\n",
      "[[1 3]\n",
      " [2 4]]\n"
     ]
    }
   ],
   "source": [
    "a=np.array([1,2,3,4])\n",
    "b=np.array([-np.pi,2.123,1,0])\n",
    "C=np.array([[1,2],[3,4]])\n",
    "print(np.sum(a)) #sums all elements\n",
    "print(a+b) #element-wise addition. WARNING: when applied to lists the '+' operator concatenates the lists.\n",
    "print(a*b) #element-wise multiplication\n",
    "print(np.exp(b)) #element-wise exponential\n",
    "print(C.T) #transpose the matrix\n",
    "#element-wise operations are particularly fast in arrays compared to lists."
   ]
  },
  {
   "cell_type": "markdown",
   "id": "1b13b8b8",
   "metadata": {
    "tags": [],
    "user_expressions": []
   },
   "source": [
    "#### Copying"
   ]
  },
  {
   "cell_type": "code",
   "execution_count": 31,
   "id": "fd1a7532",
   "metadata": {
    "tags": []
   },
   "outputs": [
    {
     "name": "stdout",
     "output_type": "stream",
     "text": [
      "[   1 1000    3    4]\n"
     ]
    }
   ],
   "source": [
    "#How NOT to copy an array (or list):\n",
    "b=np.array([1,2,3,4])\n",
    "b_fake_copy=b\n",
    "b_fake_copy[1]=1000\n",
    "print(b)# the original array was modified when modifying the 'copy'"
   ]
  },
  {
   "cell_type": "code",
   "execution_count": 32,
   "id": "fbbc6e09",
   "metadata": {
    "tags": []
   },
   "outputs": [
    {
     "name": "stdout",
     "output_type": "stream",
     "text": [
      "[1 2 3 4]\n"
     ]
    }
   ],
   "source": [
    "#How to copy an array (or list):\n",
    "b=np.array([1,2,3,4])\n",
    "b_copy=np.copy(b)\n",
    "b_copy[1]=1000\n",
    "print(b)# the original array was NOT modified when modifying the copy"
   ]
  },
  {
   "cell_type": "markdown",
   "id": "bfa7e467",
   "metadata": {
    "tags": [],
    "user_expressions": []
   },
   "source": [
    "#### Check your shapes!\n",
    "Shape of numpy arrays can be deceiving and can cause errors in computations."
   ]
  },
  {
   "cell_type": "code",
   "execution_count": 33,
   "id": "c6265ec2",
   "metadata": {
    "tags": []
   },
   "outputs": [
    {
     "name": "stdout",
     "output_type": "stream",
     "text": [
      "(4,)\n",
      "(1, 4)\n"
     ]
    }
   ],
   "source": [
    "#In this example, a is a one dimensional array, while b is a two dimensional one (i.e. it is a 1 by 4 matrix).\n",
    "a=np.array([1,2,3,4])\n",
    "print(a.shape)\n",
    "b=np.array([[1,2,3,4]])\n",
    "print(b.shape)\n",
    "#The extra dimension in b can have unforseen impacts on the operations between the arrays"
   ]
  },
  {
   "cell_type": "code",
   "execution_count": 34,
   "id": "a396f79e",
   "metadata": {
    "tags": []
   },
   "outputs": [
    {
     "name": "stdout",
     "output_type": "stream",
     "text": [
      "(1, 4)\n",
      "(4,)\n"
     ]
    }
   ],
   "source": [
    "#Reshape a so that it has the same shape as b\n",
    "b2=np.reshape(a,[1,4])\n",
    "print(b2.shape)\n",
    "\n",
    "#Reshape b so that is has the same shape as a\n",
    "a2=np.reshape(b,[4])\n",
    "print(a2.shape)"
   ]
  },
  {
   "cell_type": "markdown",
   "id": "0e47dad5",
   "metadata": {
    "jp-MarkdownHeadingCollapsed": true,
    "tags": [],
    "user_expressions": []
   },
   "source": [
    "### Exercise 1: matrix multiplication\n",
    "Given two matrices $A,B$ their matrix product is the matrix  $$(AB)_{ij}=\\sum_k A_{ik}B_{kj}.$$\n",
    "Code the matrix product\n",
    "1. Using a for loop\n",
    "2. Using numpy's built in function\n",
    "\n",
    "Then compare the time needed to run the two implementations. Which one is faster?\n",
    "\n",
    "Hint: to measure the execution time of a cell put `%%timeit` at the beginning of the cell"
   ]
  },
  {
   "cell_type": "code",
   "execution_count": 35,
   "id": "c62a0fe1",
   "metadata": {
    "tags": []
   },
   "outputs": [],
   "source": [
    "A=np.array([[i+j for i in range(12)] for j in range(4)]) #this is a way of defining lists called 'list comprehension'\n",
    "B=np.array([[1 for i in range(4)] for j in range(12)])"
   ]
  },
  {
   "cell_type": "code",
   "execution_count": 36,
   "id": "1b94cb62",
   "metadata": {
    "tags": []
   },
   "outputs": [],
   "source": [
    "#For loop implementation:\n",
    "def matmul_for_loop(A,B):\n",
    "    pass #your code goes here\n",
    "#numpy implementation:\n",
    "#your code goes here"
   ]
  },
  {
   "cell_type": "markdown",
   "id": "60f1ede8",
   "metadata": {
    "jp-MarkdownHeadingCollapsed": true,
    "tags": [],
    "user_expressions": []
   },
   "source": [
    "### Exercise 2: matrix powers\n",
    "Using numpy's matrix multiplication, implement an algorithm that computes the $k$-th power of a square matrix $A$."
   ]
  },
  {
   "cell_type": "code",
   "execution_count": 37,
   "id": "2b12b547",
   "metadata": {
    "tags": []
   },
   "outputs": [],
   "source": [
    "A=np.random.random([6,6])\n",
    "#your code goes here"
   ]
  },
  {
   "cell_type": "markdown",
   "id": "96cbf5be",
   "metadata": {
    "jp-MarkdownHeadingCollapsed": true,
    "tags": [],
    "user_expressions": []
   },
   "source": [
    "### Guided example: multiplying large sparse matrices\n",
    "The fastest algorithms for multiplying two $n\\times n$ matrices takes about $O(n^{2.37\\dots})$ time. \n",
    "\n",
    "If our matrices are sparse (i.e. only a few elements are nonzero) then faster algorithms exist, but they require a different data structure for representing the matrix.\n",
    "Scipy, another python library for scientific computing, uses the Compressed Sparse Row (CSR) format. \n",
    "\n",
    "Calling $\\rho$ the fraction of nonzero elements in the matrix, the time complexity of matrix multiplication using the CSR format is $O(\\rho^2 n^3)$, therefore if $\\rho$ is small this algorithm is more efficient.\n",
    "The following cells demonstrate the speedup. \n",
    "\n",
    "**Take home messages:** \n",
    "1. you should tailor your algorithms to the structure of your data. \n",
    "2. **in most situations there already exists a built in function (in numpy or scipy) that does what you want. Look for it before writing your own code.**"
   ]
  },
  {
   "cell_type": "code",
   "execution_count": 38,
   "id": "f2626f83",
   "metadata": {
    "tags": []
   },
   "outputs": [],
   "source": [
    "#The following code generates a matrix in which on average a fraction rho of the elements are nonzero.\n",
    "def random_sparse_matrix(n,rho):\n",
    "    return np.random.random([n,n])*(np.random.random([n,n])<rho)"
   ]
  },
  {
   "cell_type": "code",
   "execution_count": 39,
   "id": "80b19709",
   "metadata": {
    "tags": []
   },
   "outputs": [],
   "source": [
    "#generate two random sparse matrices\n",
    "n=1000\n",
    "rho=0.1\n",
    "A=random_sparse_matrix(n,rho)\n",
    "B=random_sparse_matrix(n,rho)"
   ]
  },
  {
   "cell_type": "code",
   "execution_count": 40,
   "id": "5505b200",
   "metadata": {
    "tags": []
   },
   "outputs": [],
   "source": [
    "#convert to CSR format using scipy\n",
    "from scipy import sparse\n",
    "A_sparse=sparse.csr_array(A)\n",
    "B_sparse=sparse.csr_array(B)"
   ]
  },
  {
   "cell_type": "code",
   "execution_count": 41,
   "id": "a613626d",
   "metadata": {
    "tags": []
   },
   "outputs": [
    {
     "name": "stdout",
     "output_type": "stream",
     "text": [
      "27 ms ± 754 µs per loop (mean ± std. dev. of 7 runs, 10 loops each)\n"
     ]
    }
   ],
   "source": [
    "%%timeit\n",
    "A_sparse@B_sparse"
   ]
  },
  {
   "cell_type": "code",
   "execution_count": 42,
   "id": "5c321da5",
   "metadata": {
    "tags": []
   },
   "outputs": [
    {
     "name": "stdout",
     "output_type": "stream",
     "text": [
      "10.7 ms ± 619 µs per loop (mean ± std. dev. of 7 runs, 1 loop each)\n"
     ]
    }
   ],
   "source": [
    "%%timeit\n",
    "A@B"
   ]
  },
  {
   "cell_type": "markdown",
   "id": "02daca92",
   "metadata": {
    "user_expressions": []
   },
   "source": [
    "Ok, but how does the CSR format really work under the hood? And what about the algorithm to multiply sparse matrices?\n",
    "\n",
    "1. **Ask ChatGPT**: the prompt \"Write python code for implementing the matrix product between sparse matrices. Your algorithm should be optimized for sparse matrices\" seems to work pretty well (still be critical of the output and check it).\n",
    "\n",
    "2. Look it up on wikipedia: [Sparse Matrix](https://en.wikipedia.org/wiki/Sparse_matrix)\n",
    "\n",
    "Why do we care about sparse matrices? The Pagerank algorithm is based on the webgraph. Is this graph sparse or dense?"
   ]
  },
  {
   "cell_type": "markdown",
   "id": "940fdb15",
   "metadata": {
    "user_expressions": []
   },
   "source": [
    "#### Exercise\n",
    "Change the value of `n` in the previous example and rerun the code. \n",
    "\n",
    "Should `n` be large or small for the CSR matrix multiplication to have an advantage? Why?"
   ]
  },
  {
   "cell_type": "code",
   "execution_count": null,
   "id": "f9f69787",
   "metadata": {},
   "outputs": [],
   "source": []
  }
 ],
 "metadata": {
  "colab": {
   "provenance": []
  },
  "kernelspec": {
   "display_name": "Python3",
   "language": "python",
   "name": "python3"
  },
  "language_info": {
   "codemirror_mode": {
    "name": "ipython",
    "version": 3
   },
   "file_extension": ".py",
   "mimetype": "text/x-python",
   "name": "python",
   "nbconvert_exporter": "python",
   "pygments_lexer": "ipython3",
   "version": "3.10.12"
  },
  "unianalytics_cell_mapping": [
   [
    "4696634c",
    "4696634c"
   ],
   [
    "f18712a3",
    "f18712a3"
   ],
   [
    "d387e00f",
    "d387e00f"
   ],
   [
    "291d9a8f",
    "291d9a8f"
   ],
   [
    "6e4396e0",
    "6e4396e0"
   ],
   [
    "1a3cd0a3",
    "1a3cd0a3"
   ],
   [
    "d52683d1",
    "d52683d1"
   ],
   [
    "48fe74a4",
    "48fe74a4"
   ],
   [
    "1bef9ce2",
    "1bef9ce2"
   ],
   [
    "9bb1a104",
    "9bb1a104"
   ],
   [
    "a1786eea",
    "a1786eea"
   ],
   [
    "9c7928d2",
    "9c7928d2"
   ],
   [
    "d076bcd0",
    "d076bcd0"
   ],
   [
    "e223515d",
    "e223515d"
   ],
   [
    "a762125b",
    "a762125b"
   ],
   [
    "4695e1fb",
    "4695e1fb"
   ],
   [
    "e9d9ffea",
    "e9d9ffea"
   ],
   [
    "b66cb6dc",
    "b66cb6dc"
   ],
   [
    "d84d5c4d",
    "d84d5c4d"
   ],
   [
    "73f1f230",
    "73f1f230"
   ],
   [
    "c5271bcb",
    "c5271bcb"
   ],
   [
    "bb5b8eaa",
    "bb5b8eaa"
   ],
   [
    "8dd949ef",
    "8dd949ef"
   ],
   [
    "aa8e14f0",
    "aa8e14f0"
   ],
   [
    "8dc8a9ac",
    "8dc8a9ac"
   ],
   [
    "01426b37",
    "01426b37"
   ],
   [
    "a95ea5af",
    "a95ea5af"
   ],
   [
    "954819a4",
    "954819a4"
   ],
   [
    "efcfc424",
    "efcfc424"
   ],
   [
    "d61fe919",
    "d61fe919"
   ],
   [
    "b9172742",
    "b9172742"
   ],
   [
    "17c36030",
    "17c36030"
   ],
   [
    "c548656f",
    "c548656f"
   ],
   [
    "7776063d",
    "7776063d"
   ],
   [
    "81351c9b",
    "81351c9b"
   ],
   [
    "3fedac06",
    "3fedac06"
   ],
   [
    "8af1522d",
    "8af1522d"
   ],
   [
    "595259b6",
    "595259b6"
   ],
   [
    "6e6cf2db",
    "6e6cf2db"
   ],
   [
    "07090afe",
    "07090afe"
   ],
   [
    "88e268e1",
    "88e268e1"
   ],
   [
    "793777b8",
    "793777b8"
   ],
   [
    "b12c2289",
    "b12c2289"
   ],
   [
    "1b13b8b8",
    "1b13b8b8"
   ],
   [
    "fd1a7532",
    "fd1a7532"
   ],
   [
    "fbbc6e09",
    "fbbc6e09"
   ],
   [
    "bfa7e467",
    "bfa7e467"
   ],
   [
    "c6265ec2",
    "c6265ec2"
   ],
   [
    "a396f79e",
    "a396f79e"
   ],
   [
    "0e47dad5",
    "0e47dad5"
   ],
   [
    "c62a0fe1",
    "c62a0fe1"
   ],
   [
    "1b94cb62",
    "1b94cb62"
   ],
   [
    "60f1ede8",
    "60f1ede8"
   ],
   [
    "2b12b547",
    "2b12b547"
   ],
   [
    "96cbf5be",
    "96cbf5be"
   ],
   [
    "f2626f83",
    "f2626f83"
   ],
   [
    "80b19709",
    "80b19709"
   ],
   [
    "5505b200",
    "5505b200"
   ],
   [
    "a613626d",
    "a613626d"
   ],
   [
    "5c321da5",
    "5c321da5"
   ],
   [
    "02daca92",
    "02daca92"
   ],
   [
    "940fdb15",
    "940fdb15"
   ],
   [
    "f9f69787",
    "f9f69787"
   ]
  ],
  "unianalytics_notebook_id": "14d7f646-d479-4250-ad0e-9871b96a55de"
 },
 "nbformat": 4,
 "nbformat_minor": 5
}
