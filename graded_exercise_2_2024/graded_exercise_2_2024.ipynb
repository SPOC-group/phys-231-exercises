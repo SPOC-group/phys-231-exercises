{
 "cells": [
  {
   "cell_type": "code",
   "execution_count": 1,
   "metadata": {},
   "outputs": [],
   "source": [
    "import numpy as np\n",
    "import matplotlib.pyplot as plt"
   ]
  },
  {
   "cell_type": "markdown",
   "metadata": {},
   "source": [
    "# Graded homework 2"
   ]
  },
  {
   "cell_type": "markdown",
   "metadata": {},
   "source": [
    "This graded homework has two exercises. The aim of the exercicses is to test the following:\n",
    "- Python skills (variables, lists, functions, conditions, loops)\n",
    "- Numpy skills (array manipulation, random number generators, ...)\n",
    "- Plotting skills using matplotlib (plotting, histograms, labeling, ...)\n",
    "- Using external sources to find the functions you need\n",
    "- Theoretical comprehension of the notion of:\n",
    "    1. Sampling with Markov Chain Monte Carlo.\n",
    "    2. Entropic forces\n",
    "\n",
    "Each question is given in a markdown cell and should be answered in the cell/cells below (you can add cells if needed). The figures must be generated and shown directly in this notebook. If a questions demands that you write an answer, use a 'markdown' cell, which can include latex between \\\\$ symbols. As an example,\n",
    "\\\\$\\vec{F}=m\\vec{a}\\\\$\n",
    "gives $\\vec{F}=m\\vec{a}$.\n",
    "\n",
    "Your code should run properly if you do the following: 1) restart the kernel 2) execute all cells in order from top to bottom. Running all cells should take a reasonable time on a standard computer (<20 minutes).\n",
    "\n",
    "All the sources you consult should be explicitly cited, except the numpy and matplotlib official documentation, the lecture notes and the previous exercises. You are encouraged to use external sources, since every function needed in this exercise has not necessarily been seen in the previous exercises. Please also cite every person you discussed this exercise with."
   ]
  },
  {
   "cell_type": "markdown",
   "metadata": {},
   "source": [
    "# Exercise 1: Markov chain on a chessboard"
   ]
  },
  {
   "cell_type": "markdown",
   "metadata": {},
   "source": [
    "In this exercise, you will implement a Monte Carlo Markov chain (MCMC) simulation on a chessboard with a king as the only piece. The king prefers moving to black squares over white squares. You will compute the stationary distribution of the king's position by using MCMC and by using the transition matrix. The king moves according to the following set of rules:\n",
    "\n",
    "- The king **must** move to one of the valid neighboring squares (up, down, left, right or, diagonals) at each move.\n",
    "- The king **cannot** move outside of the board.\n",
    "- The probability of moving to a black square is twice that of moving to a white square.\n",
    "\n",
    "Below are two examples of the king's possible moves with the transition probabilities, rounded to two decimal places."
   ]
  },
  {
   "cell_type": "markdown",
   "metadata": {},
   "source": [
    "![title](chessboard_1.png)\n",
    "![title](chessboard_2.png)\n"
   ]
  },
  {
   "cell_type": "markdown",
   "metadata": {},
   "source": [
    "**1.1** Create a function that takes as input the position of the king as an array of size 2 and returns the position of the king after one move following the process described above. The first element of the position should represent the column (0 for A, 1 for B, and so on) and the second element the line (0 for line 1, 1 for line 2, and so on). You may use python loops. In your code, do **not** compute the full transition matrix.\n",
    "\n",
    "Hint: It can be helpful to decompose the task by creating a function that determines the color of a given square and a function that gives the neighbors of a given square."
   ]
  },
  {
   "cell_type": "code",
   "execution_count": 2,
   "metadata": {},
   "outputs": [],
   "source": [
    "# Your code here:"
   ]
  },
  {
   "cell_type": "markdown",
   "metadata": {},
   "source": [
    "**1.2** Estimate the probability of being on each square after 2 moves starting from position A1. To do this, run 10'000 simulations using your code from **1.1**. You can use python loops. Print the estimated probability of the king being in A1, B1 and C3 after 2 moves."
   ]
  },
  {
   "cell_type": "code",
   "execution_count": null,
   "metadata": {},
   "outputs": [],
   "source": [
    "# Your code here:"
   ]
  },
  {
   "cell_type": "markdown",
   "metadata": {},
   "source": [
    "**1.3** Create the transition matrix $T$. It should be a $64\\times 64$ numpy array, where the indices go over all possible squares of the chessboard in the following order: A1, A2, ..., A8, B1, B2, ..., B8, C1, ..., H1, H2, ..., H8. The element $T_{i,j}$ indicates the probability to go from square $j$ to square $i$. You may use python loops. Print the sum of each column of the matrix you obtain."
   ]
  },
  {
   "cell_type": "code",
   "execution_count": 5,
   "metadata": {},
   "outputs": [],
   "source": [
    "# Your code here"
   ]
  },
  {
   "cell_type": "markdown",
   "metadata": {},
   "source": [
    "**1.4** Suppose the king starts in A1. Print the probability of being on each square after 2 moves (it should be an array of size $64\\times 1$ containing the probability to be on each square following the same ordering as above). The output of your print may be truncated. To do the calculation, use the transition matrix you created in **1.3**, and do not use python loops. Your code should fit in a few lines."
   ]
  },
  {
   "cell_type": "code",
   "execution_count": 1,
   "metadata": {},
   "outputs": [],
   "source": [
    "# Your code here"
   ]
  },
  {
   "cell_type": "markdown",
   "metadata": {},
   "source": [
    "**1.5** Obtain the stationary distribution of the Markov chain by computing the eigenvector associated to the eigenvalue 1 of the transition matrix. Normalize the eigenvector as needed to ensure it represents a valid probability distribution. Visualize the distribution using the code provided below."
   ]
  },
  {
   "cell_type": "code",
   "execution_count": 8,
   "metadata": {},
   "outputs": [],
   "source": [
    "def visualize_distribution(stationary_dist):\n",
    "    \"\"\"\n",
    "    Visualize the stationary distribution as a heatmap on the chessboard. The input is an array of size 64x1.\n",
    "    \"\"\"\n",
    "    stationary_dist.reshape((8, 8))\n",
    "    print(stationary_dist.reshape(8,8).shape)\n",
    "    plt.figure(figsize=(8, 8))\n",
    "    plt.imshow(stationary_dist.reshape((8,8)).T, cmap='gray_r', interpolation= \"nearest\", alpha=0.5,origin='upper')\n",
    "    plt.colorbar(label=\"Probability\")\n",
    "    plt.title(\"Stationary Distribution on Chessboard\")\n",
    "    plt.xticks(range(8), [chr(i) for i in range(65, 73)])\n",
    "    plt.yticks(range(8), range(1, 9))\n",
    "    plt.gca()\n",
    "    plt.show()"
   ]
  },
  {
   "cell_type": "code",
   "execution_count": 9,
   "metadata": {},
   "outputs": [],
   "source": [
    "# Your code here"
   ]
  },
  {
   "cell_type": "markdown",
   "metadata": {},
   "source": [
    "**1.6** Compute and print the convergence time $\\tau=-1/\\text{log}(\\lambda_2)$, where $\\lambda_2$ is the second largest eigenvalue."
   ]
  },
  {
   "cell_type": "code",
   "execution_count": 11,
   "metadata": {},
   "outputs": [],
   "source": [
    "# Your code here"
   ]
  },
  {
   "cell_type": "markdown",
   "metadata": {},
   "source": [
    "**1.7** As seen in the lecture, we can estimate that after $3\\tau$ moves the position of the king should be close to being sampled from the stationary distribution. Run $50'000$ simulations of $3\\tau$ moves (rounded to the nearest integer) and, at each move, compute the estimated distribution over the possible positions. The inital position of the king should be taken uniformly over all the possible positions independently for each simulation. You may use python loops.\n",
    "\n",
    " Plot the euclidian norm of the difference between the estimated distribution and the stationary distribution obtained in **1.5** as a function of the number of moves. The euclidian norm of the difference is $\\sqrt{\\sum_{i}(\\pi_i^{st}-\\pi_i^t)^2}$, where $\\pi_i^{st}$ is the probability to be on square $i$ for the stationary distribution, $\\pi_i^t$ the estimated probability with the simulations to be on square $i$ after $t$ steps, and the sum is over all possible positions of the chessboard. Additionally, compute the euclidian norm of the difference between the estimated distribution from $50'000$ samples drawn randomly from the true stationary distribution (found in **1.5**) and the stationary distribution itself. Plot this value as a horizontal line on the same plot. For this, do not use a python loop. Hint: use `np.random.choice`.\n",
    " \n",
    "  From this plot, estimate visually after how many moves the distribution stabilizes. Compare to the convergence time $\\tau$ computed in **1.6**. Do you need to go through each squares of the chessboard at least once to sample from the stationary distribution ?"
   ]
  },
  {
   "cell_type": "code",
   "execution_count": 13,
   "metadata": {},
   "outputs": [],
   "source": [
    "# Your code here:"
   ]
  },
  {
   "cell_type": "markdown",
   "metadata": {},
   "source": [
    "Your answer here:"
   ]
  },
  {
   "cell_type": "markdown",
   "metadata": {},
   "source": [
    "## Exercise 2: Sampling hard spheres in 1 dimension"
   ]
  },
  {
   "cell_type": "markdown",
   "metadata": {},
   "source": [
    "In this exercise, we want to sample from the uniform distribution of $K$ hard spheres on the 1-dimensional interval $[0,L]$. Calling the spheres \"hard\" means that they cannot overlap in the range of their radius $R$ with other spheres or the border. The position of the center of the sphere $i$ is denoted $x_i\\in \\mathbb{R}$. This is illustrated in the figure below for $K=2$ spheres, where the first configuration is a valid configuration, and the second and third examples are invalid configurations (in the 2nd a sphere overlaps the border, and in the third the 2 spheres overlap).\n",
    "\n",
    "Sampling uniformly means that, for the allowed position $x_1, x_2, ..., x_K$, the joint probability density $\\rho(x_1, x_2, ..., x_K)=c$ is a constant, and is $0$ for the positions that are not allowed."
   ]
  },
  {
   "cell_type": "markdown",
   "metadata": {},
   "source": [
    "![title](hard_spheres.png)"
   ]
  },
  {
   "cell_type": "markdown",
   "metadata": {},
   "source": [
    "![](hard-spheres.png)"
   ]
  },
  {
   "cell_type": "markdown",
   "metadata": {},
   "source": [
    "**2.1** Write the mathematical condition such that the spheres do not overlap the border."
   ]
  },
  {
   "cell_type": "markdown",
   "metadata": {},
   "source": [
    "Your answer here"
   ]
  },
  {
   "cell_type": "markdown",
   "metadata": {},
   "source": [
    "**2.2** Write the mathematical condition such that each sphere does not overlap with other spheres."
   ]
  },
  {
   "cell_type": "markdown",
   "metadata": {},
   "source": [
    "Your answer here"
   ]
  },
  {
   "cell_type": "markdown",
   "metadata": {},
   "source": [
    "We will now consider the case with $K=2$ spheres.\n",
    "\n",
    "**2.3** Write a function that takes as input a position of the sphere $x$, the radius of the sphere $R$ and the length of the interval $L$ and returns true if the sphere does **not** overlap with the border, and false in other cases."
   ]
  },
  {
   "cell_type": "code",
   "execution_count": 17,
   "metadata": {},
   "outputs": [],
   "source": [
    "# Your code here"
   ]
  },
  {
   "cell_type": "markdown",
   "metadata": {},
   "source": [
    "**2.4** Write a function that takes as input two position of the spheres $x_1$, $x_2$ and the radius of the sphere $R$ and returns true if the spheres do **not** overlap, and false in other cases."
   ]
  },
  {
   "cell_type": "code",
   "execution_count": 19,
   "metadata": {},
   "outputs": [],
   "source": [
    "# Your code here"
   ]
  },
  {
   "cell_type": "markdown",
   "metadata": {},
   "source": [
    "**2.5** We consider the following sampling algorithm (algorithm A):\n",
    "1. Sample $x_1$ from the uniform distribution of positions that do not overlap with the border.\n",
    "2. Sample $x_2$ uniformly from the positions that do not overlap with the border and with the first sphere.\n",
    "3. Return $x_1$ and $x_2$\n",
    "\n",
    "Code a function that samples $N$ positions using algorithm A. Your function should take as input the number of desired samples $N$, the length of the interval $L$ and the radius of the spheres $R$. The output should be a numpy array of shape (N,2). You will not be penalized by the use of python loops.\n"
   ]
  },
  {
   "cell_type": "code",
   "execution_count": 21,
   "metadata": {},
   "outputs": [],
   "source": [
    "# Your code here"
   ]
  },
  {
   "cell_type": "markdown",
   "metadata": {},
   "source": [
    "**2.6** Consider an alternative sampling algorithm (algorithm B):\n",
    "1. Generate $x_1$ and $x_2$ from the uniform distribution of positions that do not overlap with the border.\n",
    "2. If the two sphere with position $x_1$ and $x_2$ do not overlap, return $x_1$ and $x_2$. Otherwise, start again from step 1.\n",
    "\n",
    "Code a function that samples $N$ positions using algorithm B. Your function should take as input the number of desired samples $N$, the length of the interval $L$ and the radius of the spheres $R$. The output should be a numpy array of shape (N,2). You will not be penalized by the use of python loops.\n"
   ]
  },
  {
   "cell_type": "code",
   "execution_count": 24,
   "metadata": {},
   "outputs": [],
   "source": [
    "# Your solution here"
   ]
  },
  {
   "cell_type": "markdown",
   "metadata": {},
   "source": [
    "**2.7** Sample $N=10^6$ positions using algorithm A and B with parameters $L=1$ and $R=0.1$. Plot a 2D histogram to visualize the estimated joint density $\\rho(x_1, x_2)$. The position $x_1$ should be on the x-axis, the position $x_2$ on the y-axis, and the color should indicate the density. The plotted range of $x_1$ and $x_2$ should be $[0,L]$. You should have one figure for algorithm A and one figure for algorithm B. Plot these two figures side by side (for example using `plt.subplot`). Choose an appropriate number of bins for the histogram, and label the figures appropriatly."
   ]
  },
  {
   "cell_type": "code",
   "execution_count": 26,
   "metadata": {},
   "outputs": [],
   "source": [
    "# Your solution here"
   ]
  },
  {
   "cell_type": "markdown",
   "metadata": {},
   "source": [
    "**2.8** Based on your figure from **1.7**, does algorithm A generate uniform samples (i.e. each of the allowed pairs $(x_1, x_2)$ is equiprobable) ? Does algorithm B generate uniform samples ? Justify briefly. "
   ]
  },
  {
   "cell_type": "markdown",
   "metadata": {},
   "source": [
    "Your answer here:"
   ]
  },
  {
   "cell_type": "markdown",
   "metadata": {},
   "source": [
    "**2.9** Plot, on the same figure, a 1D histogram of the estimated marginal probability densities $\\rho(x_1)$ of $x_1$ and $\\rho(x_2)$ of $x_2$ obtained from the $10^6$ samples from **2.7**. The density of $x_1$ should be blue and the density of $x_2$ red. Do this for the samples obtained for algorithm A and algorithm B, and plot both figures side by side (again, for this you can use `subplot`). Label the figures appropriatly."
   ]
  },
  {
   "cell_type": "code",
   "execution_count": 29,
   "metadata": {},
   "outputs": [],
   "source": [
    "# Your solution here"
   ]
  },
  {
   "cell_type": "markdown",
   "metadata": {},
   "source": [
    "**2.10** Based on the previous figure, are the marginal densities $\\rho(x_1)$ and $\\rho(x_2)$ uniform ? Answer for both the case of algorithm A and B."
   ]
  },
  {
   "cell_type": "markdown",
   "metadata": {},
   "source": [
    "Your answer here:"
   ]
  },
  {
   "cell_type": "markdown",
   "metadata": {},
   "source": [
    "We will now consider the general case with K spheres.\n",
    "\n",
    "**2.11** Consider the following algorithm (algorithm C):\n",
    "1. Sample $y_i$ uniformly from the interval $[0, L-2KR]$ for $i=1, ..., K$\n",
    "2. Order the $y_i$ in ascending order. We denote the ordering of the $y_i$ as $y_1'\\leq y_2'\\leq...\\leq y_K'$.\n",
    "3. Return $x_i=y_i'+(2i-1)R$ for $i=1,...,K$\n",
    "\n",
    "\n",
    "Implement algorithm C, which should return a $N\\times K$ numpy array containing $N$ samples. Your code should have no python loop."
   ]
  },
  {
   "cell_type": "code",
   "execution_count": 31,
   "metadata": {},
   "outputs": [],
   "source": [
    "# Your answer here"
   ]
  },
  {
   "cell_type": "markdown",
   "metadata": {},
   "source": [
    "**2.12** Is algorithm C more efficient than algorithm B ? Briefly justify. Only a qualitative justification is needed."
   ]
  },
  {
   "cell_type": "markdown",
   "metadata": {},
   "source": [
    "Your answer here:"
   ]
  },
  {
   "cell_type": "markdown",
   "metadata": {},
   "source": [
    "**2.13** Consider $K=2$. Sample $N=10^6$ pairs of positions. Plot the histogram for the estimated marginal probability $\\rho(x)$. Label it appropriatly. Is your figure closer to the histogram of algorithm A or B ? \n",
    "\n",
    "Important note: algorithm C as described returns the _ordered_ positions of the spheres. Thus, either:\n",
    "- Swap $x_1$ and $x_2$ with 50% probability for each sample and plot your estimation of $\\rho(x_1)$ and $\\rho(x_2)$ as done in **1.9**\n",
    "- OR plot the estimation of $\\rho(x)$, where you use the obtained $x_1$ as well as $x_2$ to estimate $\\rho(x)$. Hint: in this case flatten the result."
   ]
  },
  {
   "cell_type": "code",
   "execution_count": 33,
   "metadata": {},
   "outputs": [],
   "source": [
    "# Your answer here"
   ]
  },
  {
   "cell_type": "markdown",
   "metadata": {},
   "source": [
    "Your answer here"
   ]
  },
  {
   "cell_type": "markdown",
   "metadata": {},
   "source": [
    "**2.14** Consider the case $K=15$, $L=2$, $R=0.05$ and $N=10^6$. Plot a histogram of the estimated marginal probability density $\\rho(x)$ obtained with algorithm C. Label it appropriatly. \n",
    "\n",
    "Note: similarly as above, the output of algorithm C are the _ordered_ positions. As the spheres are the same, use all the sampled position to plot the density."
   ]
  },
  {
   "cell_type": "code",
   "execution_count": 35,
   "metadata": {},
   "outputs": [],
   "source": [
    "# Your answer here:"
   ]
  }
 ],
 "metadata": {
  "kernelspec": {
   "display_name": "DL_env",
   "language": "python",
   "name": "python3"
  },
  "language_info": {
   "codemirror_mode": {
    "name": "ipython",
    "version": 3
   },
   "file_extension": ".py",
   "mimetype": "text/x-python",
   "name": "python",
   "nbconvert_exporter": "python",
   "pygments_lexer": "ipython3",
   "version": "3.8.19"
  }
 },
 "nbformat": 4,
 "nbformat_minor": 2
}
