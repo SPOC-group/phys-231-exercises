{
 "cells": [
  {
   "cell_type": "markdown",
   "id": "3a21b116",
   "metadata": {},
   "source": [
    "# Homework 12: Brownian motion, diffusion and sampling with random walks"
   ]
  },
  {
   "cell_type": "markdown",
   "id": "715857b9",
   "metadata": {},
   "source": [
    "In this exercise, you will apply some of the concepts seen in lecture 11 and 12. In exercise 1, you will numerically approximate the solution to the diffusion equation from random walks and compare it to the analytical solution. Exercise 2 is a simple illustration of the curse of dimensionality. In exercise 3, you will estimate $\\pi$ with Markov chains."
   ]
  },
  {
   "cell_type": "code",
   "execution_count": 1,
   "id": "2f4315ed",
   "metadata": {},
   "outputs": [],
   "source": [
    "import numpy as np\n",
    "import matplotlib.pyplot as plt"
   ]
  },
  {
   "cell_type": "markdown",
   "id": "e1122158",
   "metadata": {},
   "source": [
    "# Exercise 1: Brownian motion and Diffusion"
   ]
  },
  {
   "cell_type": "markdown",
   "id": "e771ab27",
   "metadata": {},
   "source": [
    "In lecture 11, you saw dynamics of the form\n",
    "$$\n",
    "x(t+\\tau)=x(t)+\\Delta\n",
    "$$\n",
    "with $\\Delta$ drawn i.i.d. at each time step from a given distribution. This dynamics gives rise to the diffusion equation\n",
    "$$\n",
    "\\frac{\\partial \\rho}{\\partial t}(x,t)=D \\frac{\\partial^2\\rho}{\\partial x^2}(x,t)\\,\\text{with}\\,\\, D=\\frac{\\text{Var}(\\Delta)}{2\\tau}.\n",
    "$$\n",
    "In this exercise, we will find a numerical solution to the diffusion equation by estimating $\\rho$ from random walks."
   ]
  },
  {
   "cell_type": "markdown",
   "id": "d58e5411",
   "metadata": {},
   "source": [
    "**1.1** Consider a particle in 1 dimension. Set $\\tau=1$, the discrete dynamics of the particle is then given by\n",
    "$$\n",
    "x(t+1)=x(t)+\\Delta.\n",
    "$$\n",
    "Suppose that $\\Delta=\\pm 1$ with equal probability and independent of the time. Code a function that performs this random walk and returns an array of the position of a particle after each time step for a maximum of  $T=1000$ time steps. Initialize the position at $x(t=0)=0$. Repeat the experiment 3-5 times and plot the obtained trajectories on a graph with the time on the x-axis and the position on the y-axis.\n",
    "\n",
    "Hint: To generate $\\Delta$ you can define a random number generator using for instance `rng = np.random.default_rng()` and then use the function `rng.choice`."
   ]
  },
  {
   "cell_type": "code",
   "execution_count": 2,
   "id": "5bd6b504",
   "metadata": {},
   "outputs": [],
   "source": [
    "# Your solution here:"
   ]
  },
  {
   "cell_type": "markdown",
   "id": "1507adfa",
   "metadata": {},
   "source": [
    "**1.2** Do the same but now $\\Delta$ is sampled from a gaussian with mean $0$ and standard deviation $1$. Compare qualitatively to the previous random walk: do the figures look the same ?"
   ]
  },
  {
   "cell_type": "code",
   "execution_count": 7,
   "id": "160bf217",
   "metadata": {},
   "outputs": [],
   "source": [
    "# Your solution here:"
   ]
  },
  {
   "cell_type": "markdown",
   "id": "544b2a30",
   "metadata": {},
   "source": [
    "**1.3** We now want to sample the distribution $\\rho$ with $N$ particles. Code a function that returns an array of size $N\\times T$ representing the position of the $N$ particles after each timestep. $N$ and $T$ should be inputs of the function. $\\Delta$ should be sampled from a uniform distribution between $-1$ and $1$. Initialize the position of each particle at $x=0$."
   ]
  },
  {
   "cell_type": "code",
   "execution_count": 11,
   "id": "2b1eaeac",
   "metadata": {},
   "outputs": [],
   "source": [
    "# Your solution here:"
   ]
  },
  {
   "cell_type": "markdown",
   "id": "f09fcdb7",
   "metadata": {},
   "source": [
    "**1.4** Using your previously defined function, plot the distribution of the positions between $-10$ and $10$ for $N=10000$ particles using `plt.histogram` for $t=1,2,5,10$. Do a different figure for each value of $t$. Fix the y-axis so that you can compare the different figures. Additionnaly, plot the analytical solution of the diffusion equation \n",
    "$$\n",
    "\\rho(x,t)=\\frac{1}{\\sqrt{4 \\pi D t}}\\text{exp}(-\\frac{x^2}{4Dt}), \\,D=\\frac{\\text{Var}(\\Delta)}{2\\tau}\n",
    "$$\n",
    "on top of the histograms. Recall that in our case $\\tau=1$.\n",
    "\n",
    "Hint: The variance for the uniform distribution between $-1$ and $1$ is $1/3$."
   ]
  },
  {
   "cell_type": "code",
   "execution_count": 13,
   "id": "1a4bf9ec",
   "metadata": {},
   "outputs": [],
   "source": [
    "# Your solution here:"
   ]
  },
  {
   "cell_type": "markdown",
   "id": "0780c1de",
   "metadata": {},
   "source": [
    "**1.5** Plot the empirical standard deviation of the positions of the particles as a function of time for $T=100$ in a log-log scale. Also plot the standard deviation $\\sqrt{2Dt}$ from the analytical solution, and check that they are the same."
   ]
  },
  {
   "cell_type": "code",
   "execution_count": 17,
   "id": "303c862e",
   "metadata": {},
   "outputs": [],
   "source": [
    "# Your solution here:"
   ]
  },
  {
   "cell_type": "markdown",
   "id": "4dd3df27",
   "metadata": {},
   "source": [
    "**1.6** Repeat 1.4 and 1.5 but this time with $\\Delta=\\pm 1$ with equal probability. Be careful when choosing the bins and weights of the histogram to take into account the discrete space of the problem. Also plot the result for $t=99$ (adapt the xlim if needed)."
   ]
  },
  {
   "cell_type": "code",
   "execution_count": 19,
   "id": "c0b4db44",
   "metadata": {},
   "outputs": [],
   "source": [
    "# Your solution here:"
   ]
  },
  {
   "cell_type": "markdown",
   "id": "10f1a213-23cc-4514-9dc9-f707fb59fd47",
   "metadata": {},
   "source": [
    "# Exercise 2: Curse of dimensionality"
   ]
  },
  {
   "cell_type": "markdown",
   "id": "854de615-11f4-4219-a4b9-33922a4102a0",
   "metadata": {},
   "source": [
    "In this exercise, we present the curse of dimensionality with a simple example."
   ]
  },
  {
   "cell_type": "markdown",
   "id": "0920f29e",
   "metadata": {},
   "source": [
    "**2.1** Consider a hypercube with side of lengh $0.9$ and a hypercube with side of length $1$. What is the ratio of the volume of the small hypercube compared to the large hypercube for $d=1,2,5,10, 50$ ?"
   ]
  },
  {
   "cell_type": "code",
   "execution_count": 25,
   "id": "24d58f6b",
   "metadata": {},
   "outputs": [],
   "source": [
    "# Your solution here:"
   ]
  },
  {
   "cell_type": "markdown",
   "id": "d4d5513e",
   "metadata": {},
   "source": [
    "# Exercise 3: Estimating $\\pi$ by sampling the square with Markov chains."
   ]
  },
  {
   "cell_type": "markdown",
   "id": "946d3275",
   "metadata": {},
   "source": [
    "In exercise 8 you estimated $\\pi$ by sampling points uniformly on the square and counting the number of points that fell in a circle. In this exercise, we will solve the same problem using Markov chains."
   ]
  },
  {
   "cell_type": "markdown",
   "id": "186b7708",
   "metadata": {},
   "source": [
    "**3.1** We want to sample points uniformly on a square to estimate $\\pi$ by using the ratio of points inside and outside the unit circle. We will first try to solve this problem the **wrong way**, but perhaps more intuitive way. We use a Markov chain to sample the points. The chain $(\\mathbf{x}(t=0), \\mathbf{x}(t=1), ..., \\mathbf{x}(t=T))$ has the following behavior:\n",
    "1. Initialize the position of the walker in $\\mathbf{x}(t=0)=(1,1)$.\n",
    "2. Draw a step $\\mathbf{\\Delta} =(\\Delta_x , \\Delta_y )$ from a given distribution.\n",
    "   - If the step brings the walker outside of the square, resample $\\mathbf{\\Delta} =(\\Delta_x , \\Delta_y )$ and repeat from step 2.\n",
    "   - Otherwise, the walker moves and the new position is $\\mathbf{x}(t+1)=\\mathbf{x}(t)+\\mathbf{\\Delta}$\n",
    "3. Sample the point $\\mathbf{x}(t+1)$ **(i.e. we sample only when the walker moved)**.\n",
    "4. Repeat from step 2 until $T$ is reached.\n",
    "   \n",
    "Implement this algorithm with $\\Delta_x$ and $\\Delta_y$ sampled uniformly between $-0.1$ and $0.1$. The algorithm should output the chain as a $(T+1)\\times 2$ array and the total number of points $N_{in}$ inside the unit circle until $t$ as an array of size $T$.\n"
   ]
  },
  {
   "cell_type": "code",
   "execution_count": 27,
   "id": "a6f5b406",
   "metadata": {},
   "outputs": [],
   "source": [
    "# Your solution here:"
   ]
  },
  {
   "cell_type": "markdown",
   "id": "c4e614a9",
   "metadata": {},
   "source": [
    "**3.2** Simulate $3$ chains with $T=10^5$ and plot your estimation of $\\pi$ after each step for each of the $3$ chains. The estimation of $\\pi$ after $t$ steps is given by\n",
    "\\begin{equation}\n",
    "    \\pi (t) \\approx \\frac{4 N_{in}}{t}.\n",
    "\\end{equation}\n",
    "Also draw a line where the real value of $\\pi$ is. Do you find the correct value of $\\pi$ ?"
   ]
  },
  {
   "cell_type": "code",
   "execution_count": 52,
   "id": "28c3c967-a0b0-466b-b270-62562fcb7e85",
   "metadata": {},
   "outputs": [],
   "source": [
    "# Your solution here:"
   ]
  },
  {
   "cell_type": "markdown",
   "id": "86d3cb31",
   "metadata": {},
   "source": [
    "**3.3** We will now do it the **correct way**. Consider the following algorithm, which is the same as before except for the fact that we sample the point whether the walker moved or not:\n",
    "1. Initialize the position of the walker in $\\mathbf{x}(t=0)=(1,1)$.\n",
    "2. Draw a step $\\mathbf{\\Delta} =(\\Delta_x , \\Delta_y )$ from a given distribution.\n",
    "   - If the step brings the walker outside of the square, the walker doesn't move: $\\mathbf{x}(t+1)=\\mathbf{x}(t)$.\n",
    "   - Otherwise, the walker moves and the new position is $\\mathbf{x}(t+1)=\\mathbf{x}(t)+\\mathbf{\\Delta}$\n",
    "3. Sample the point $\\mathbf{x}(t+1)$ **whether the walker moved or not**.\n",
    "4. Repeat from step 2 until $T$ is reached.\n",
    "   \n",
    "Implement this algorithm with $\\Delta_x$ and $\\Delta_y$ sampled uniformly between $-0.1$ and $0.1$. The algorithm should output the chain as a $(T+1)\\times 2$ array and the total number of points inside the circle until $t$ as an array of size $T$. Additionnaly, your function should also output an array of length $T$ containing $1$ or $0$ if the walker is inside or outside the circle at time $t$ (this will be useful for the rest of the exercise).\n"
   ]
  },
  {
   "cell_type": "code",
   "execution_count": 31,
   "id": "e112ca7f",
   "metadata": {},
   "outputs": [],
   "source": [
    "# Your solution here"
   ]
  },
  {
   "cell_type": "markdown",
   "id": "7afcb554",
   "metadata": {},
   "source": [
    "**3.4** Apply your algorithm for $T=300$ steps and plot the obtained chain. Set the aspect ratio to 'equal' to have a better visualization, and optionnaly also plot the unit circle."
   ]
  },
  {
   "cell_type": "code",
   "execution_count": 33,
   "id": "ab9550cb",
   "metadata": {},
   "outputs": [],
   "source": [
    "# Your solution here:"
   ]
  },
  {
   "cell_type": "markdown",
   "id": "112737c1",
   "metadata": {},
   "source": [
    "**3.5** Repeat 3.2 with the new algorithm. This time it should converge to $\\pi$."
   ]
  },
  {
   "cell_type": "code",
   "execution_count": 36,
   "id": "32502728",
   "metadata": {},
   "outputs": [],
   "source": [
    "# Your solution here:"
   ]
  },
  {
   "cell_type": "markdown",
   "id": "0748630a",
   "metadata": {},
   "source": [
    "**3.6** Do the same but this time sample $\\Delta_y$ from a uniform distribution between $-1$ and $1$ (while keeping $\\Delta_x$ uniform between $-0.1$ and $0.1$). Do you still converge to $\\pi$ ?"
   ]
  },
  {
   "cell_type": "code",
   "execution_count": 39,
   "id": "cd2fd5af",
   "metadata": {},
   "outputs": [],
   "source": [
    "# Your solution here:"
   ]
  },
  {
   "cell_type": "markdown",
   "id": "f5d5b6d7",
   "metadata": {},
   "source": [
    "**3.7** We now discuss how to estimate the error on the value of $\\pi$. Consider again that $\\Delta_x$ and $\\Delta_y$ are sampled uniformly between $-0.1$ and $0.1$. Run a markov chain of length $T=10^5$ steps. Suppose that each point of the random walk is sampled i.i.d uniformly on the square. Give the obtained value of $\\pi$ and its error. Recall that you can estimate the error using $\\frac{1}{\\sqrt{T}} s$ where $s^2$ is the unbiased empirical estimator of the  variance (see ex. 1.1 of homework 9 if you have doubts on how to compute the error). Alternatively you can also use the obtained variance from section 8.2 of the lecture notes. Is the true value of $\\pi$ inside the error estimate ? Is the obtained error reasonable to you ?"
   ]
  },
  {
   "cell_type": "code",
   "execution_count": 48,
   "id": "5fe5cc5c",
   "metadata": {},
   "outputs": [],
   "source": [
    "# Your solution here:"
   ]
  },
  {
   "cell_type": "markdown",
   "id": "e3e22a2e",
   "metadata": {},
   "source": [
    "**3.8** We can obtain a better estimation of the error on $\\pi$ by running multiple Markov chains and computing an estimation of $\\pi$ for each of them. If the chains are long enough, then the obtained values for the different chains are i.i.d. Compute the mean value of $\\pi$ after $T=10^4$ steps for $k=10$ runs and its error. We now compute the error as $\\frac{1}{\\sqrt{k}} s$ where $s^2$ is the unbiased empirical estimator of the  variance of our $k$ values of $\\pi$."
   ]
  },
  {
   "cell_type": "code",
   "execution_count": 50,
   "id": "44aac754",
   "metadata": {},
   "outputs": [],
   "source": [
    "# Your solution here:"
   ]
  }
 ],
 "metadata": {
  "kernelspec": {
   "display_name": "Python 3",
   "language": "python",
   "name": "python3"
  },
  "language_info": {
   "codemirror_mode": {
    "name": "ipython",
    "version": 3
   },
   "file_extension": ".py",
   "mimetype": "text/x-python",
   "name": "python",
   "nbconvert_exporter": "python",
   "pygments_lexer": "ipython3",
   "version": "3.8.18"
  },
  "unianalytics_cell_mapping": [
   [
    "3a21b116",
    "3a21b116"
   ],
   [
    "715857b9",
    "715857b9"
   ],
   [
    "2f4315ed",
    "2f4315ed"
   ],
   [
    "e1122158",
    "e1122158"
   ],
   [
    "e771ab27",
    "e771ab27"
   ],
   [
    "d58e5411",
    "d58e5411"
   ],
   [
    "5bd6b504",
    "5bd6b504"
   ],
   [
    "1507adfa",
    "1507adfa"
   ],
   [
    "160bf217",
    "160bf217"
   ],
   [
    "544b2a30",
    "544b2a30"
   ],
   [
    "2b1eaeac",
    "2b1eaeac"
   ],
   [
    "f09fcdb7",
    "f09fcdb7"
   ],
   [
    "1a4bf9ec",
    "1a4bf9ec"
   ],
   [
    "0780c1de",
    "0780c1de"
   ],
   [
    "303c862e",
    "303c862e"
   ],
   [
    "4dd3df27",
    "4dd3df27"
   ],
   [
    "c0b4db44",
    "c0b4db44"
   ],
   [
    "10f1a213-23cc-4514-9dc9-f707fb59fd47",
    "10f1a213-23cc-4514-9dc9-f707fb59fd47"
   ],
   [
    "854de615-11f4-4219-a4b9-33922a4102a0",
    "854de615-11f4-4219-a4b9-33922a4102a0"
   ],
   [
    "0920f29e",
    "0920f29e"
   ],
   [
    "24d58f6b",
    "24d58f6b"
   ],
   [
    "d4d5513e",
    "d4d5513e"
   ],
   [
    "946d3275",
    "946d3275"
   ],
   [
    "186b7708",
    "186b7708"
   ],
   [
    "a6f5b406",
    "a6f5b406"
   ],
   [
    "c4e614a9",
    "c4e614a9"
   ],
   [
    "28c3c967-a0b0-466b-b270-62562fcb7e85",
    "28c3c967-a0b0-466b-b270-62562fcb7e85"
   ],
   [
    "86d3cb31",
    "86d3cb31"
   ],
   [
    "e112ca7f",
    "e112ca7f"
   ],
   [
    "7afcb554",
    "7afcb554"
   ],
   [
    "ab9550cb",
    "ab9550cb"
   ],
   [
    "112737c1",
    "112737c1"
   ],
   [
    "32502728",
    "32502728"
   ],
   [
    "0748630a",
    "0748630a"
   ],
   [
    "cd2fd5af",
    "cd2fd5af"
   ],
   [
    "f5d5b6d7",
    "f5d5b6d7"
   ],
   [
    "5fe5cc5c",
    "5fe5cc5c"
   ],
   [
    "e3e22a2e",
    "e3e22a2e"
   ],
   [
    "44aac754",
    "44aac754"
   ]
  ],
  "unianalytics_notebook_id": "3fd4c237-97c9-477c-810e-a857e94314a6"
 },
 "nbformat": 4,
 "nbformat_minor": 5
}
