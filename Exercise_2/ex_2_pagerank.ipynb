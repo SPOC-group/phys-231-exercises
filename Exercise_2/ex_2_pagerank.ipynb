{
 "cells": [
  {
   "cell_type": "markdown",
   "id": "741d3cc3",
   "metadata": {},
   "source": [
    "# Tutorial 2 - Page rank, plotting and more numpy gymnastics"
   ]
  },
  {
   "cell_type": "markdown",
   "id": "e0b980c8",
   "metadata": {},
   "source": [
    "In this exercise, we will implement and play with the page rank algorithm.\n",
    "As seen in the lecture, the page rank algorithm allows to take a graph (e.g. the internet graph) and rank its nodes (the websites) in order of importance, or relevance, to the rest of the graph.  Of course, we can apply the page rank algorithm also to other graphs, not only to the internet.\n",
    "\n",
    "In exercise 1, we play with the novel \"Les Miserables\". We construct the graph of co-occurencies of the characters: each character of the novel is a node of the graph (a website in the internet example) and each pair of characters is linked if they appear together in at least one scene. We will use pagerank to identify the most relevant characters of the novel.\n",
    "We will then compare the pagerank algorithm with the direct computation of the leading eigenvector using numpy's eigen-decomposition utilities.\n",
    "\n",
    "In exercise 2, we implement page rank for a much larger graph, the graph of links in the wikipedia of simple english. This will require some care in the implementation to run efficiently - for this we will use the sparse matrix format and think about how to re-express a single pagerank iteration more efficiently.\n",
    "\n",
    "Exercise 3 consists in a few theoretical questions similar to those asked in the exam.\n",
    "\n",
    "The theoretical tools used in this tutorial are those of section 1 of the lecture notes (eigenvalues, the power method and the page rank algorithm)."
   ]
  },
  {
   "cell_type": "markdown",
   "id": "6ee5ac7b",
   "metadata": {},
   "source": [
    "# Exercise 1 : Les Miserables"
   ]
  },
  {
   "cell_type": "code",
   "execution_count": null,
   "id": "352415d5",
   "metadata": {},
   "outputs": [],
   "source": [
    "# importing libraries we need later\n",
    "import numpy as np\n",
    "import matplotlib.pyplot as plt"
   ]
  },
  {
   "cell_type": "markdown",
   "id": "cf0459c1",
   "metadata": {},
   "source": [
    "## 1.a Loading the data and visualization\n",
    "For starters, we go for the dataset of co-occurences in a scene between the characters of \"Les Miserables\". This containes 77 characters and counts for every pairs if they appear together. "
   ]
  },
  {
   "cell_type": "markdown",
   "id": "ec6b77be",
   "metadata": {},
   "source": [
    "Note that in the beginning of this notebook, we already imported all the proprietary libraries we will need. You know `numpy` for arrays and vectors, but we added `matplotlib` we will use for plotting later. \n",
    "\n",
    "To load the data from Les Miserables, the TAs wrote some code to import it. Since it is not important that you read/understand it, we put the code in a separate file in this directory `utils.py`.\n",
    "\n",
    "To use the functions defined in there for data loading and visualization, we simply use:"
   ]
  },
  {
   "cell_type": "code",
   "execution_count": null,
   "id": "28346ac6",
   "metadata": {},
   "outputs": [],
   "source": [
    "# import from current directory, a function to visualize the toy graph\n",
    "from utils import load_les_miserables, plot_les_miserables"
   ]
  },
  {
   "cell_type": "markdown",
   "id": "d8c8a288",
   "metadata": {},
   "source": [
    "It is a nice way to keep code orderly and reuse it later. For more info on this, see [this Tutorial](https://www.geeksforgeeks.org/python-modules/).\n",
    "\n",
    "You can now use these functions like any other function coming from a library like numpy. You do not need to use a prefix like `np.your_function()` though, because we imported the functions directly via the `from ... import ...` statement."
   ]
  },
  {
   "cell_type": "code",
   "execution_count": null,
   "id": "947eebe6",
   "metadata": {},
   "outputs": [],
   "source": [
    "# This function returns\n",
    "# n: number of characters\n",
    "# names: of the characters\n",
    "# A: (n,n) matrix where A[i,j] counts common appearences\n",
    "n, names, A = load_les_miserables()"
   ]
  },
  {
   "cell_type": "markdown",
   "id": "66a18c25",
   "metadata": {},
   "source": [
    "- Given the indices associated to character 0 and character 17, find their names and, check whether these two co-occur in the story. Compute the number of appearances each one of them has. Feel free to use [f-strings](https://realpython.com/python-f-strings/)"
   ]
  },
  {
   "cell_type": "code",
   "execution_count": null,
   "id": "1c4e845d",
   "metadata": {},
   "outputs": [],
   "source": [
    "# TO FILL"
   ]
  },
  {
   "cell_type": "code",
   "execution_count": null,
   "id": "a3b42b90",
   "metadata": {},
   "outputs": [],
   "source": [
    "# TO FILL"
   ]
  },
  {
   "cell_type": "code",
   "execution_count": null,
   "id": "11d15cdf",
   "metadata": {},
   "outputs": [],
   "source": [
    "# TO FILL"
   ]
  },
  {
   "cell_type": "markdown",
   "id": "9f6e2899",
   "metadata": {},
   "source": [
    "To get a feeling for how the matrix looks like, we want to plot it using `plt.imshow` from the [matplotlib library](https://matplotlib.org/stable/api/_as_gen/matplotlib.pyplot.imshow.html), probably the most basic and important library for plotting in python.\n",
    "By sending commands to the `plt` module, one procedurally builds a plot.\n",
    "- Use `plt.imshow` to display the matrix $A$ and title the plot 'The adjacency matrix A'."
   ]
  },
  {
   "cell_type": "code",
   "execution_count": null,
   "id": "5e02f919",
   "metadata": {},
   "outputs": [],
   "source": [
    "# TO FILL"
   ]
  },
  {
   "cell_type": "markdown",
   "id": "5aa47f9e",
   "metadata": {},
   "source": [
    "- What property can you deduce about the network from the image ? Does this make sense given the considered data ?"
   ]
  },
  {
   "cell_type": "code",
   "execution_count": null,
   "id": "388b0a7e",
   "metadata": {},
   "outputs": [],
   "source": [
    "# TO FILL"
   ]
  },
  {
   "cell_type": "markdown",
   "id": "0c780d27",
   "metadata": {},
   "source": [
    "## 1.b Creating the page rank matrix $G$\n",
    "\n",
    "We now want to find the PageRank $w_i$ of every member $i$ of the Les Miserables cast. How can we interpret such a value? \n",
    "Essentially, $w_i$ will be high for members that have many appearences with different cast members, i.e. that are 'central' in the cast graph.\n",
    "\n",
    "To find out who these members are, let's go on to define the matrix used in the algorithm using the notation from the lecture:\n",
    "\n",
    "Recall from the lecture, the definition of the pagerank matrix $G$.\n",
    "$$\n",
    "G = (1-\\epsilon)S+\\epsilon \\frac{1}{n}\\\\\n",
    "$$\n",
    "with\n",
    "$$\n",
    "S_{ij} = A_{ij}/d_j\\quad \\mathrm{if } \\,\\,\\,d_j > 0\\ ,\\quad\n",
    "S_{ij} = 1/n\\quad \\mathrm{if }\\,\\,\\,d_j = 0\n",
    "$$\n",
    "and $A$ is the adjacency matrix of the underlying graph, so $A_{ij}=1$ if there is an link from $j$ to $i$ and it is zero otherwise.\n",
    "Since every node in our current example is connected, we can brush over the case $d_j=0$ for now."
   ]
  },
  {
   "cell_type": "code",
   "execution_count": null,
   "id": "c74ed94e",
   "metadata": {},
   "outputs": [],
   "source": [
    "# set the dampening parameter\n",
    "eps = 0.05"
   ]
  },
  {
   "cell_type": "markdown",
   "id": "182e5aea",
   "metadata": {},
   "source": [
    "Compute the outgoing edges that a node $i$ has by summing over the column $d_j = \\sum_i A_{ij}$"
   ]
  },
  {
   "cell_type": "code",
   "execution_count": null,
   "id": "2053d41b",
   "metadata": {},
   "outputs": [],
   "source": [
    "# calculate the vector degrees of size (n) which contains d_j\n",
    "degrees = A.sum(axis=0)"
   ]
  },
  {
   "cell_type": "code",
   "execution_count": null,
   "id": "50d4a2a1",
   "metadata": {},
   "outputs": [],
   "source": [
    "# the degree of node 'Woman1' and 'Javert'\n",
    "# here, using the double == gives a boolean mask, which subsequently only selects \n",
    "# entries that are true\n",
    "neigh_wmn = degrees[names=='Woman1']\n",
    "neigh_javert =  degrees[names=='Javert']\n",
    "f'Woman1 has {neigh_wmn} pair appearences, Javert has {neigh_javert} pair appearences'"
   ]
  },
  {
   "cell_type": "markdown",
   "id": "d1c836c3",
   "metadata": {},
   "source": [
    "- Now we want to compute the matrix $S$. For this, we use [broadcasting](https://numpy.org/doc/stable/user/basics.broadcasting.html)."
   ]
  },
  {
   "cell_type": "code",
   "execution_count": null,
   "id": "7cb93c31",
   "metadata": {},
   "outputs": [],
   "source": [
    "# compute the matrix S\n",
    "# s_ij = a_ij / d_j\n",
    "# TO FILL"
   ]
  },
  {
   "cell_type": "markdown",
   "id": "9124a717",
   "metadata": {},
   "source": [
    "- Propose a piece of code to check that your $S$ matrix makes sense."
   ]
  },
  {
   "cell_type": "code",
   "execution_count": null,
   "id": "7672f50f",
   "metadata": {},
   "outputs": [],
   "source": [
    "# TO FILL"
   ]
  },
  {
   "cell_type": "markdown",
   "id": "b7aac9d1",
   "metadata": {},
   "source": [
    "- Compute G from previous ingredients."
   ]
  },
  {
   "cell_type": "code",
   "execution_count": null,
   "id": "a04f34f2",
   "metadata": {},
   "outputs": [],
   "source": [
    "# compute G\n",
    "# TO FILL"
   ]
  },
  {
   "cell_type": "markdown",
   "id": "2a8240f4",
   "metadata": {},
   "source": [
    "## 1.c Running the power iteration\n",
    "\n",
    "We now have all the ingredients to run PageRank. We initialize the weight vector $w$ uniformly and then update it iteratively via $w = Gw$ until the changes per iteration are not too big (the iterations converge).\n",
    "\n",
    "We measure this change at every iteration, track it and plot the convergence."
   ]
  },
  {
   "cell_type": "markdown",
   "id": "b2e236c1",
   "metadata": {},
   "source": [
    "- Initilize $w$ uniformly with $1/n$."
   ]
  },
  {
   "cell_type": "code",
   "execution_count": null,
   "id": "bbec752d",
   "metadata": {},
   "outputs": [],
   "source": [
    "# create a vector w of length n with weight uniformly distributed\n",
    "# TO FILL"
   ]
  },
  {
   "cell_type": "markdown",
   "id": "fd2c9c8a",
   "metadata": {},
   "source": [
    "- Run the pagerank iteratively until w changes less than 1e-10 between two iterations. Keep track of the distance between the updated and old $w$ in a list, so that we can visualize it after."
   ]
  },
  {
   "cell_type": "code",
   "execution_count": null,
   "id": "c7fa514e",
   "metadata": {},
   "outputs": [],
   "source": [
    "# track distance and convergence\n",
    "dist = 1e300\n",
    "dists = []\n",
    "\n",
    "while dist > 1e-10:\n",
    "# TO FILL"
   ]
  },
  {
   "cell_type": "markdown",
   "id": "9adc3e65",
   "metadata": {},
   "source": [
    "- Plot the list of distances using `plt.plot` and label the x (time) and y (distance) axis accordingly."
   ]
  },
  {
   "cell_type": "code",
   "execution_count": null,
   "id": "e53e74bc",
   "metadata": {},
   "outputs": [],
   "source": [
    "# we plot the list of the distance values as a function of time\n",
    "plt.axhline(np.linalg.norm(w - G @ w),color='red',linestyle='dotted')\n",
    "# TO FILL\n",
    "\n",
    "plt.xlabel(\n",
    "plt.ylabel(\n",
    "plt.title("
   ]
  },
  {
   "cell_type": "markdown",
   "id": "6e177054",
   "metadata": {},
   "source": [
    "## 1.d Comparison against the `np.linalg` eigendecomposition \n",
    "\n",
    "For this we use numpy `linalg` module to compute the eigenvalues and vectors for a matrix. Since the poweriteration is computing $w$, such that $w=Gw$, we need to check for the eigenvalue $\\lambda=1$.\n",
    "\n",
    "However, $G$ may not be symmetric, so some eigenvalues may be complex. Therefore, the eigenvalue $1$ we are be looking for is the largest in complex norm."
   ]
  },
  {
   "cell_type": "code",
   "execution_count": null,
   "id": "53b0b6d4",
   "metadata": {},
   "outputs": [],
   "source": [
    "# use numpys code to do the eigenvalue decomp\n",
    "eigenvalues, eigenvectors = np.linalg.eig(G)"
   ]
  },
  {
   "cell_type": "code",
   "execution_count": null,
   "id": "708ee82d",
   "metadata": {},
   "outputs": [],
   "source": [
    "# the complex values eigenvalue and eigenvector at position 3\n",
    "# the eigenvectors are organized in a matrix, where the ith column belongs to the ith eigenvalue\n",
    "eigenvalues[3], eigenvectors[:,3]"
   ]
  },
  {
   "cell_type": "code",
   "execution_count": null,
   "id": "10de5c6a",
   "metadata": {},
   "outputs": [],
   "source": [
    "# We sort the eigenvalues by their norm, using `np.absolute`\n",
    "sorted_idx = np.argsort(np.absolute(eigenvalues))"
   ]
  },
  {
   "cell_type": "markdown",
   "id": "6322e7af",
   "metadata": {},
   "source": [
    "- Check what `np.argsort` does, and find the index from `sorted_idx` of the largest element in `eigenvalues`. Then, using this index, select the corresponding eigenvector and norm it to be a probability distribution. Then compare it to the pagerank values $w$. Do they match?"
   ]
  },
  {
   "cell_type": "code",
   "execution_count": null,
   "id": "a7e0dee8",
   "metadata": {},
   "outputs": [],
   "source": [
    "# Take the index of the largest element, now positioned a the end of the array, due to ascending order.\n",
    "idx = ... # TO FILL"
   ]
  },
  {
   "cell_type": "code",
   "execution_count": null,
   "id": "0740a673",
   "metadata": {},
   "outputs": [],
   "source": [
    "# select the respective eigenvector from the matrix\n",
    "eigv = ... # TO FILL"
   ]
  },
  {
   "cell_type": "code",
   "execution_count": null,
   "id": "faaf6ef7",
   "metadata": {},
   "outputs": [],
   "source": [
    "# norm the eigenvector to be a probability distribution, so that we can directly compare to pagerank\n",
    "eigv = ... # TO FILL"
   ]
  },
  {
   "cell_type": "code",
   "execution_count": null,
   "id": "c9202366",
   "metadata": {},
   "outputs": [],
   "source": [
    "# compare the eigenv from the eigendecomposition with the the pagerank result\n",
    "# TO FILL"
   ]
  },
  {
   "cell_type": "markdown",
   "id": "c0fd742e",
   "metadata": {},
   "source": [
    "## 1.e Interpreting the results\n",
    "\n",
    "We are looking for central characters whose interactions are central. Are these the characters that also are the main characters in the story, such as percieved by respected scholars such as ChatGPT? \n",
    "\n",
    "> Can you give me a list of the ten main characters in Les Miserables, in the form of a python list?\n",
    "\n",
    "\n",
    "\n",
    "```\n",
    "main_characters = [\n",
    "    \"Valjean\",\n",
    "    \"Javert\",\n",
    "    \"Cosette\",\n",
    "    \"Marius\",\n",
    "    \"MmeThenardier\",\n",
    "    \"Thenardier\",\n",
    "    \"Fantine\",\n",
    "    \"Gavroche\",\n",
    "    \"Enjolras\",\n",
    "    \"Myriel\"\n",
    "]\n",
    "```\n",
    "\n",
    "- To compare to those we need to extract the names of the nodes with the highest 10 page rank weights. (use `np.argsort` as in the ordering of the eigenvalues."
   ]
  },
  {
   "cell_type": "code",
   "execution_count": null,
   "id": "ba6b5349",
   "metadata": {},
   "outputs": [],
   "source": [
    "# return a sorted index by page rank weight (ascending order)\n",
    "sorted_importance = ... # TO FILL"
   ]
  },
  {
   "cell_type": "code",
   "execution_count": null,
   "id": "41e6c901",
   "metadata": {},
   "outputs": [],
   "source": [
    "# the ten most central characters are those, with the highest page rank\n",
    "ten_most_central_characters = ... # TO FILL\n",
    "list(ten_most_central_characters)"
   ]
  },
  {
   "cell_type": "markdown",
   "id": "c2e7cf11",
   "metadata": {},
   "source": [
    "... the central characters seem also be the main ones, they are interacting with one another a lot!\n",
    "\n",
    "We can also look at them in the graph view:"
   ]
  },
  {
   "cell_type": "code",
   "execution_count": null,
   "id": "07ef4ecc",
   "metadata": {},
   "outputs": [],
   "source": [
    "plot_les_miserables(highlight_names=ten_most_central_characters,layout='spring')"
   ]
  },
  {
   "cell_type": "markdown",
   "id": "2b09230d",
   "metadata": {},
   "source": [
    "- It looks like the nodes with a high page rank value have also high degree. Check this by plotting the weight $w$ and the degree $d$ against one another on a scatterplot using `plt.scatter`. Don't forget to label the axes."
   ]
  },
  {
   "cell_type": "code",
   "execution_count": null,
   "id": "0a3ff158",
   "metadata": {},
   "outputs": [],
   "source": [
    "# also, we plot the distribution of the page rank values w\n",
    "x = np.linspace(0,w.max(),30)\n",
    "y = np.linspace(0,degrees.max(),30)\n",
    "plt.plot(x,y,c='grey',linestyle='dashed')\n",
    "# TO FILL"
   ]
  },
  {
   "cell_type": "markdown",
   "id": "40503745",
   "metadata": {},
   "source": [
    "# Exercise 2: The simple wikipedia link database"
   ]
  },
  {
   "cell_type": "markdown",
   "id": "4b37312f",
   "metadata": {},
   "source": [
    "We now want to use PageRank on the [DBpedia link dataset](https://databus.dbpedia.org/dbpedia/generic/wikilinks/). We use the collection of all links between wikipedia pages that appear in the article collection of [simple english wikipedia](https://simple.wikipedia.org/wiki/Main_Page), which aims to explain things in understandable easy terms. It has ~ 1.3 Mio articles and categories, which is big - but not too big to run on a Laptop.\n",
    "\n",
    "This will help us understand what the most central (or general) articiles in this wikipedia database are.\n"
   ]
  },
  {
   "cell_type": "code",
   "execution_count": null,
   "id": "33efdccd",
   "metadata": {},
   "outputs": [],
   "source": [
    "from utils import load_simple_wikipedia\n",
    "# load the dbpedia adjacency matrix and the names of the articles\n",
    "names, A = load_simple_wikipedia()"
   ]
  },
  {
   "cell_type": "markdown",
   "id": "4f863718",
   "metadata": {},
   "source": [
    "- How many entities does the simple english wikipedia have exactly?"
   ]
  },
  {
   "cell_type": "code",
   "execution_count": null,
   "id": "757a4458",
   "metadata": {},
   "outputs": [],
   "source": [
    "n = ... # TO FILL\n",
    "n"
   ]
  },
  {
   "cell_type": "markdown",
   "id": "b9fadcda",
   "metadata": {},
   "source": [
    "## 2.a Data Inspection: Does the loaded data 'make sense'?\n",
    "\n",
    "Page # 13997 is [Electricity](https://simple.wikipedia.org/w/index.php?title=Electricity&oldid=8522069). We can use the list of names to verify this."
   ]
  },
  {
   "cell_type": "code",
   "execution_count": null,
   "id": "eb65ed47",
   "metadata": {},
   "outputs": [],
   "source": [
    "names[13997]"
   ]
  },
  {
   "cell_type": "markdown",
   "id": "f5feaf6d",
   "metadata": {},
   "source": [
    "The format of the array is now in [sparse row format](https://docs.scipy.org/doc/scipy/reference/generated/scipy.sparse.csr_array.html#scipy.sparse.csr_array), because this makes saving and computing matrix products much cheaper. You can use `type` to check the type of a variable (it is similar to a C++ class)."
   ]
  },
  {
   "cell_type": "code",
   "execution_count": null,
   "id": "4b548ace",
   "metadata": {},
   "outputs": [],
   "source": [
    "type(A)"
   ]
  },
  {
   "cell_type": "markdown",
   "id": "690a2565",
   "metadata": {},
   "source": [
    "Let's look at the pages 'Electrictiy' is linking to.\n",
    "\n",
    "The interface of the sparse matrix is slightly different than `np.array`. When we select a column, we first need to convert it back to a numpy array to use it like before."
   ]
  },
  {
   "cell_type": "code",
   "execution_count": null,
   "id": "3ed847e1",
   "metadata": {},
   "outputs": [],
   "source": [
    "type(A[:,13997].toarray())"
   ]
  },
  {
   "cell_type": "markdown",
   "id": "a339e798",
   "metadata": {},
   "source": [
    "But then it has one extra dimension."
   ]
  },
  {
   "cell_type": "code",
   "execution_count": null,
   "id": "133f3dca",
   "metadata": {},
   "outputs": [],
   "source": [
    "A[:,13997].toarray().shape"
   ]
  },
  {
   "cell_type": "markdown",
   "id": "f88d4316",
   "metadata": {},
   "source": [
    "So we squish it."
   ]
  },
  {
   "cell_type": "code",
   "execution_count": null,
   "id": "e48ecdd8",
   "metadata": {},
   "outputs": [],
   "source": [
    "A[:,13997].toarray().flatten().shape"
   ]
  },
  {
   "cell_type": "markdown",
   "id": "83692d1e",
   "metadata": {},
   "source": [
    "And then we can use it to find the names of the pages that are linked from physics (are not 0)."
   ]
  },
  {
   "cell_type": "code",
   "execution_count": null,
   "id": "b35915f8",
   "metadata": {},
   "outputs": [],
   "source": [
    "names[A[:,13997].toarray().flatten() != 0]"
   ]
  },
  {
   "cell_type": "markdown",
   "id": "0386bd30",
   "metadata": {},
   "source": [
    "- Can we similarly find the pages linking to 'Electricity'? How do the list of the terms linking to and from the main page differ?"
   ]
  },
  {
   "cell_type": "code",
   "execution_count": null,
   "id": "59b5ae25",
   "metadata": {},
   "outputs": [],
   "source": [
    "# TO FILL"
   ]
  },
  {
   "cell_type": "markdown",
   "id": "e6c6b1ad",
   "metadata": {},
   "source": [
    "Some extra questions:"
   ]
  },
  {
   "cell_type": "markdown",
   "id": "ae8fefae",
   "metadata": {},
   "source": [
    "- How many entities have no outgoing links?"
   ]
  },
  {
   "cell_type": "code",
   "execution_count": null,
   "id": "631e9cc9",
   "metadata": {},
   "outputs": [],
   "source": [
    "# TO FILL"
   ]
  },
  {
   "cell_type": "markdown",
   "id": "dfd99f4b",
   "metadata": {},
   "source": [
    "- How many entities have no incoming links?"
   ]
  },
  {
   "cell_type": "code",
   "execution_count": null,
   "id": "c33e27a6",
   "metadata": {},
   "outputs": [],
   "source": [
    "# TO FILL"
   ]
  },
  {
   "cell_type": "markdown",
   "id": "b77dae34",
   "metadata": {},
   "source": [
    "## 2.b Implementing Page Rank using sparse matrix multiplication\n",
    "\n",
    "To compute anything for wikipedia, we need to use the sparse matrix format and reexpress our PageRank matrix $G$ in an efficient way. Then you can easily process the data on a laptop. Recall that a sparse matrix has only few nonzero values. \n",
    "- We can check the percentage of nonzerovalues of A to see that this is indeed just a small fraction of the whole matrix."
   ]
  },
  {
   "cell_type": "code",
   "execution_count": null,
   "id": "ca8112ed",
   "metadata": {},
   "outputs": [],
   "source": [
    "# TO FILL"
   ]
  },
  {
   "cell_type": "markdown",
   "id": "057391d8",
   "metadata": {},
   "source": [
    "Recall that in exercise 1, we computed the matrix $G$ as follows\n",
    "$$\n",
    "G = (1-\\epsilon)S+\\epsilon \\frac{1}{n}\n",
    "$$\n",
    "$$\n",
    "S_{ij} = A_{ij}/d_j\\quad \\mathrm{if } \\,\\,\\,d_j > 0\\ ,\\quad\n",
    "S_{ij} = 1/n\\quad \\mathrm{if }\\,\\,\\,d_j = 0\n",
    "$$\n",
    "where $A$ is the adjacency matrix of the underlying graph, so $A_{ij}=1$ if there is an edge connection (link) pointing to $i$ from $j$ and it is zero if there is no link.\n",
    "Then we run the following iteration until convergence\n",
    "$$\n",
    "w_{t+1} = G w_{t}\n",
    "$$\n",
    "\n",
    "Now, since we now have ~1,000,000 nodes and a dense matrix would have 1,000,000,000,000 entries, it is not very efficient to use a dense matrix (np.array) directly. This is why we went for the CSR format for $A$ previously (and it was already in that format when we imported it because saving it is also more efficient). "
   ]
  },
  {
   "cell_type": "markdown",
   "id": "7abb13c2",
   "metadata": {},
   "source": [
    "However, in the pagerank update the matrices $S$ and $G$ are not as sparse, so it does not make sense to represent them as a sparse matrix. \n",
    "\n",
    "With a bit of thinking though, we realize that we can reformulate the computation of G at every iteration such that we only work with sparse matrices multiplcations and vector products directly.\n",
    "\n",
    "We can still rescale $\\tilde{A}=A_{ij}/d_j$ which maintains the zeros of A.\n",
    "\n",
    "\n",
    "For the iterative update $w=Gw$ instead do the following calculation, where adding scalars is adding it to every entry of the vector\n",
    "$$\n",
    "w_{t+1} = (1-\\epsilon) \\left(\\tilde{A}w_{t} + 1/n \\sum_{j | d_j = 0} w_j \\right) + \\epsilon * 1/n\n",
    "$$\n",
    "Let's construct these things step by step."
   ]
  },
  {
   "cell_type": "code",
   "execution_count": null,
   "id": "c7c5485b",
   "metadata": {},
   "outputs": [],
   "source": [
    "# First import the datatype, so that we can create a new diagonal matrix\n",
    "# which divides the column j by the outgoing degree d_j\n",
    "from scipy.sparse import csr_matrix\n",
    "\n",
    "# calculate the row sums\n",
    "row_sums = np.array(A.sum(axis=0)).flatten()\n",
    "\n",
    "# prevent divide by zero error\n",
    "row_sums[row_sums == 0.0] = 1.0\n",
    "\n",
    "# create a diagonal matrix with the reciprocals of the row sums\n",
    "division_matrix = csr_matrix((1 / row_sums, (range(len(row_sums)), range(len(row_sums)))), shape=(len(row_sums), len(row_sums)))\n",
    "\n",
    "# apply the matrix \n",
    "A_tilde = A @ division_matrix"
   ]
  },
  {
   "cell_type": "markdown",
   "id": "a8cecb15",
   "metadata": {},
   "source": [
    "- Is the 'Electricity' column in `A_tilde` properly scaled to 1?"
   ]
  },
  {
   "cell_type": "code",
   "execution_count": null,
   "id": "2dc875ab",
   "metadata": {},
   "outputs": [],
   "source": [
    "# TO FILL"
   ]
  },
  {
   "cell_type": "markdown",
   "id": "e55708ca",
   "metadata": {},
   "source": [
    "We want to build a binary mask of the $j | d_j = 0$, so we can use it in the algorithm."
   ]
  },
  {
   "cell_type": "code",
   "execution_count": null,
   "id": "7a22b3ea",
   "metadata": {},
   "outputs": [],
   "source": [
    "zero_row_mask = np.array(A_tilde.sum(axis=1)).flatten() == 0"
   ]
  },
  {
   "cell_type": "markdown",
   "id": "d8a05765",
   "metadata": {},
   "source": [
    "And now this is an implementation of the sparsity adapted computation."
   ]
  },
  {
   "cell_type": "code",
   "execution_count": null,
   "id": "935ef914",
   "metadata": {},
   "outputs": [],
   "source": [
    "# create a vector w of length n with weight uniformly distributed\n",
    "w = np.ones(n)/n\n",
    "\n",
    "# track distance and convergence\n",
    "dist = np.inf\n",
    "dists = []\n",
    "# a while loop is run, until the condition at the beginning is False\n",
    "while dist > 1e-7:\n",
    "    w_new = (1-eps) * (A_tilde@w + w[zero_row_mask].sum()*1/n) + eps * 1/n\n",
    "    dist = np.linalg.norm(w-w_new)\n",
    "    w = w_new\n",
    "    dists.append(dist)\n",
    "    \n",
    "#... should be done in a few seconds."
   ]
  },
  {
   "cell_type": "markdown",
   "id": "ec247a3c",
   "metadata": {},
   "source": [
    "## 2.c Interpreting the results\n",
    "- What are the ten most central articles? Use `np.argpartition` instead of `np.argsort`. Why is this the better choice? - check the documentation of both functions!"
   ]
  },
  {
   "cell_type": "code",
   "execution_count": null,
   "id": "8e5df96a",
   "metadata": {},
   "outputs": [],
   "source": [
    "ten_most_central_articles = # TO FILL\n",
    "list(ten_most_central_articles)"
   ]
  },
  {
   "cell_type": "markdown",
   "id": "d33b783c",
   "metadata": {},
   "source": [
    "## 2.d Bounus Question\n",
    "\n",
    "As an open bonus exercise, we want to know which of the terms 'Physics', 'Chemistry', 'Computer Science', 'Biology', 'Mathematics' is most central in simple english wikipedia. Can you extract the pagerank of these articles and compare their ranks? "
   ]
  },
  {
   "cell_type": "markdown",
   "id": "9974aa34-0d64-4be3-a646-d149343ded48",
   "metadata": {},
   "source": [
    "# Exercice 3: Theoretical questions for the exam"
   ]
  },
  {
   "cell_type": "markdown",
   "id": "df22878d-b21d-4346-9239-0a856977cf8b",
   "metadata": {},
   "source": [
    "1. Donnez la matrice d’adjacence $A \\in \\{0, 1\\}^{5\\times 5}$ du réseau de sites web donné ci-dessous. $A_{ij} = 1$ si le site web $j$\n",
    "a un lien vers le site web $i$, sinon $A_{ij} = 0$. Les indices $i$ et $j$ indiquent respectivement les lignes et les colonnes de $A$.\n",
    "\n",
    "![Image](data/graphe.png)"
   ]
  },
  {
   "cell_type": "markdown",
   "id": "f24426aa-83b5-4c5c-8052-35f43e28d199",
   "metadata": {},
   "source": [
    "2. Quel site web a le plus grand degré sortant (out-degree) ? Quel site web a le plus grand degré entrant\n",
    "(in-degree) ?"
   ]
  },
  {
   "cell_type": "markdown",
   "id": "ee996c4e-2bb9-41e8-854b-953151f37307",
   "metadata": {},
   "source": [
    "3. À quelle condition une matrice est-elle stochastique par colonnes (column-stochastic) ?"
   ]
  }
 ],
 "metadata": {
  "kernelspec": {
   "display_name": "Python 3 (ipykernel)",
   "language": "python",
   "name": "python3"
  },
  "language_info": {
   "codemirror_mode": {
    "name": "ipython",
    "version": 3
   },
   "file_extension": ".py",
   "mimetype": "text/x-python",
   "name": "python",
   "nbconvert_exporter": "python",
   "pygments_lexer": "ipython3",
   "version": "3.10.4"
  },
  "unianalytics_cell_mapping": [
   [
    "741d3cc3",
    "741d3cc3"
   ],
   [
    "e0b980c8",
    "e0b980c8"
   ],
   [
    "6ee5ac7b",
    "6ee5ac7b"
   ],
   [
    "352415d5",
    "352415d5"
   ],
   [
    "cf0459c1",
    "cf0459c1"
   ],
   [
    "ec6b77be",
    "ec6b77be"
   ],
   [
    "28346ac6",
    "28346ac6"
   ],
   [
    "d8c8a288",
    "d8c8a288"
   ],
   [
    "947eebe6",
    "947eebe6"
   ],
   [
    "66a18c25",
    "66a18c25"
   ],
   [
    "1c4e845d",
    "1c4e845d"
   ],
   [
    "a3b42b90",
    "a3b42b90"
   ],
   [
    "11d15cdf",
    "11d15cdf"
   ],
   [
    "9f6e2899",
    "9f6e2899"
   ],
   [
    "5e02f919",
    "5e02f919"
   ],
   [
    "5aa47f9e",
    "5aa47f9e"
   ],
   [
    "388b0a7e",
    "388b0a7e"
   ],
   [
    "0c780d27",
    "0c780d27"
   ],
   [
    "c74ed94e",
    "c74ed94e"
   ],
   [
    "182e5aea",
    "182e5aea"
   ],
   [
    "2053d41b",
    "2053d41b"
   ],
   [
    "50d4a2a1",
    "50d4a2a1"
   ],
   [
    "d1c836c3",
    "d1c836c3"
   ],
   [
    "7cb93c31",
    "7cb93c31"
   ],
   [
    "9124a717",
    "9124a717"
   ],
   [
    "7672f50f",
    "7672f50f"
   ],
   [
    "b7aac9d1",
    "b7aac9d1"
   ],
   [
    "a04f34f2",
    "a04f34f2"
   ],
   [
    "2a8240f4",
    "2a8240f4"
   ],
   [
    "b2e236c1",
    "b2e236c1"
   ],
   [
    "bbec752d",
    "bbec752d"
   ],
   [
    "fd2c9c8a",
    "fd2c9c8a"
   ],
   [
    "c7fa514e",
    "c7fa514e"
   ],
   [
    "9adc3e65",
    "9adc3e65"
   ],
   [
    "e53e74bc",
    "e53e74bc"
   ],
   [
    "6e177054",
    "6e177054"
   ],
   [
    "53b0b6d4",
    "53b0b6d4"
   ],
   [
    "708ee82d",
    "708ee82d"
   ],
   [
    "10de5c6a",
    "10de5c6a"
   ],
   [
    "6322e7af",
    "6322e7af"
   ],
   [
    "a7e0dee8",
    "a7e0dee8"
   ],
   [
    "0740a673",
    "0740a673"
   ],
   [
    "faaf6ef7",
    "faaf6ef7"
   ],
   [
    "c9202366",
    "c9202366"
   ],
   [
    "c0fd742e",
    "c0fd742e"
   ],
   [
    "ba6b5349",
    "ba6b5349"
   ],
   [
    "41e6c901",
    "41e6c901"
   ],
   [
    "c2e7cf11",
    "c2e7cf11"
   ],
   [
    "07ef4ecc",
    "07ef4ecc"
   ],
   [
    "2b09230d",
    "2b09230d"
   ],
   [
    "0a3ff158",
    "0a3ff158"
   ],
   [
    "40503745",
    "40503745"
   ],
   [
    "4b37312f",
    "4b37312f"
   ],
   [
    "33efdccd",
    "33efdccd"
   ],
   [
    "4f863718",
    "4f863718"
   ],
   [
    "757a4458",
    "757a4458"
   ],
   [
    "b9fadcda",
    "b9fadcda"
   ],
   [
    "eb65ed47",
    "eb65ed47"
   ],
   [
    "f5feaf6d",
    "f5feaf6d"
   ],
   [
    "4b548ace",
    "4b548ace"
   ],
   [
    "690a2565",
    "690a2565"
   ],
   [
    "3ed847e1",
    "3ed847e1"
   ],
   [
    "a339e798",
    "a339e798"
   ],
   [
    "133f3dca",
    "133f3dca"
   ],
   [
    "f88d4316",
    "f88d4316"
   ],
   [
    "e48ecdd8",
    "e48ecdd8"
   ],
   [
    "83692d1e",
    "83692d1e"
   ],
   [
    "b35915f8",
    "b35915f8"
   ],
   [
    "0386bd30",
    "0386bd30"
   ],
   [
    "59b5ae25",
    "59b5ae25"
   ],
   [
    "e6c6b1ad",
    "e6c6b1ad"
   ],
   [
    "ae8fefae",
    "ae8fefae"
   ],
   [
    "631e9cc9",
    "631e9cc9"
   ],
   [
    "dfd99f4b",
    "dfd99f4b"
   ],
   [
    "c33e27a6",
    "c33e27a6"
   ],
   [
    "b77dae34",
    "b77dae34"
   ],
   [
    "ca8112ed",
    "ca8112ed"
   ],
   [
    "057391d8",
    "057391d8"
   ],
   [
    "7abb13c2",
    "7abb13c2"
   ],
   [
    "c7c5485b",
    "c7c5485b"
   ],
   [
    "a8cecb15",
    "a8cecb15"
   ],
   [
    "2dc875ab",
    "2dc875ab"
   ],
   [
    "e55708ca",
    "e55708ca"
   ],
   [
    "7a22b3ea",
    "7a22b3ea"
   ],
   [
    "d8a05765",
    "d8a05765"
   ],
   [
    "935ef914",
    "935ef914"
   ],
   [
    "ec247a3c",
    "ec247a3c"
   ],
   [
    "8e5df96a",
    "8e5df96a"
   ],
   [
    "d33b783c",
    "d33b783c"
   ],
   [
    "9974aa34-0d64-4be3-a646-d149343ded48",
    "9974aa34-0d64-4be3-a646-d149343ded48"
   ],
   [
    "df22878d-b21d-4346-9239-0a856977cf8b",
    "df22878d-b21d-4346-9239-0a856977cf8b"
   ],
   [
    "f24426aa-83b5-4c5c-8052-35f43e28d199",
    "f24426aa-83b5-4c5c-8052-35f43e28d199"
   ],
   [
    "ee996c4e-2bb9-41e8-854b-953151f37307",
    "ee996c4e-2bb9-41e8-854b-953151f37307"
   ]
  ],
  "unianalytics_notebook_id": "852423a2-62f7-42c0-8229-4baa182d2072"
 },
 "nbformat": 4,
 "nbformat_minor": 5
}
