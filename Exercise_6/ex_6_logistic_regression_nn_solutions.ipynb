{
 "cells": [
  {
   "cell_type": "code",
   "execution_count": 1,
   "id": "abd71f5b-7ad8-4570-ba67-f044acd061f0",
   "metadata": {
    "tags": []
   },
   "outputs": [],
   "source": [
    "import numpy as np\n",
    "import matplotlib.pyplot as plt\n",
    "from sklearn.model_selection import train_test_split"
   ]
  },
  {
   "cell_type": "markdown",
   "id": "93e37f8b-bc27-4430-be53-fd137b453c02",
   "metadata": {},
   "source": [
    "# Logistic Regression and Neural networks\n",
    "\n",
    "Today's task is to do even/odd binary classification on the MNIST dataset. Each data sample is an image of an handwritten digit from 0 to 9, and is labelled with the digit it represents. We will first perform logistic regression, and then train a neural network to perform this task.\n",
    "1. In Exercise 1, we will load and preprocess our dataset and its labels.\n",
    "2. In Exercise 2, we will perform classification by doing logistic regression.\n",
    "3. In Exercise 3, we will train a neural network to classify the dataset. We will then compare the performance of logistic regression and neural networks."
   ]
  },
  {
   "cell_type": "markdown",
   "id": "5805235b-2417-4631-be05-d93c39666717",
   "metadata": {
    "tags": []
   },
   "source": [
    "## Ex 1. Dataset loading and preprocessing\n",
    "We first preprocess the mnist dataset in order to use apply logistic regression first and neural networks later.\n",
    "Our task is to do even/odd binary classification on the MNIST dataset. \n",
    "The dataset is composed of 10000 images, each of which is 28x28 pixels. "
   ]
  },
  {
   "cell_type": "code",
   "execution_count": 2,
   "id": "9d9b2af1-acd5-4fb7-bc68-3551e879c2e4",
   "metadata": {
    "tags": []
   },
   "outputs": [],
   "source": [
    "#load the mnist dataset\n",
    "mnist= np.load(\"mnist.npy\")\n",
    "mnist_labels = np.load(\"mnist_labels.npy\")\n",
    "\n",
    "X=mnist\n",
    "y=(mnist_labels%2)*2.0-1 # 1 for odd, -1 for even."
   ]
  },
  {
   "cell_type": "code",
   "execution_count": 3,
   "id": "c049e435-797e-4d06-aa2b-2f8cf828a93a",
   "metadata": {
    "tags": []
   },
   "outputs": [
    {
     "name": "stdout",
     "output_type": "stream",
     "text": [
      "label=1.0\n"
     ]
    },
    {
     "data": {
      "image/png": "[encoded data removed]",
      "text/plain": [
       "<Figure size 640x480 with 1 Axes>"
      ]
     },
     "metadata": {},
     "output_type": "display_data"
    }
   ],
   "source": [
    "#printing the first digit\n",
    "idx=0\n",
    "plt.imshow(X[idx])\n",
    "print(f\"label={y[idx]}\")"
   ]
  },
  {
   "cell_type": "markdown",
   "id": "9135a966-8ff5-407f-8e1f-db85bcee1101",
   "metadata": {},
   "source": [
    "#### Ex 1.1\n",
    "1. Reshape X so that it is a 10000 by 768 matrix.\n",
    "2. Do a 60:20:20  train, validation, test split. The train, validation and test set shall be named `X_train`,`y_train`, `X_val`, `y_val`, `X_test`,  `y_test`\n",
    "\n",
    "Before splitting, the lines of the data matrix should be randomly permuted to guarantee that samples in each set are independent.\n",
    "\n",
    "Hint: for the splitting, check for a dedicated function in skelarn"
   ]
  },
  {
   "cell_type": "code",
   "execution_count": 4,
   "id": "fcbe474d-510d-4a67-8869-7a621217d277",
   "metadata": {
    "tags": []
   },
   "outputs": [],
   "source": [
    "### your code goes here ###"
   ]
  },
  {
   "cell_type": "code",
   "execution_count": 5,
   "id": "c9d9db4a-c1cf-4a03-922d-6f2fc9330d59",
   "metadata": {
    "tags": []
   },
   "outputs": [],
   "source": [
    "#Solution\n",
    "X=np.reshape(X,[10000,28*28])\n",
    "X_train,X_tv,y_train,y_tv=train_test_split(X,y,shuffle=True, train_size=0.6)\n",
    "X_val,X_test,y_val,y_test=train_test_split(X_tv,y_tv,shuffle=True, train_size=0.5)"
   ]
  },
  {
   "cell_type": "markdown",
   "id": "6a46a4f7-4f1b-4354-b60f-f7da73447e31",
   "metadata": {},
   "source": [
    "#### Ex 1.2 Normalize the dataset. \n",
    "1. Compute the mean and standard deviation over the whole *training* dataset (i.e. the mean and std should be two scalars computed on all the elements of `X_train`). \n",
    "2. Then normalize the `X_train`,`X_val`,`X_test` using the mean and std computed above\n",
    "\n",
    "Why using `X_train` to compute the normalization and then applying the same normalization also to `X_val`,  `X_test`?\n",
    "1. If one computed the normalization on the whole `X`, this would have introduced correlations between the datasets\n",
    "2. In some cases `X_test,y_test` represent new data which are not available at the moment of training. Then it's important to have a unique way of normalizing, using only the training set"
   ]
  },
  {
   "cell_type": "code",
   "execution_count": 6,
   "id": "5603cccb-8fa0-4ba4-a358-7ab85f8c0fc0",
   "metadata": {
    "tags": []
   },
   "outputs": [],
   "source": [
    "### your code goes here ###"
   ]
  },
  {
   "cell_type": "code",
   "execution_count": 7,
   "id": "9b5a7cc7-7cb4-4c1a-b862-79d74bf8c812",
   "metadata": {
    "tags": []
   },
   "outputs": [],
   "source": [
    "# Solution:\n",
    "#center and normalize the dataset \n",
    "mean=np.mean(X_train)\n",
    "std=np.std(X_train)\n",
    "\n",
    "X_train=(X_train-mean)/std\n",
    "X_val=(X_val-mean)/std\n",
    "X_test=(X_test-mean)/std"
   ]
  },
  {
   "cell_type": "markdown",
   "id": "1c3dfeec-19e5-443e-8391-201a9777a800",
   "metadata": {},
   "source": [
    "## Ex 2: Logistic regression\n",
    "In this exercise you will implement a classifier that uses logistic regression to distinguish even from odd digits in the MNIST dataset. The classifier will be trained using gradient descent.\n",
    "Let's set some notation: we call $n$ the number of datapoints in the training set and $d$ the dimensionality of each datapoint.\n",
    "\n",
    "\n",
    "\n",
    "In the logistic regression case, recall that our predictor is $z= \\vec x \\cdot \\vec w$, where both $\\vec x$ and $\\vec w$ live in $\\mathbb R^d$.\n",
    "\n",
    "The regularized training loss is\n",
    "$$\\mathcal L(\\vec w)=\\frac{1}{n}\\sum_{\\mu=1}^n\\ell(y_\\mu,\\vec X_\\mu\\cdot \\vec w)+\\frac{\\lambda}{n}\\sum_{i=1}^d w_i^2,\\quad \\ell(y,z)=\\log(1+e^{-yz})$$"
   ]
  },
  {
   "cell_type": "markdown",
   "id": "60a71ba7-c0a4-43eb-bf59-9ba724d6d076",
   "metadata": {},
   "source": [
    "The gradient of the loss with respect to $\\vec w $ is \n",
    "$$\\frac{\\partial \\mathcal L}{\\partial \\vec w_i}(\\vec w)=-\\frac{1}{n}\\sum_{\\mu=1}^n \\frac{e^{-y_\\mu \\vec X_\\mu\\cdot \\vec w}}{1+e^{-y_\\mu \\vec X_\\mu\\cdot \\vec w}} X_{\\mu i} y_\\mu+\\frac{2\\lambda}{n}\\vec w_i$$"
   ]
  },
  {
   "cell_type": "markdown",
   "id": "2ef30c5a-d137-42c6-9d7d-51328a6b29aa",
   "metadata": {},
   "source": [
    "#### Ex 2.1:  Implementing the gradient\n",
    "Using the above formula, implement a function `loss_gradient` that takes as arguments `X_train,y_train,w,lambd` and returns a numpy array containing the gradient of the loss."
   ]
  },
  {
   "cell_type": "code",
   "execution_count": 8,
   "id": "4703f6e6-c4d5-4671-a6cd-9d728701a5a0",
   "metadata": {},
   "outputs": [],
   "source": [
    "### your code goes here ###"
   ]
  },
  {
   "cell_type": "code",
   "execution_count": 9,
   "id": "450c25db-0cbf-4b5d-9418-3e70b5af4e00",
   "metadata": {
    "tags": []
   },
   "outputs": [],
   "source": [
    "# Solution:\n",
    "def loss_gradient(X_train,y_train,w,lambd):\n",
    "    y_pred_train=X_train@w\n",
    "    exp_ell=np.exp(-y_train*y_pred_train)\n",
    "    deriv_ell=-y_train*exp_ell/(1+exp_ell) #derivative of $\\ell$ w.r.t. z\n",
    "    grad_loss=(deriv_ell@X_train+2*lambd*w)/X_train.shape[0]\n",
    "    return grad_loss"
   ]
  },
  {
   "cell_type": "markdown",
   "id": "da193128-6394-417e-99f2-10692566fdef",
   "metadata": {
    "tags": []
   },
   "source": [
    "#### Ex 2.2: training\n",
    "Write a training loop that perfoms gradient descent.\n",
    "1. Set $\\lambda=1$ and choose a good step size that allows the algorithm to learn. 2000 steps should be enough to learn. For the initialization you can use a random one.\n",
    "2. Every 100 gradient steps, a measurement of training and validation accuracies (i.e. 1- error), should be taken and stored in lists. \n",
    "3. After the training make a plot of train and test accuracies vs time\n",
    "\n",
    "*Recall that the accuracy of a model is the fraction of times the model correctly predicts the class.*"
   ]
  },
  {
   "cell_type": "code",
   "execution_count": 10,
   "id": "40657f8c-8c90-49dc-b425-e7b1c4043a70",
   "metadata": {
    "tags": []
   },
   "outputs": [],
   "source": [
    "tmax=2000 #number of iterations\n",
    "lambd=1 #regularization\n",
    "\n",
    "### your code goes here ###\n",
    "\n",
    "for t in range(tmax):# training loop\n",
    "    ### your code goes here ###\n",
    "    pass "
   ]
  },
  {
   "cell_type": "code",
   "execution_count": 11,
   "id": "1a9d558a-7bc6-438c-b6d5-9eb8972804b9",
   "metadata": {
    "tags": []
   },
   "outputs": [
    {
     "name": "stdout",
     "output_type": "stream",
     "text": [
      "t=0, train accuracy=0.36, validation acuracy=0.36\n",
      "t=100, train accuracy=0.81, validation acuracy=0.81\n",
      "t=200, train accuracy=0.86, validation acuracy=0.87\n",
      "t=300, train accuracy=0.89, validation acuracy=0.88\n",
      "t=400, train accuracy=0.89, validation acuracy=0.88\n",
      "t=500, train accuracy=0.89, validation acuracy=0.88\n",
      "t=600, train accuracy=0.90, validation acuracy=0.88\n",
      "t=700, train accuracy=0.90, validation acuracy=0.89\n",
      "t=800, train accuracy=0.90, validation acuracy=0.89\n",
      "t=900, train accuracy=0.90, validation acuracy=0.89\n",
      "t=1000, train accuracy=0.91, validation acuracy=0.89\n",
      "t=1100, train accuracy=0.91, validation acuracy=0.89\n",
      "t=1200, train accuracy=0.91, validation acuracy=0.89\n",
      "t=1300, train accuracy=0.91, validation acuracy=0.89\n",
      "t=1400, train accuracy=0.91, validation acuracy=0.89\n",
      "t=1500, train accuracy=0.91, validation acuracy=0.89\n",
      "t=1600, train accuracy=0.91, validation acuracy=0.89\n",
      "t=1700, train accuracy=0.91, validation acuracy=0.89\n",
      "t=1800, train accuracy=0.91, validation acuracy=0.89\n",
      "t=1900, train accuracy=0.91, validation acuracy=0.89\n"
     ]
    }
   ],
   "source": [
    "#Solution:\n",
    "tmax=2000 #number of iterations\n",
    "lambd=1 #regularization\n",
    "gamma=0.1 #step size\n",
    "w=np.random.random(size=X.shape[1]) #random initialization\n",
    "train_acc_list=[] #list of recorded training errors \n",
    "val_acc_list=[] #list of recorded validation errorsx+\n",
    "measure_spacing=100 #time spacing between two times where we take measures of training and validation error. This is done to avoid taking measurements at every time step, which is expensive \n",
    "\n",
    "for t in range(tmax):# training loop\n",
    "    if(t%measure_spacing==0):\n",
    "        y_pred_train= np.sign(X_train@w)\n",
    "        train_acc=np.mean(y_pred_train==y_train)\n",
    "        train_acc_list.append(train_acc)\n",
    "        y_pred_val=np.sign(X_val@w)\n",
    "        validation_acc=np.mean(y_pred_val==y_val)\n",
    "        val_acc_list.append(validation_acc)\n",
    "        print(f\"t={t}, train accuracy={train_acc:.2f}, validation acuracy={validation_acc:.2f}\")\n",
    "        \n",
    "    #gradient step    \n",
    "    w=w-gamma*loss_gradient(X_train,y_train,w,lambd)"
   ]
  },
  {
   "cell_type": "code",
   "execution_count": 12,
   "id": "f9df66cf-a5d7-4009-bc02-548bc639eceb",
   "metadata": {
    "tags": []
   },
   "outputs": [
    {
     "data": {
      "text/plain": [
       "<matplotlib.legend.Legend at 0x7f878893ee50>"
      ]
     },
     "execution_count": 12,
     "metadata": {},
     "output_type": "execute_result"
    },
    {
     "data": {
      "image/png": "[encoded data removed]",
      "text/plain": [
       "<Figure size 640x480 with 1 Axes>"
      ]
     },
     "metadata": {},
     "output_type": "display_data"
    }
   ],
   "source": [
    "#Solution\n",
    "plt.plot(measure_spacing*np.arange(0,len(train_acc_list)),train_acc_list,label=\"train accuracy\");\n",
    "plt.plot(measure_spacing*np.arange(0,len(train_acc_list)),val_acc_list,label=\"validation accuracy\");\n",
    "plt.grid(alpha=0.5);\n",
    "plt.xlabel('t (steps)');\n",
    "plt.ylabel('accuracy (1 - error)');\n",
    "plt.legend()"
   ]
  },
  {
   "cell_type": "markdown",
   "id": "42fa8c17-8d0e-461a-bed5-98df5447fb53",
   "metadata": {},
   "source": [
    "#### Ex 2.3: Early stopping\n",
    "Modify the training loop to implement early stopping (you can copy-paste the training loop you wrote and modify it). \n",
    "You will do so by still runnnig gradient descent for a fixed number of steps `tmax`.\n",
    "Whenever you take a measurement of the validation accuracy, check if this is the highest accuracy reached so far in the training. If it is, save in memory the current weight vector and time. This way at the end of training you will have your weight vector with highest validation accuracy.\n",
    "\n",
    "After training the model again make a showing the train and validation accuracies vs time. Mark in some way the time at which the highest validation accuracy was achieved. Finally compute the test error of the weight vector with highest validation error\n"
   ]
  },
  {
   "cell_type": "code",
   "execution_count": 13,
   "id": "2c57e232-09e4-467b-a8f9-0b1112e2bc96",
   "metadata": {},
   "outputs": [
    {
     "name": "stdout",
     "output_type": "stream",
     "text": [
      "t=0, train accuracy=0.34, validation acuracy=0.35\n",
      "t=100, train accuracy=0.80, validation acuracy=0.80\n",
      "t=200, train accuracy=0.86, validation acuracy=0.86\n",
      "t=300, train accuracy=0.89, validation acuracy=0.88\n",
      "t=400, train accuracy=0.89, validation acuracy=0.87\n",
      "t=500, train accuracy=0.89, validation acuracy=0.87\n",
      "t=600, train accuracy=0.90, validation acuracy=0.87\n",
      "t=700, train accuracy=0.90, validation acuracy=0.87\n",
      "t=800, train accuracy=0.90, validation acuracy=0.87\n",
      "t=900, train accuracy=0.90, validation acuracy=0.87\n",
      "t=1000, train accuracy=0.91, validation acuracy=0.87\n",
      "t=1100, train accuracy=0.91, validation acuracy=0.88\n",
      "t=1200, train accuracy=0.91, validation acuracy=0.88\n",
      "t=1300, train accuracy=0.91, validation acuracy=0.88\n",
      "t=1400, train accuracy=0.91, validation acuracy=0.88\n",
      "t=1500, train accuracy=0.91, validation acuracy=0.88\n",
      "t=1600, train accuracy=0.91, validation acuracy=0.88\n",
      "t=1700, train accuracy=0.91, validation acuracy=0.88\n",
      "t=1800, train accuracy=0.91, validation acuracy=0.88\n",
      "t=1900, train accuracy=0.91, validation acuracy=0.88\n"
     ]
    }
   ],
   "source": [
    "#Solution:\n",
    "tmax=2000 #number of iterations\n",
    "lambd=1 #regularization\n",
    "gamma=0.1 #step size\n",
    "w=np.random.random(size=X.shape[1]) #random initialization\n",
    "train_acc_list=[] #list of recorded training errors \n",
    "val_acc_list=[] #list of recorded validation errors\n",
    "measure_spacing=100 #time spacing between two times where we take measures of training and validation error. This is done to avoid taking measurements at every time step, which is expensive \n",
    "\n",
    "#keep the best validation error and weight vector encountered so far\n",
    "best_validation_acc=0 \n",
    "best_w=w.copy()\n",
    "best_t=0\n",
    "\n",
    "for t in range(tmax):# training loop\n",
    "    if(t%measure_spacing==0):\n",
    "        y_pred_train= np.sign(X_train@w)\n",
    "        train_acc=np.mean(y_pred_train==y_train)\n",
    "        train_acc_list.append(train_acc)\n",
    "        y_pred_val=np.sign(X_val@w)\n",
    "        validation_acc=np.mean(y_pred_val==y_val)\n",
    "        val_acc_list.append(validation_acc)\n",
    "        \n",
    "        if(validation_acc>best_validation_acc):\n",
    "            best_w=w.copy()\n",
    "            best_validation_acc=validation_acc\n",
    "            best_t=t\n",
    "            \n",
    "        print(f\"t={t}, train accuracy={train_acc:.2f}, validation acuracy={validation_acc:.2f}\")\n",
    "        \n",
    "    #gradient step    \n",
    "    w=w-gamma*loss_gradient(X_train,y_train,w,lambd)"
   ]
  },
  {
   "cell_type": "code",
   "execution_count": 14,
   "id": "34c9d6a1-cdc9-4483-837a-6741be6a6062",
   "metadata": {},
   "outputs": [
    {
     "data": {
      "text/plain": [
       "<matplotlib.legend.Legend at 0x7f87d8c4f6d0>"
      ]
     },
     "execution_count": 14,
     "metadata": {},
     "output_type": "execute_result"
    },
    {
     "data": {
      "image/png": "[encoded data removed]",
      "text/plain": [
       "<Figure size 640x480 with 1 Axes>"
      ]
     },
     "metadata": {},
     "output_type": "display_data"
    }
   ],
   "source": [
    "#Solution\n",
    "plt.plot(measure_spacing*np.arange(0,len(train_acc_list)),train_acc_list,label=\"train accuracy\");\n",
    "plt.plot(measure_spacing*np.arange(0,len(train_acc_list)),val_acc_list,label=\"validation accuracy\");\n",
    "plt.axvline(best_t,color=\"C2\",label=\"best validation accuracy time\");\n",
    "plt.grid(alpha=0.5);\n",
    "plt.xlabel('t (steps)');\n",
    "plt.ylabel('accuracy (1 - error)');\n",
    "plt.legend()"
   ]
  },
  {
   "cell_type": "code",
   "execution_count": 15,
   "id": "2db8a513-b04b-4de3-ab1b-b0daec6a11d5",
   "metadata": {
    "tags": []
   },
   "outputs": [
    {
     "name": "stdout",
     "output_type": "stream",
     "text": [
      "test accuracy= 0.871\n"
     ]
    }
   ],
   "source": [
    "# Solution\n",
    "#from the graph of the validation error, it seems that the longer we train, the better.\n",
    "y_pred_test=np.sign(X_test@best_w)\n",
    "print(f\"test accuracy= {np.mean(y_pred_test==y_test)}\")"
   ]
  },
  {
   "cell_type": "markdown",
   "id": "b93c6b9d-d7a6-4a8c-bfb2-b27ad7fa9b28",
   "metadata": {},
   "source": [
    "###  Ex 2.4: Logistic regression with sklearn\n",
    "the scikit-learn library contains a logistic regression implementation, allowing to train logistic regression in a couple of lines of code. \n",
    "1. Implement logistic regression without regularization\n",
    "2. Compute the test error\n"
   ]
  },
  {
   "cell_type": "code",
   "execution_count": 16,
   "id": "50f06971-6ecf-4112-8dcd-95ed628d9b13",
   "metadata": {
    "tags": []
   },
   "outputs": [],
   "source": [
    "from sklearn.linear_model import LogisticRegression\n",
    "### your code goes here ###"
   ]
  },
  {
   "cell_type": "code",
   "execution_count": 17,
   "id": "b6fb6108-3c2d-456c-8c0f-747c53e8b870",
   "metadata": {
    "tags": []
   },
   "outputs": [
    {
     "name": "stdout",
     "output_type": "stream",
     "text": [
      "test accuracy= 0.8815\n"
     ]
    },
    {
     "name": "stderr",
     "output_type": "stream",
     "text": [
      "/Users/piccioli/opt/anaconda3/envs/torch/lib/python3.8/site-packages/sklearn/linear_model/_logistic.py:444: ConvergenceWarning: lbfgs failed to converge (status=1):\n",
      "STOP: TOTAL NO. of ITERATIONS REACHED LIMIT.\n",
      "\n",
      "Increase the number of iterations (max_iter) or scale the data as shown in:\n",
      "    https://scikit-learn.org/stable/modules/preprocessing.html\n",
      "Please also refer to the documentation for alternative solver options:\n",
      "    https://scikit-learn.org/stable/modules/linear_model.html#logistic-regression\n",
      "  n_iter_i = _check_optimize_result(\n"
     ]
    }
   ],
   "source": [
    "#Solution\n",
    "model= LogisticRegression(random_state=0,fit_intercept=False, penalty='none').fit(X_train, y_train)\n",
    "y_pred_test=model.predict(X_test)\n",
    "print(f\"test accuracy= {np.mean(y_pred_test==y_test)}\")"
   ]
  },
  {
   "cell_type": "markdown",
   "id": "9c80b9e1-ad51-4a49-a9f3-9ddb2cc4a24e",
   "metadata": {},
   "source": [
    "## Ex 3: Neural networks\n",
    "\n",
    "#### Ex 3.1 To obtain some familiarity with neural networks, go to https://playground.tensorflow.org/.\n",
    "On the left you can choose a dataset on which to do classification. You can then modify the network by choosing the number of hidden layers, number of neurons in each layer, activation function. \n",
    "\n",
    "The hardest dataset to learn is the spiral: play with the parameters of the network until it manages to learn this dataset"
   ]
  },
  {
   "cell_type": "markdown",
   "id": "1e06fdc4-037c-422b-b93b-3d3c8f9f9c1d",
   "metadata": {},
   "source": [
    "### Neural network on MNIST\n",
    "Next you will implement a one hidden layer network to be trained using GD on MNIST. The neural network function will be the following:\n",
    "$f(\\vec x ;W^1,\\vec W^2)=\\sum_{a=1}^KW^2_a\\sigma\\left(\\vec W^1_a \\cdot \\vec x\\right)$,\n",
    "1. $K$ is the dimension (or width) of the hidden layer\n",
    "2. $W^1\\in\\mathbb R^{K\\times d}$ is the matrix of first layer weights. $W^1_a$ indicates the $a-th$ row of the matrix $W^1$.\n",
    "3. $\\vec W^2\\in\\mathbb R^K$ is the vector containing the second layer weights. \n",
    "4. $\\sigma$ is the activation function, or nonlinearity. It acts coordinate-wise on the array it is fed. We set it initially to the hyperbolic tangent function.\n",
    "\n",
    "### Gradient Computation\n",
    "We will do gradient descent on the logistic loss \n",
    "$$\\mathcal L(W^1, \\vec W^2)=\\frac{1}{n}\\sum_{\\mu=1}^n\\ell(y_\\mu,f(\\vec x ;W^1,\\vec W^2)) ,\\quad \\ell(y,z)=\\log(1+e^{-yz}).$$\n",
    "In the calculation we will use the notation $z_\\mu=f(\\vec X_\\mu ;W^1,\\vec W^2)$\n",
    "\n",
    "\n",
    "We have \n",
    "$$\\frac{\\partial \\mathcal L}{\\partial W^2_a}=\\frac{1}{n}\\sum_{\\mu=1}^n\\frac{\\partial \\ell}{\\partial z}(y_\\mu,z_\\mu)\\,\\,\\sigma\\left(\\vec W^1_a\\cdot X_\\mu\\right)$$\n",
    "$$\\frac{\\partial \\mathcal L}{\\partial W^1_{ai}}=\\frac{1}{n}\\sum_{\\mu=1}^n\\frac{\\partial \\ell}{\\partial z}(y_\\mu,z_\\mu)W^2_a\\,\\,\\sigma'\\left(\\vec W^1_a\\cdot X_\\mu\\right)X_{\\mu i}$$,\n",
    "where the index $a$ runs from 1 to $K$ and $i$ runs from 1 to $d$.\n",
    "\n",
    "The following cell contains all the necessary functions, together with their documentation"
   ]
  },
  {
   "cell_type": "code",
   "execution_count": 18,
   "id": "d27bcdad-4e1c-41a7-8835-a30105d9a16b",
   "metadata": {
    "tags": []
   },
   "outputs": [],
   "source": [
    "def sigma(x):\n",
    "    \"\"\"\n",
    "    activation function\n",
    "    \"\"\"\n",
    "    return np.tanh(x) #tanh activation\n",
    "\n",
    "def deriv_sigma(x):\n",
    "    \"\"\"\n",
    "    derivative of the activation function\n",
    "    \"\"\"\n",
    "    return 1-np.tanh(x)**2 #tanh derivative\n",
    "\n",
    "def neural_net(X,W_1,W_2): \n",
    "    \"\"\"\n",
    "    function implementing the neural network. \n",
    "    W_1 is a K by d matrix containing the first layer weights.\n",
    "    W_2 is a vector of length K, containing the second layer weights\n",
    "    X is a n by d matrix containing the inputs.\n",
    "    Notice this function will not accept one dimensional arrays as input (X), only two dimensional ones (matrices)\n",
    "    If X has shape (n,d) then the output will be a numpy array of shape (n,)\n",
    "    \"\"\"\n",
    "    return sigma(X@W_1.T)@W_2\n",
    "\n",
    "def deriv_ell(y,z):\n",
    "    \"\"\"\n",
    "    derivative of the logistic loss log(1+np.exp(-y*z)) w.r.t. z\n",
    "    \"\"\"\n",
    "    return -y*np.exp(-y*z)/(1+np.exp(-y*z)) \n",
    "\n",
    "def grad_W_2(X,W_1,y):\n",
    "    \"\"\"\n",
    "    gradient of the loss with respect to the second layer weights\n",
    "    returns vecror of length K (same shape as W_2)\n",
    "    \"\"\"\n",
    "    post_activations=sigma(X@W_1.T)\n",
    "    z=post_activations@W_2\n",
    "    return deriv_ell(y,z)@post_activations/y.shape[0]\n",
    "\n",
    "def grad_W_1(X,W_1,W_2,y):\n",
    "    \"\"\"\n",
    "    gradient of the loss with respect to the first layer weights\n",
    "    returns a K by d matrix (same shape as W_1)\n",
    "    \"\"\"\n",
    "    pre_activations=X@W_1.T\n",
    "    z=sigma(pre_activations)@W_2\n",
    "    return np.einsum('m,a,ma,mi->ai',deriv_ell(y,z),W_2,deriv_sigma(pre_activations),X)/y.shape[0]\n"
   ]
  },
  {
   "cell_type": "markdown",
   "id": "42446192-7e2c-4f9b-988c-6879f77f3183",
   "metadata": {},
   "source": [
    "#### Ex 3.2 Training a neural network\n",
    "Using the functions above complete the training loop for the neural network below.\n",
    "1. Set $K=5$ (number of hidden units), initialize the weigths randomly with a small norm, $\\gamma=0.3$ seems to work well as step size. Expect around 100-200 iterations to be needed to learn \n",
    "2. Keep track of training and validation error along the dynamics, similarly to what you did with logistic regression. You do not need to implement early stopping (but you can do it as an extra)\n",
    "\n"
   ]
  },
  {
   "cell_type": "code",
   "execution_count": 19,
   "id": "3e49ec80-d899-4fda-a198-022cbc21206e",
   "metadata": {
    "tags": []
   },
   "outputs": [],
   "source": [
    "tmax=200\n",
    "K=5\n",
    "gamma=0.3 #learning rate\n",
    "\n",
    "###your code goes here###\n",
    "\n",
    "for t in range(tmax):#training loop\n",
    "    pass\n",
    "    ### your code goes here###"
   ]
  },
  {
   "cell_type": "code",
   "execution_count": 20,
   "id": "2fd71da7-01c3-4e10-9213-d0a25b5884b6",
   "metadata": {
    "tags": []
   },
   "outputs": [
    {
     "name": "stdout",
     "output_type": "stream",
     "text": [
      "t=0, train accuracy=0.35, validation acuracy=0.36\n",
      "t=5, train accuracy=0.77, validation acuracy=0.76\n",
      "t=10, train accuracy=0.79, validation acuracy=0.78\n",
      "t=15, train accuracy=0.81, validation acuracy=0.80\n",
      "t=20, train accuracy=0.84, validation acuracy=0.84\n",
      "t=25, train accuracy=0.61, validation acuracy=0.59\n",
      "t=30, train accuracy=0.85, validation acuracy=0.86\n",
      "t=35, train accuracy=0.82, validation acuracy=0.80\n",
      "t=40, train accuracy=0.87, validation acuracy=0.87\n",
      "t=45, train accuracy=0.87, validation acuracy=0.85\n",
      "t=50, train accuracy=0.87, validation acuracy=0.87\n",
      "t=55, train accuracy=0.87, validation acuracy=0.86\n",
      "t=60, train accuracy=0.87, validation acuracy=0.88\n",
      "t=65, train accuracy=0.88, validation acuracy=0.86\n",
      "t=70, train accuracy=0.89, validation acuracy=0.88\n",
      "t=75, train accuracy=0.89, validation acuracy=0.87\n",
      "t=80, train accuracy=0.90, validation acuracy=0.89\n",
      "t=85, train accuracy=0.90, validation acuracy=0.89\n",
      "t=90, train accuracy=0.91, validation acuracy=0.89\n",
      "t=95, train accuracy=0.91, validation acuracy=0.90\n",
      "t=100, train accuracy=0.91, validation acuracy=0.90\n",
      "t=105, train accuracy=0.91, validation acuracy=0.91\n",
      "t=110, train accuracy=0.92, validation acuracy=0.90\n",
      "t=115, train accuracy=0.92, validation acuracy=0.91\n",
      "t=120, train accuracy=0.93, validation acuracy=0.91\n",
      "t=125, train accuracy=0.92, validation acuracy=0.91\n",
      "t=130, train accuracy=0.93, validation acuracy=0.91\n",
      "t=135, train accuracy=0.93, validation acuracy=0.91\n",
      "t=140, train accuracy=0.93, validation acuracy=0.91\n",
      "t=145, train accuracy=0.93, validation acuracy=0.91\n",
      "t=150, train accuracy=0.94, validation acuracy=0.91\n",
      "t=155, train accuracy=0.93, validation acuracy=0.91\n",
      "t=160, train accuracy=0.94, validation acuracy=0.92\n",
      "t=165, train accuracy=0.94, validation acuracy=0.92\n",
      "t=170, train accuracy=0.94, validation acuracy=0.92\n",
      "t=175, train accuracy=0.94, validation acuracy=0.92\n",
      "t=180, train accuracy=0.94, validation acuracy=0.92\n",
      "t=185, train accuracy=0.94, validation acuracy=0.92\n",
      "t=190, train accuracy=0.94, validation acuracy=0.92\n",
      "t=195, train accuracy=0.94, validation acuracy=0.92\n"
     ]
    }
   ],
   "source": [
    "#Solution:\n",
    "tmax=200\n",
    "K=5\n",
    "gamma=0.3#learning rate\n",
    "d=X_train.shape[1]\n",
    "eps=1e-5\n",
    "W_1=eps*np.random.random(size=[K,d])#initialization\n",
    "W_2=eps*np.random.random(size=[K])\n",
    "\n",
    "train_acc_list=[]\n",
    "val_acc_list=[]\n",
    "\n",
    "#keep the best validation error and weight vector encountered so far\n",
    "best_validation_acc=0 \n",
    "best_W_1=W_1.copy()\n",
    "best_W_2=W_2.copy()\n",
    "best_t=0\n",
    "\n",
    "for t in range(tmax):\n",
    "    if(t%5==0):\n",
    "        y_pred_train=np.sign(neural_net(X_train,W_1,W_2))\n",
    "        train_acc=np.mean(y_pred_train==y_train)\n",
    "        train_acc_list.append(train_acc)\n",
    "        y_pred_val=np.sign(neural_net(X_val,W_1,W_2))\n",
    "        validation_acc=np.mean(y_pred_val==y_val)\n",
    "        val_acc_list.append(validation_acc)\n",
    "        print(f\"t={t}, train accuracy={train_acc:.2f}, validation acuracy={validation_acc:.2f}\")\n",
    "        \n",
    "        if(validation_acc>best_validation_acc):\n",
    "            best_W_1=W_1.copy()\n",
    "            best_W_2=W_2.copy()\n",
    "            best_validation_acc=validation_acc\n",
    "            best_t=t\n",
    "            \n",
    "    gradient_W_1=grad_W_1(X_train,W_1,W_2,y_train)\n",
    "    gradient_W_2=grad_W_2(X_train,W_1,y_train)\n",
    "    W_1=W_1-gamma*gradient_W_1\n",
    "    W_2=W_2-gamma*gradient_W_2\n"
   ]
  },
  {
   "cell_type": "markdown",
   "id": "cc225e6e-c9e1-470c-91ee-c821ec1ec855",
   "metadata": {},
   "source": [
    "#### Ex 3.3 Plotting and testing\n",
    "1. plot the train and validation accuracy as a function of time\n",
    "2. compute the test accuracy on the weights with best validation accuracy (if you did the extra point), otherwise on the final weights of the training\n",
    "3. How does the test accuracy compare with that of logistic regression?"
   ]
  },
  {
   "cell_type": "code",
   "execution_count": 21,
   "id": "5c8f0e8f-045a-483c-965e-ac4ebc3b8ba3",
   "metadata": {},
   "outputs": [],
   "source": [
    "### your code goes here ###"
   ]
  },
  {
   "cell_type": "code",
   "execution_count": 22,
   "id": "cdc23f8e-659b-4675-8250-0ed96862090d",
   "metadata": {},
   "outputs": [
    {
     "data": {
      "text/plain": [
       "<matplotlib.legend.Legend at 0x7f87d8cf57f0>"
      ]
     },
     "execution_count": 22,
     "metadata": {},
     "output_type": "execute_result"
    },
    {
     "data": {
      "image/png": "[encoded data removed]",
      "text/plain": [
       "<Figure size 640x480 with 1 Axes>"
      ]
     },
     "metadata": {},
     "output_type": "display_data"
    }
   ],
   "source": [
    "#Solution:\n",
    "plt.plot(5*np.arange(len(train_acc_list)),train_acc_list,label=\"train accuracy\");\n",
    "plt.plot(5*np.arange(len(train_acc_list)),val_acc_list,label=\"validation accuracy\");\n",
    "plt.axvline(best_t,color=\"C2\",label=\"best validation accuracy time\");\n",
    "plt.grid(alpha=0.5);\n",
    "plt.xlabel('t (steps)');\n",
    "plt.ylabel('accuracy (1 - error)');\n",
    "plt.legend()"
   ]
  },
  {
   "cell_type": "code",
   "execution_count": 23,
   "id": "f8f27b6b-9084-44fb-944e-2c8693b0b8a9",
   "metadata": {},
   "outputs": [
    {
     "name": "stdout",
     "output_type": "stream",
     "text": [
      "test accuracy= 0.922\n"
     ]
    }
   ],
   "source": [
    "# Solution:\n",
    "y_pred_test=np.sign(neural_net(X_test,best_W_1,best_W_2))\n",
    "print(f\"test accuracy= {np.mean(y_pred_test==y_test)}\")\n",
    "#the model is more accurate on the test dataset compared to logistic regression, this is due to the greater number of available parameters."
   ]
  },
  {
   "cell_type": "markdown",
   "id": "0ca9089f-131c-4715-b3e2-6e54137fe5e8",
   "metadata": {},
   "source": [
    "#### Ex 3.4: **Extra** (do this after doing 3.5) Changing activation function\n",
    "So far the neural network employed hyperbolic tangent activations.\n",
    "Change the code above to switch to sigmoid activations. Then retrain the network.\n",
    "You will have to change the value of learning rate and norm of the initialization, in order for the network to train effectively.\n",
    "\n",
    "Hint: changing the function `sigma` is not enough...\n"
   ]
  },
  {
   "cell_type": "code",
   "execution_count": 24,
   "id": "ecf3be1e-a44d-466a-a46e-9e2982945bfd",
   "metadata": {},
   "outputs": [],
   "source": [
    "### your code goes here ###"
   ]
  },
  {
   "cell_type": "code",
   "execution_count": 25,
   "id": "36d35c20-2448-4b99-893b-649a59f35375",
   "metadata": {},
   "outputs": [],
   "source": [
    "#Solution (to be copy-pasted in the relevant cells)\n",
    "def sigma(x):\n",
    "    \"\"\"\n",
    "    activation function\n",
    "    \"\"\"\n",
    "    return 1/(1+np.exp(-x)) #sigmoid activation\n",
    "\n",
    "def deriv_sigma(x):\n",
    "    \"\"\"\n",
    "    derivative of the activation function\n",
    "    \"\"\"\n",
    "    return sigma(x)*(1-sigma(x)) #sigmoid derivative\n",
    "\n",
    "\n",
    "\n",
    "#hyperparameters that work well with sigmoid\n",
    "gamma=8\n",
    "eps=1e-2\n",
    "W_1=eps*np.random.random(size=[K,d])#initialization\n",
    "W_2=eps*np.random.random(size=[K])"
   ]
  },
  {
   "cell_type": "markdown",
   "id": "1f9b0c1e-e754-4c9a-b184-b6ce905345fd",
   "metadata": {},
   "source": [
    "#### Ex 3.5 Sklearn implementation of a neural network\n",
    "1. Use the class MLPClassifier to train a neural network with tanh activation functions\n",
    "2. Compute the test accuracy of the trained network."
   ]
  },
  {
   "cell_type": "code",
   "execution_count": 26,
   "id": "fd1bec50-3a31-406f-a940-635259fc9194",
   "metadata": {},
   "outputs": [],
   "source": [
    "from sklearn.neural_network import MLPClassifier\n",
    "###your code goes here ###"
   ]
  },
  {
   "cell_type": "code",
   "execution_count": 27,
   "id": "d044173c-d38b-48cb-b152-4026e0858699",
   "metadata": {},
   "outputs": [
    {
     "name": "stdout",
     "output_type": "stream",
     "text": [
      "test accuracy= 0.939\n"
     ]
    }
   ],
   "source": [
    "# Solution:\n",
    "net= MLPClassifier(solver='lbfgs', alpha=1e-5,hidden_layer_sizes=(5), random_state=1,activation='tanh')\n",
    "net.fit(X_train,y_train)\n",
    "y_pred_test=net.predict(X_test)\n",
    "print(f\"test accuracy= {np.mean(y_pred_test==y_test)}\")"
   ]
  }
 ],
 "metadata": {
  "kernelspec": {
   "display_name": "Python 3 (ipykernel)",
   "language": "python",
   "name": "python3"
  },
  "language_info": {
   "codemirror_mode": {
    "name": "ipython",
    "version": 3
   },
   "file_extension": ".py",
   "mimetype": "text/x-python",
   "name": "python",
   "nbconvert_exporter": "python",
   "pygments_lexer": "ipython3",
   "version": "3.8.13"
  }
 },
 "nbformat": 4,
 "nbformat_minor": 5
}
