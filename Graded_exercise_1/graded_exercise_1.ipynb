{
 "cells": [
  {
   "cell_type": "markdown",
   "id": "greenhouse-virtue",
   "metadata": {},
   "source": [
    "# Graded homework 1: gradient descent"
   ]
  },
  {
   "cell_type": "markdown",
   "id": "israeli-semester",
   "metadata": {},
   "source": [
    "This graded homework has 3 independent exercises. The aim of the exercices is to test the following:\n",
    "- Python skills (variables, lists, functions, conditions, loops)\n",
    "- Numpy skills (array manipulation, vectorized functions, ...)\n",
    "- Plotting skills using matplotlib (plotting, scattering, labelling, ...)\n",
    "- Using external sources to find the functions you need\n",
    "- Theoretical comprehension of the notion of gradient and of the gradient descent algorithm\n",
    "- Application of the gradient descent algorithm to various problems\n",
    "\n",
    "Each question is given in a markdown cell and should be answered in the cell/cells below (you can add cells if needed). The figures must be generated and shown directly in this notebook. If a questions demands that you write an answer, use a 'markdown' cell, which can include latex between \\\\$ symbols. As an example,\n",
    "\\\\$\\vec{F}=m\\vec{a}\\\\$\n",
    "gives $\\vec{F}=m\\vec{a}$. You can transform a code cell in a markdown cell by selecting the markdown option next to the debugger option at the top of the screen.\n",
    "\n",
    "Your code should run properly if you do the following: 1) restart the kernel 2) execute all cells in order from top to bottom. Running all cells should take a reasonable time on noto (<2 min.). We will not penalize bad coding practices except if the exercise demands that you code something in a certain way.\n",
    "\n",
    "All the sources you consult should be explicitly cited, except the numpy and matplotlib official documentation, the lecture notes and the previous exercises. You are encouraged to use external sources, since every function needed in this exercise has not necessarily been seen in the previous exercises."
   ]
  },
  {
   "cell_type": "markdown",
   "id": "honey-robinson",
   "metadata": {
    "tags": []
   },
   "source": [
    "## Exercice 1: Gradient descent for a single variable function"
   ]
  },
  {
   "cell_type": "markdown",
   "id": "noble-juvenile",
   "metadata": {},
   "source": [
    "In this exercise, we apply the gradient descend algorithm to find the minimum $\\hat{x}$ of the function $f(x)=x^2$, $x\\in\\mathbb{R}$."
   ]
  },
  {
   "cell_type": "markdown",
   "id": "activated-pressing",
   "metadata": {},
   "source": [
    "**1.1** Import the `numpy` and `matplotlib.pyplot` libraries. Use the alias `np` for `numpy` and `plt` for the `matplotlib.pyplot` library like we did in the previous exercises."
   ]
  },
  {
   "cell_type": "code",
   "execution_count": null,
   "id": "documentary-payday",
   "metadata": {},
   "outputs": [],
   "source": [
    "# Your code here:"
   ]
  },
  {
   "cell_type": "markdown",
   "id": "unsigned-opening",
   "metadata": {},
   "source": [
    "**1.2** Code the function $f(x)$ that takes as an input a scalar or a numpy array and returns its (element-wise) square. Your code should not include a loop."
   ]
  },
  {
   "cell_type": "code",
   "execution_count": 3,
   "id": "existing-halifax",
   "metadata": {},
   "outputs": [],
   "source": [
    "# Your code here:"
   ]
  },
  {
   "cell_type": "markdown",
   "id": "military-usage",
   "metadata": {},
   "source": [
    "**1.3** Plot the function $f(x)$ between $-5$ and $5$. Label the axes appropriatly. As an ungraded option you can also change the font size, line width, etc., so that the figure is more readable."
   ]
  },
  {
   "cell_type": "code",
   "execution_count": 5,
   "id": "fleet-breed",
   "metadata": {},
   "outputs": [],
   "source": [
    "# Your code here:"
   ]
  },
  {
   "cell_type": "markdown",
   "id": "radical-adaptation",
   "metadata": {},
   "source": [
    "**1.4** Let us now compute the gradient. Since $x$ is a scalar, the gradient is simply the derivative. Code a function that takes as an input a scalar or a numpy array and returns the derivative $f'(x)$ element wise at the given input values:"
   ]
  },
  {
   "cell_type": "code",
   "execution_count": 7,
   "id": "positive-administrator",
   "metadata": {},
   "outputs": [],
   "source": [
    "# Your code here:"
   ]
  },
  {
   "cell_type": "markdown",
   "id": "durable-faith",
   "metadata": {},
   "source": [
    "**1.5** Implement the gradient descent algorithm to find the minimum $\\hat{x}$ of f. Set the learning rate $\\gamma=0.1$ and initialize $x=2$. Do $T=100$ iterations of the gradient descent algorithm (do not use a stopping/convergence condition). Print your obtained $\\hat{x}$. Check that your obtained result is close to the minimum of $f(x)= x^2$. Recall that one step of the gradient descent algorithm is\n",
    "$$\n",
    "x_{t+1}=x_t-\\gamma \\nabla f(x_t)\n",
    "$$\n",
    "and use your function from 1.4 to compute the gradient."
   ]
  },
  {
   "cell_type": "code",
   "execution_count": 9,
   "id": "compressed-blood",
   "metadata": {},
   "outputs": [],
   "source": [
    "# Your code here:"
   ]
  },
  {
   "cell_type": "markdown",
   "id": "bearing-prototype",
   "metadata": {},
   "source": [
    "Your answer here:"
   ]
  },
  {
   "cell_type": "markdown",
   "id": "circular-parker",
   "metadata": {},
   "source": [
    "**1.6** We will now study the influence of the learning rate $\\gamma$. Apply the gradient descent algorithm for $T=7$ steps, $\\gamma=0.1$ and intialize $x=2$, and store the initial value of $x$ as well as the value of $x$ after each gradient descent step in a numpy array. Print the obtained array. You can reuse your code from 1.5 if needed."
   ]
  },
  {
   "cell_type": "code",
   "execution_count": 11,
   "id": "gross-locator",
   "metadata": {},
   "outputs": [],
   "source": [
    "# Your code here:"
   ]
  },
  {
   "cell_type": "markdown",
   "id": "optimum-project",
   "metadata": {},
   "source": [
    "**1.7** Code a function that takes as an input a list of values of $x_i$ and that plots $f(x)$ in blue between $-3$ and $3$ and scatters the points $(x_i, f(x_i))$ in red on the same plot. The function should have an additional input which is a string that is used as the title of the figure. You can reuse your code from 1.3. Call this function with the previously obtained list and the title '\\\\$\\gamma=0.1\\\\$'. Describe and explain qualitatively what you obtain. Be concise (maximum 4-5 sentences). "
   ]
  },
  {
   "cell_type": "code",
   "execution_count": 13,
   "id": "material-gross",
   "metadata": {},
   "outputs": [],
   "source": [
    "# Your code here:"
   ]
  },
  {
   "cell_type": "markdown",
   "id": "august-scoop",
   "metadata": {},
   "source": [
    "Your answer here."
   ]
  },
  {
   "cell_type": "markdown",
   "id": "express-conference",
   "metadata": {},
   "source": [
    "**1.8** Repeat 1.6 and 1.7 now with $T=5$ steps for $\\gamma=0.25, 0.5, 0.8 \\text{ and } 1.05$. Reuse your function from 1.6 to draw the figures (change the title to the appropriate learning rate). You can copy-past your code if needed, but in this case use a new cell for each learning rate. More concise coding (for example by implementing a function that does the gradient descent) is encouraged but not necessary."
   ]
  },
  {
   "cell_type": "code",
   "execution_count": 15,
   "id": "private-accordance",
   "metadata": {},
   "outputs": [],
   "source": [
    "# Your code here:"
   ]
  },
  {
   "cell_type": "markdown",
   "id": "painful-choir",
   "metadata": {},
   "source": [
    "**1.9** Answer briefly the following questions using your obtained figures:\n",
    "- Compare $\\gamma=0.1$ and $\\gamma=0.25$. What changes ?\n",
    "- Describe what happens for $\\gamma=0.8$.\n",
    "- Describe what happens for $\\gamma=1.05$. What is the problem ?\n",
    "- What happens for $\\gamma=0.5$ ? Explain why this happens. Is this dependent on the initial $x$ in our case ?"
   ]
  },
  {
   "cell_type": "markdown",
   "id": "swedish-metro",
   "metadata": {},
   "source": [
    "Your answer here:"
   ]
  },
  {
   "cell_type": "markdown",
   "id": "divine-climb",
   "metadata": {},
   "source": [
    "# Exercise 2: Gradient descent for a multivariate function"
   ]
  },
  {
   "cell_type": "markdown",
   "id": "major-allocation",
   "metadata": {},
   "source": [
    "In this exercise, we apply gradient descent to find the minima of the multivariate function\n",
    "$$\n",
    "f(x,y)=x^4+y^4-100x^2-20y^2-100x-20y+70xy.\n",
    "$$"
   ]
  },
  {
   "cell_type": "markdown",
   "id": "steady-proposal",
   "metadata": {},
   "source": [
    "**2.1** Code a function that takes as an input two variables $x$ and $y$ and that outputs $f(x,y)$ as defined above."
   ]
  },
  {
   "cell_type": "code",
   "execution_count": 20,
   "id": "political-mobile",
   "metadata": {},
   "outputs": [],
   "source": [
    "# Your code here:"
   ]
  },
  {
   "cell_type": "markdown",
   "id": "worse-repeat",
   "metadata": {},
   "source": [
    "**2.2** Plot the obtained 3D surface with $x\\in[-10,10]$ and $y\\in[-10,10]$. To obtain more elaborated plots such as this one, we often use the command `plt.subplots`, which returns a `figure` object (which contains all the other elements of the figure) and one or multiple `axes` objects (which each encapsulates one plot of the figure). We do this for you in the given line of code. Then, use the function `ax.plot_surface(...)` to plot the surface (you can more generally use `ax.function(...)` instead of the `plt.function(...)` that you have seen until now).\n",
    "\n",
    "Hint: you can use the function `np.meshgrid` to generate the $x$ and $y$ grid on which to evaluate $f(x,y)$."
   ]
  },
  {
   "cell_type": "code",
   "execution_count": 22,
   "id": "introductory-hunger",
   "metadata": {},
   "outputs": [
    {
     "data": {
      "image/png": "[encoded data removed]",
      "text/plain": [
       "<Figure size 432x288 with 1 Axes>"
      ]
     },
     "metadata": {
      "needs_background": "light"
     },
     "output_type": "display_data"
    }
   ],
   "source": [
    "fig, ax=plt.subplots(subplot_kw={\"projection\": \"3d\"})\n",
    "# Your code here:"
   ]
  },
  {
   "cell_type": "markdown",
   "id": "proved-highway",
   "metadata": {},
   "source": [
    "**2.3** Plot the contour lines using the `contour` function from matplotlib. Plot 25 contour lines and have $x\\in[-12,12]$ and $y\\in[-12,12]$. How many minima do you see ?"
   ]
  },
  {
   "cell_type": "code",
   "execution_count": 24,
   "id": "offensive-martin",
   "metadata": {},
   "outputs": [],
   "source": [
    "# Your code here:"
   ]
  },
  {
   "cell_type": "markdown",
   "id": "painted-singapore",
   "metadata": {},
   "source": [
    "Your answer here:"
   ]
  },
  {
   "cell_type": "markdown",
   "id": "early-steering",
   "metadata": {},
   "source": [
    "**2.4** Implement a function that takes as an input a numpy array of two elements $(x,y)$ and outputs the gradient of $f$ evaluated at $(x,y)$. The output should also be a numpy array containing two elements."
   ]
  },
  {
   "cell_type": "code",
   "execution_count": 26,
   "id": "technological-halifax",
   "metadata": {},
   "outputs": [],
   "source": [
    "# your code here:"
   ]
  },
  {
   "cell_type": "markdown",
   "id": "elect-evidence",
   "metadata": {},
   "source": [
    "**2.5** Implement a function that does one gradient step. The function takes as an input an numpy array $(x,y)$ and the learning rate $\\gamma$ and outputs the results $(x',y')$ after one gradient descent step. Recall that one gradient descent step is given by \n",
    "$$\n",
    "\\vec{x}'=\\vec{x}-\\gamma \\nabla f(\\vec{x}).\n",
    "$$"
   ]
  },
  {
   "cell_type": "code",
   "execution_count": 28,
   "id": "authentic-circumstances",
   "metadata": {},
   "outputs": [],
   "source": [
    "# Your code here:"
   ]
  },
  {
   "cell_type": "markdown",
   "id": "bacterial-training",
   "metadata": {},
   "source": [
    "**2.6** Starting from initial position $(2,6)$, perform $T=8$ gradient steps with $\\gamma=0.0035$. Draw the initial result $(2,6$) as well as the obtain result after each step as points on the contour graph from 2.3 (you can reuse your previous code). Draw lines or arrows between the points to show the trajectory of the gradient descent."
   ]
  },
  {
   "cell_type": "code",
   "execution_count": 30,
   "id": "under-plain",
   "metadata": {},
   "outputs": [],
   "source": [
    "# Your code here:"
   ]
  },
  {
   "cell_type": "markdown",
   "id": "collaborative-cursor",
   "metadata": {},
   "source": [
    "**2.7** Do the same but starting from $(-3,-6)$. What do you notice ? Does the gradient descent converge to a global minimum in both cases ?"
   ]
  },
  {
   "cell_type": "code",
   "execution_count": 32,
   "id": "resistant-brother",
   "metadata": {},
   "outputs": [],
   "source": [
    "# Your code here"
   ]
  },
  {
   "cell_type": "markdown",
   "id": "recreational-sentence",
   "metadata": {},
   "source": [
    "Your answer here:"
   ]
  },
  {
   "cell_type": "markdown",
   "id": "announced-toyota",
   "metadata": {},
   "source": [
    "## Exercise 3: N charged particles in a harmonic potential"
   ]
  },
  {
   "cell_type": "markdown",
   "id": "marked-tyler",
   "metadata": {},
   "source": [
    "In this exercise, we apply the gradient to minimize the energy of a physical system. Consider $N$ identical charged particles confined in the $z=0$ plane in a harmonic potential. Since the particles have the same charge, they are subject to a repulsive Coulomb interaction between them. The energy of the system (setting all the physical constants to 1 for simplicity) is given by\n",
    "$$\n",
    "E(\\vec{x}_1, \\vec{x}_2, \\dots, \\vec{x}_N)=\\overbrace{\\sum_i ||\\vec{x}_i||^2}^{\\text{Harmonic potential}}+\\overbrace{\\sum_{i=1}^N \\sum_{j=i+1}^N\\frac{1}{||\\vec{x}_i-\\vec{x}_j||}}^{\\text{Coulomb repulsion}}\n",
    "$$\n",
    "where $\\vec{x}_i$ is the vector containing the position of particle $i$, $\\sum_{i=1}^N \\sum_{j=i+1}^N$ is the sum over all possible pairs of different particles and $||\\vec{x}||=\\sqrt{x^2+y^2}$ is the euclidian norm. Since the particles are restricted to a 2D plane, we describe their position using only two variables: $\\vec{x}_i=(x_i, y_i)$."
   ]
  },
  {
   "cell_type": "markdown",
   "id": "cooked-screw",
   "metadata": {},
   "source": [
    "**3.1** Create a $3\\times 2$ numpy array containing the position of 3 particles at position\n",
    "$$\n",
    "(x_1, y_1)=(0,0)\n",
    "$$\n",
    "$$\n",
    "(x_2, y_2)=(1,0)\n",
    "$$\n",
    "$$\n",
    "(x_3, y_3)=(0,1)\n",
    "$$\n",
    "and print it. Also print its shape. We will call such a matrix a configuration for the rest of the exercise."
   ]
  },
  {
   "cell_type": "code",
   "execution_count": 34,
   "id": "intelligent-synthesis",
   "metadata": {},
   "outputs": [],
   "source": [
    "# Your code here:"
   ]
  },
  {
   "cell_type": "markdown",
   "id": "shared-actress",
   "metadata": {},
   "source": [
    "**3.2** Code a function that takes as an input a particle configuration coded as an $N\\times 2$ numpy array and that outputs the energy of the given configuration. Use the function `np.linalg.norm` to compute the euclidian norm of the vectors. Check that your function gives the expected result on your previously defined configuration. Do also check that at least one other configuration of your choice with $N\\neq3$ gives the expected result."
   ]
  },
  {
   "cell_type": "code",
   "execution_count": 36,
   "id": "reduced-scotland",
   "metadata": {},
   "outputs": [],
   "source": [
    "# Your code here:"
   ]
  },
  {
   "cell_type": "markdown",
   "id": "monthly-gibraltar",
   "metadata": {},
   "source": [
    "**3.3** Show analytically that \n",
    "$$\n",
    "\\nabla_{\\vec{x}_i} E(\\vec{x}_1, \\vec{x}_2, \\dots, \\vec{x}_N)= 2\\vec{x}_i - \\sum_{j \\text{ s.t.} j\\neq i} ^N\\frac{\\vec{x}_i-\\vec{x}_j}{||\\vec{x}_i-\\vec{x}_j||^3}\n",
    "$$\n",
    "where \n",
    "$$\n",
    "\\nabla_{\\vec{x}_i}=\\left(\\frac{\\partial E}{\\partial x_i}, \\frac{\\partial E}{\\partial y_i}\\right).\n",
    "$$\n",
    "Write your equations in latex.\n",
    "\n",
    "Hint: you can use $\\nabla_{\\vec{x}} \\frac{1}{||\\vec{x}||}=\\frac{-\\vec{x}}{||\\vec{x}||^3}$ without showing it."
   ]
  },
  {
   "cell_type": "markdown",
   "id": "rubber-galaxy",
   "metadata": {},
   "source": [
    "Your answer here:"
   ]
  },
  {
   "cell_type": "markdown",
   "id": "developed-concept",
   "metadata": {},
   "source": [
    "**3.3** Code a function taking a configuration as an input and returning the gradient of the energy. The gradient is defined as\n",
    "$$\n",
    "\\nabla E(\\vec{x}_1, \\vec{x}_2, \\dots, \\vec{x}_N)=\n",
    "\\begin{pmatrix}\n",
    "\\nabla_{\\vec{x}_1} E(\\vec{x}_1, \\vec{x}_2, \\dots, \\vec{x}_N)\\\\\n",
    "\\nabla_{\\vec{x}_2} E(\\vec{x}_1, \\vec{x}_2, \\dots, \\vec{x}_N)\\\\\n",
    "\\vdots\\\\\n",
    "\\nabla{\\vec{x}_N} E(\\vec{x}_1, \\vec{x}_2, \\dots, \\vec{x}_N)\n",
    "\\end{pmatrix}\n",
    "=\n",
    "\\begin{pmatrix}\n",
    "\\frac{\\partial E}{\\partial x_1}, \\frac{\\partial E}{\\partial y_1}\\\\\n",
    "\\frac{\\partial E}{\\partial x_2}, \\frac{\\partial E}{\\partial y_2}\\\\\n",
    "\\vdots\\\\\n",
    "\\frac{\\partial E}{\\partial x_N}, \\frac{\\partial E}{\\partial y_N}\n",
    "\\end{pmatrix}\n",
    "$$\n",
    "were we droped $(\\vec{x}_1, \\vec{x}_2, \\dots, \\vec{x}_N)$ in the last equality to aleviate the notation. Use the previous formula and check that the output shape is indeed what you expect."
   ]
  },
  {
   "cell_type": "code",
   "execution_count": 38,
   "id": "forced-parker",
   "metadata": {},
   "outputs": [],
   "source": [
    "# Your code here:"
   ]
  },
  {
   "cell_type": "markdown",
   "id": "egyptian-lesson",
   "metadata": {},
   "source": [
    "**3.4** Code the gradient descent algorithm. The inputs are a configuration, the learning rate $\\gamma$, the maximum number of iterations $T$ and convergence threshold $\\epsilon$. The algorithm stops either when $T$ iterations are done or when the Frobenius norm (defined as $\\sqrt{\\sum_{i=1}^n\\sum_{j=1}^m A_{ij}^2}$ where $A_{ij}$ are the elements of a matrix $A\\in\\mathbb{R}^{n\\times m}$) of the gradient is $<\\epsilon$. The function should return the obtained configuration.\n",
    "\n",
    "Hint: The Frobenius norm can be obtained by applying `np.linalg.norm` to a matrix."
   ]
  },
  {
   "cell_type": "code",
   "execution_count": 40,
   "id": "rapid-renewal",
   "metadata": {},
   "outputs": [],
   "source": [
    "# Your code here:"
   ]
  },
  {
   "cell_type": "markdown",
   "id": "adopted-duplicate",
   "metadata": {},
   "source": [
    "**3.5** Run the gradient descent algorithm with the initial configuration described in 3.3, with $\\gamma=0.1$, $T=1000$ and $\\epsilon=10^{-6}$. What is the energy of the obtained configuration ? Plot the particles as points. What geometric shape do the particles form ? \n",
    "\n",
    "Hint: be sure to have an equal aspect ratio when plotting the figure, otherwise the interpretation of geometric shape could be difficult !"
   ]
  },
  {
   "cell_type": "code",
   "execution_count": 42,
   "id": "royal-salad",
   "metadata": {},
   "outputs": [],
   "source": [
    "# Your code here:"
   ]
  },
  {
   "cell_type": "markdown",
   "id": "approved-jungle",
   "metadata": {},
   "source": [
    "Your answer here:"
   ]
  },
  {
   "cell_type": "markdown",
   "id": "departmental-begin",
   "metadata": {},
   "source": [
    "**3.6** Start from another 3 particles configuration of your choice where the particles are not aligned. Do you obtain the same final energy and configuration ? Why ?"
   ]
  },
  {
   "cell_type": "code",
   "execution_count": 46,
   "id": "maritime-primary",
   "metadata": {},
   "outputs": [],
   "source": [
    "# Your code here:"
   ]
  },
  {
   "cell_type": "markdown",
   "id": "extraordinary-vulnerability",
   "metadata": {},
   "source": [
    "Your answer here"
   ]
  },
  {
   "cell_type": "markdown",
   "id": "prospective-merchandise",
   "metadata": {},
   "source": [
    "**3.7** Start from the configuration\n",
    "$$\n",
    "(x_1, y_1)=(0,0)\n",
    "$$\n",
    "$$\n",
    "(x_2, y_2)=(1,0)\n",
    "$$\n",
    "$$\n",
    "(x_3, y_3)=(2,0).\n",
    "$$\n",
    "What configuration do you obtain. What is its energy ? What does it mean ?\n"
   ]
  },
  {
   "cell_type": "code",
   "execution_count": 48,
   "id": "spread-fever",
   "metadata": {},
   "outputs": [],
   "source": [
    "# Your code here:"
   ]
  },
  {
   "cell_type": "markdown",
   "id": "civic-education",
   "metadata": {},
   "source": [
    "Your answer here:"
   ]
  },
  {
   "cell_type": "markdown",
   "id": "rolled-instrument",
   "metadata": {},
   "source": [
    "**3.8** Do the same for $N=4,5$, starting from multiple non-aligned positions of your choice. What energy and what geometric shape do you obtain for each case ? \n",
    "\n",
    "Optional question (not graded): Can you obtain two different geometric shapes with close energies in the case $N=5$ ?"
   ]
  },
  {
   "cell_type": "code",
   "execution_count": 50,
   "id": "narrative-defensive",
   "metadata": {},
   "outputs": [],
   "source": [
    "# Your code here:"
   ]
  },
  {
   "cell_type": "markdown",
   "id": "medieval-technician",
   "metadata": {},
   "source": [
    "Your answer here:"
   ]
  }
 ],
 "metadata": {
  "kernelspec": {
   "display_name": "Python 3",
   "language": "python",
   "name": "python3"
  },
  "language_info": {
   "codemirror_mode": {
    "name": "ipython",
    "version": 3
   },
   "file_extension": ".py",
   "mimetype": "text/x-python",
   "name": "python",
   "nbconvert_exporter": "python",
   "pygments_lexer": "ipython3",
   "version": "3.8.5"
  }
 },
 "nbformat": 4,
 "nbformat_minor": 5
}
