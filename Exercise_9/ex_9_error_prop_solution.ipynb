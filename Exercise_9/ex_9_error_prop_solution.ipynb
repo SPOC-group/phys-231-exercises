{
 "cells": [
  {
   "cell_type": "markdown",
   "id": "a9c52c23-9ba8-47ee-980e-55caf84eac1e",
   "metadata": {
    "tags": []
   },
   "source": [
    "# Error propagation and parameter estimation\n",
    "In this exercise you will experiment with error propagation and parameter inference, by applying these two techniques to artificially generated and real-world data.\n",
    "The goal of this exercise is to prepare you to analyze real data that you will encounter in your lab experiments in the future.\n",
    "\n",
    "This exercise puts in practice lecture 7 on propagation of uncertainty.\n",
    "\n",
    "1. In Exercise 1 you will discover the power and failure modes of single variable error propagation\n",
    "2. In Exercise 2 you will learn how to propagate errors through multivariate functions\n",
    "\n",
    "Let's go!"
   ]
  },
  {
   "cell_type": "code",
   "execution_count": 23,
   "id": "32a35e18-e6a2-49e2-a97e-9c692bf803e5",
   "metadata": {},
   "outputs": [],
   "source": [
    "import numpy as np\n",
    "import matplotlib.pyplot as plt"
   ]
  },
  {
   "cell_type": "markdown",
   "id": "5e982384-90c2-4d68-b0cc-b79de532c923",
   "metadata": {},
   "source": [
    "# Ex 1: single variable error propagation\n",
    "You're doing an experiment and you measure a certain unknown quantity $x_\\star$, $n$ times. \n",
    "Your measurements $\\pmb x=(x_1,x_2,\\dots,x_n)$ are each affected by a random error: $x_i= x_\\star+\\epsilon_i$. The only thing you know is that $\\epsilon_i$ are all independent, and that they have mean zero, i.e., $\\mathbb E[\\epsilon_i]=0$ for all $i$. The mean zero assumption, is quite reasonable in a lab setting and means that there is no systematic error in your measurements.\n",
    "\n",
    "\n",
    "Notice that in this model we have $\\mathbb E[x_i]=\\mathbb E[x_\\star+\\epsilon_i]=x_\\star+\\mathbb E[\\epsilon_i]=x_\\star$, for all $i$. \n",
    "\n",
    "\n",
    "\n"
   ]
  },
  {
   "cell_type": "markdown",
   "id": "f41ccdf4-01ed-4059-8e98-d058da24e63b",
   "metadata": {},
   "source": [
    "### Ex 1.1: Basic statistics on $\\pmb x$\n",
    "\n",
    "In the next the function `read_data(n)` reads the first `n` samples $(x_1,\\dots x_n)$, from a file (for a maximum of $n=10^5$).\n",
    "\n",
    "Set `n=30`\n",
    "\n",
    "2. Compute and print the empirical mean of $\\pmb x$, i.e., compute $\\hat x=\\frac{1}{n}\\sum_{i=1}^n x_i$\n",
    "3. Compute and print the empirical standard deviation of $\\pmb x$, i.e., compute $s_x=\\sqrt{\\frac{1}{n-1}\\sum_{i=1}^n (\\hat x- x_i)^2}$.\n",
    "4. Compute and print the estimated standard deviation of the mean: $s_{\\hat x}=s_x/\\sqrt{n}$.\n"
   ]
  },
  {
   "cell_type": "code",
   "execution_count": 24,
   "id": "7acd56be-c3bc-437e-aa41-fa1f21a78db4",
   "metadata": {},
   "outputs": [],
   "source": [
    "def read_data(n):\n",
    "    return np.load(\"data.npy\")[:n]\n",
    "n=30\n",
    "x=read_data(n)\n",
    "#TODO: compute mean, standard deviation of x, and standard deviation of the mean of x."
   ]
  },
  {
   "cell_type": "code",
   "execution_count": 25,
   "id": "d690be8c-4841-4f8b-8487-4f975f946f52",
   "metadata": {},
   "outputs": [
    {
     "name": "stdout",
     "output_type": "stream",
     "text": [
      "mean=0.9704745861402791\n",
      "standard deviation of x = 0.18668522046987526\n",
      "standard deviation of the mean = 0.034083902134725286\n"
     ]
    }
   ],
   "source": [
    "#Solution\n",
    "def read_data(n):\n",
    "    return np.load(\"data.npy\")[:n]\n",
    "n=30\n",
    "x=read_data(n)\n",
    "#x=np.random.normal(loc=1,scale=0.18,size=100000)\n",
    "#file=open(\"data.npy\",'w')\n",
    "#np.save(\"data.npy\",x)\n",
    "x_hat=np.mean(x)\n",
    "s_x=np.sqrt(np.sum((x-x_hat)**2)/(len(x)-1))\n",
    "s_x=np.sqrt(np.std(x,ddof=1)**2)\n",
    "s_x_hat=s_x/np.sqrt(n)\n",
    "\n",
    "print(f\"mean={x_hat}\")\n",
    "print(f\"standard deviation of x = {s_x}\")\n",
    "print(f\"standard deviation of the mean = {s_x_hat}\")"
   ]
  },
  {
   "cell_type": "markdown",
   "id": "adfa35b9-af5d-4371-be6b-19e0d9daba05",
   "metadata": {},
   "source": [
    "### Theory reminder\n",
    "It often happens that we measure $x$ but we're not directly interested in $x$, instead we want to estimate $y_\\star=f(x_\\star)$ (as before $\\star$ denotes the unknown ground truth). \n",
    "\n",
    "We can estimate $y_\\star$ by computing $\\hat y=f(\\hat x)$. In other words we plug the mean of $\\pmb x$ into $f()$. This has the advantage that when $\\hat x\\to x_\\star$, then $\\hat y\\to y_\\star$. Since $\\hat x$ is a random variable, $\\hat y$ is also a random variable. \n",
    "We now estimate the standard deviation of $\\hat y$.\n",
    "\n",
    "We use the error propagation formula, which is based on a first order Taylor expansion at $\\mathbb E[x]=x_\\star$:  $$f(\\hat x)=f(x_\\star)+f'(x_\\star)(\\hat x-x_\\star)+O((\\hat x-x_\\star)^2).$$\n",
    "Recalling that $\\text{Var}(a \\hat x+b)=a^2\\text{Var}(\\hat x)$, we get to the usual error propagation formula: \n",
    "$$\\text{Var}(\\hat y)\\approx [f'(x_\\star)]^2 \\text{Var}(\\hat x)$$ which you already saw in the lectures.\n",
    "\n",
    "But there are still a two problems:\n",
    "1. We don't know $x_\\star$ so what do we plug in this formula? We use the approximation $x_\\star\\approx \\hat x$, which is true if the error on the mean is sufficiently small (i.e. if we have enough samples).\n",
    "2. In many cases, we don't know $\\text{Var}(\\hat x)$, since we don't know in advance the error that affects our measurements. To solve this we use the approximation $\\text{Var}(\\hat x)\\approx s^2_{\\hat x}= s^2_x/n$, where $s_x=\\sqrt{\\frac{1}{n-1}\\sum_{i=1}^n (\\hat x- x_i)^2}$ is our estimator of the standard deviation of $x$. \n",
    "\n",
    "In summary what we did was replacing the unknown quantities with their estimated values from the data.\n",
    "\n",
    "The final formula is\n",
    "\n",
    "$$\\text{Var}(\\hat y)\\approx [f'(\\hat x)]^2 \\frac{s^2}{n}$$"
   ]
  },
  {
   "cell_type": "markdown",
   "id": "e8a2c8ae-b15e-4319-96be-7496303ac8c7",
   "metadata": {},
   "source": [
    "### Ex 1.2\n",
    "Take the function $f(x)=(x+1)^2$\n",
    "1. Compute and print $\\hat y=f(\\hat x)$\n",
    "2. Compute and print the estimated standard deviation of $\\hat y$\n",
    "3. The true value of $x$ is $x_\\star=1$. Is $\\hat x$ compatible with this value?\n",
    "4. Is $\\hat y$ compatible with $y_\\star$=4?\n",
    "\n",
    "How to check for compatibility? A useful heuristic to check if an estimate $\\hat x \\pm s_{\\hat x}$ is compatible with the true value $x_\\star$ is to see if $|\\hat x-x_\\star| \\approx s_{\\hat x}$ (e.g. $|\\hat x-x_\\star| \\in  [s_{\\hat x}/2,2s_{\\hat x}]$)\n",
    "1. If  $|\\hat x-x_\\star| \\gg s_{\\hat x}$ (e.g. $|\\hat x-x_\\star| > 3 s_{\\hat x}$) it means that the estimate is incompatible with the true value\n",
    "2. If $|\\hat x-x_\\star| \\ll s_{\\hat x}$ (e.g. $|\\hat x-x_\\star| < 0.2 s_{\\hat x}$) it means that the estimate is compatible with the true value but the standard deviation $s_{\\hat x}$ has been overestimated.\n",
    "3. If $|\\hat x-x_\\star| \\approx s_{\\hat x}$ then the estimate is compatible with $x_\\star$ and the standard deviation looks appropriate\n",
    "\n",
    "You will see more about this when talking about statistical tests."
   ]
  },
  {
   "cell_type": "code",
   "execution_count": 26,
   "id": "d063442e-33b9-4773-ab4a-14caf2c62f0e",
   "metadata": {},
   "outputs": [],
   "source": [
    "def f(x):\n",
    "    return (x+1)**2\n",
    "\n",
    "# TODO: compute f(x_hat), compute the standard deviation of f(x_hat) using error propagation\n"
   ]
  },
  {
   "cell_type": "code",
   "execution_count": 27,
   "id": "9cb6158d-d63e-4a54-a1f6-6efc4a2579cc",
   "metadata": {},
   "outputs": [
    {
     "name": "stdout",
     "output_type": "stream",
     "text": [
      "f(x_hat) = 3.882770094624705\n",
      "standard deviation of f(x_hat): 0.13432292590593717\n"
     ]
    }
   ],
   "source": [
    "#Solution\n",
    "def f(x):\n",
    "    return (x+1)**2\n",
    "\n",
    "\n",
    "def deriv_f(x):\n",
    "    return 2*(x+1)\n",
    "\n",
    "y_hat=f(x_hat)\n",
    "s_y_hat=np.sqrt(deriv_f(x_hat)**2*s_x_hat**2)\n",
    "\n",
    "print(f\"f(x_hat) = {y_hat}\")\n",
    "print(f\"standard deviation of f(x_hat): {s_y_hat}\")\n",
    "#It is compatible and the variance is not underestimated"
   ]
  },
  {
   "cell_type": "markdown",
   "id": "a3b9180b-625f-4a4b-b05c-4385c64651d7",
   "metadata": {},
   "source": [
    "### Ex 1.3\n",
    "So far we have first averaged our samples, and then computed $f$ on the mean $\\hat x$. Could we do the reverse (i.e. first computing $f(x_i)$ for all $i$, and then taking $\\hat y_2=\\frac{1}{n}\\sum_{i=1}^n f(x_i)$)? Let's see where this leads us.\n",
    "1. Compute $\\pmb y=(y_1,\\dots,y_n)=(f(x_1),\\dots,f(x_n))$.\n",
    "2. Compute and print $\\hat y_2=\\frac{1}{n}\\sum_{i=1}^n f(x_i)=\\frac{1}{n}\\sum_{i=1}^n y_i$\n",
    "3. Compute and print the empirical standard deviation of $\\hat y_2$. $s_{\\hat{y}_2}=\\frac{1}{\\sqrt n}\\sqrt{\\frac{1}{n-1}\\sum_{i=1}^n (y_i-\\hat y_2)^2}$\n",
    "4. Repeat the compatibility analysis done at the previous point: is $\\hat y_2$ compatible with $y_\\star$?"
   ]
  },
  {
   "cell_type": "code",
   "execution_count": 28,
   "id": "cbc4cd79-4880-440f-8951-aedb2d5eb1f6",
   "metadata": {},
   "outputs": [
    {
     "name": "stdout",
     "output_type": "stream",
     "text": [
      "3.91645975378186\n",
      "0.13158275174391057\n"
     ]
    }
   ],
   "source": [
    "#Solution:\n",
    "y=f(x)\n",
    "y_hat2=np.mean(y)\n",
    "s_y_hat2=np.std(y,ddof=1)/np.sqrt(len(y))\n",
    "print(y_hat2)\n",
    "print(s_y_hat2)"
   ]
  },
  {
   "cell_type": "markdown",
   "id": "99389157-1791-4ce4-97d5-3be0c8531287",
   "metadata": {},
   "source": [
    "### Ex 1.4\n",
    "now set $n=50000$ and recompute (by rerunning the cells) $\\hat x, s_{\\hat x}, \\hat y,s_{\\hat y}, \\hat y_2,s_{\\hat y_2}$.\n",
    "1. Is $\\hat x$ compatible with $x_\\star$?\n",
    "2. Is $\\hat y$ compatible with $y_\\star$?\n",
    "3. Is $\\hat y_2$ compatible with $y_\\star$?\n"
   ]
  },
  {
   "cell_type": "markdown",
   "id": "aacbb406-2b38-47a5-a9fb-f820ba2ad528",
   "metadata": {},
   "source": [
    "Solution: Yes to 1,2. No to 3."
   ]
  },
  {
   "cell_type": "markdown",
   "id": "3ec82ecf-7d06-4582-84fe-20842491e19e",
   "metadata": {},
   "source": [
    "###  Bias and Variance\n",
    "What is going on? Both $\\hat y$ and $\\hat y_2$ seem very reasonable estimators for $y_\\star$\n",
    "Why then when $n$ is large,  $\\hat y$ is compatible with $y_\\star$, while $\\hat y_2$ isn't? \n",
    "To understand it let's first do a bit of theory.\n",
    "\n",
    "Let's decompose the error of a generic estimator $\\hat \\theta$. Suppose that the aim is to estimate $\\theta_\\star$, starting from some data $(x_1,\\dots,x _n)$. \n",
    "What we care about is the square error $$e(\\hat \\theta,\\theta_\\star)=\\mathbb E[(\\hat \\theta -\\theta_\\star)^2],$$ where the average is over the distribution of $\\hat \\theta$ and hence over the randomness in data $(x_1,\\dots,x_n)$ one receives. We can rewrite this error as\n",
    "$$e(\\hat \\theta,\\theta_\\star)=\\mathbb E\\left[(\\hat \\theta -\\mathbb E[\\hat \\theta]+\\mathbb E[\\hat \\theta]-\\theta_\\star)^2\\right]=\\mathbb E\\left[(\\mathbb E[\\hat \\theta]-\\theta_\\star)^2\\right]+\\mathbb E\\left[(\\hat \\theta- \\mathbb E[\\hat \\theta])^2\\right]+2\\mathbb E\\left[(\\hat \\theta- \\mathbb E[\\hat \\theta])(\\mathbb E[\\hat \\theta]-\\theta_\\star)\\right].$$\n",
    "The last term is zero since $E\\left[(\\hat \\theta- \\mathbb E[\\hat \\theta])(\\mathbb E[\\hat \\theta]-\\theta_\\star)\\right]=(\\mathbb E[\\hat \\theta]-\\theta_\\star)E\\left[(\\hat \\theta- \\mathbb E[\\hat \\theta])\\right]=0$.\n",
    "\n",
    "We're left with the following decomposition of the error\n",
    "$$e(\\hat \\theta,\\theta_\\star)=\\mathbb E\\left[(\\mathbb E[\\hat \\theta]-\\theta_\\star)^2\\right]+\\mathbb E\\left[(\\hat \\theta- \\mathbb E[\\hat \\theta])^2\\right]=\\mathbb E\\left[ \\text{bias}(\\hat \\theta,\\theta_\\star)^2\\right]+\\text{Var}\\left[\\hat \\theta\\right],\\qquad \\text{bias}(\\hat \\theta,\\theta_\\star)=(\\mathbb E[\\hat \\theta]-\\theta_\\star).$$\n",
    "Hence the error is composed of two terms:\n",
    "1. A variance term which quantities how much my estimator $\\hat \\theta$ varies when $(x_1,\\dots,x_n)$ is resampled\n",
    "2. A bias term that quantities the sistematic \"shift\" of my estimator with respect to the true value\n",
    "\n",
    "Notice that $s_{\\hat \\theta}^2$ is an estimator *only* for $\\text{Var}\\left[\\hat \\theta\\right]$. So either the estimator $\\hat \\theta$ is unbiased (i.e., the bias is zero), or we're neglecting a part of the error.\n",
    "To see if this is the case, let's compute the bias for $\\hat x,\\hat y,\\hat y_2$."
   ]
  },
  {
   "cell_type": "markdown",
   "id": "2210910e-19fa-41fe-ac61-3b8fdb1c9085",
   "metadata": {},
   "source": [
    "#### Bias Variance in practice\n",
    "In the following cells you don't have to do anything. The plots shown below are meant to show you the bias and variance in practice.\n",
    "\n",
    "#### Example 1: $\\hat x$\n",
    "Take $\\theta_\\star=x_\\star=\\mathbb E[x]$. Consider the estimator given by the empirical mean $\\hat x=\\frac{1}{n}\\sum_{i=1}^n x_i$. Let's prove that $\\hat x$ is an unbiased estimator of $\\mathbb E[x]$.\n",
    "We have $\\mathbb E[\\hat x]=\\mathbb E\\left[\\frac{1}{n}\\sum_{i=1}^n x_i\\right]=\\frac{1}{n}\\sum_{i=1}^n \\mathbb E[x_i]=\\mathbb E[x]=x_\\star$. Therefore the bias is zero.\n",
    "\n",
    "We verify this below by plotting $\\hat x$ for an increasing number of samples. We also plot the one standard deviation interval $[\\hat x-s_{\\hat x},\\hat x+s_{\\hat x}]$, and a horizontal line at $x_\\star$.\n",
    "\n",
    "If $\\hat x$ had been biased when $n\\to \\infty$, it would not converge to $x_\\star$."
   ]
  },
  {
   "cell_type": "code",
   "execution_count": 29,
   "id": "4d0f7522-17e3-4807-8bd3-93cf701fb505",
   "metadata": {},
   "outputs": [
    {
     "data": {
      "text/plain": [
       "Text(0.5, 0, 'n')"
      ]
     },
     "execution_count": 29,
     "metadata": {},
     "output_type": "execute_result"
    },
    {
     "data": {
      "image/png": "[encoded data removed]",
      "text/plain": [
       "<Figure size 640x480 with 1 Axes>"
      ]
     },
     "metadata": {},
     "output_type": "display_data"
    }
   ],
   "source": [
    "n=10000\n",
    "x_star=1\n",
    "x=read_data(n)\n",
    "x_hat=np.cumsum(x)/np.arange(1,n+1)\n",
    "mean_x_squared=np.cumsum(x**2)/np.arange(1,n+1)\n",
    "s_x_hat=np.sqrt((mean_x_squared-x_hat**2)/np.arange(1,n+1))\n",
    "plt.plot(x_hat,label=\"$\\hat x$\")\n",
    "plt.fill_between(np.arange(0,n),x_hat-s_x_hat,x_hat+s_x_hat,alpha=0.3,label=\"$[\\hat x-s_{\\hat x},\\hat x+s_{\\hat x}]$\")\n",
    "plt.axhline(x_star,c=\"black\",label=\"$x_\\star$\")\n",
    "plt.plot()\n",
    "plt.legend()\n",
    "plt.grid(alpha=0.4)\n",
    "plt.xscale('log')\n",
    "plt.xlabel('n')"
   ]
  },
  {
   "cell_type": "markdown",
   "id": "cf6299b9-c835-4895-b634-df7f55c5698d",
   "metadata": {},
   "source": [
    "#### Example 2: $\\hat y$\n",
    "Take $\\theta_\\star=f(x_\\star)=f(\\mathbb E[x])$.  Consider the estimator $\\hat y$ given by $\\hat y=f(\\hat x)=f\\left(\\frac{1}{n}\\sum_{i=1}^n x_i\\right)$. This estimator is asymptotically unbiased, emaning that when $n\\to\\infty$ the bias goes to zero.\n",
    "We have $\\text{bias}(\\hat y,y_\\star)=\\mathbb E\\left[f(\\hat x)\\right]-f(x_\\star)$. When $n\\to\\infty$, by the law of large numbers $\\hat x\\to x_\\star$, and thus $\\text{bias}(\\hat y,y_\\star)\\to0$.\n",
    "\n",
    "#### Example 3: $\\hat y_2$\n",
    "Take $\\theta_\\star=f(x_\\star)=f(\\mathbb E[x])$.  Consider the estimator $\\hat y_2$ given by $\\hat y_2=\\frac{1}{n}\\sum_{i=1}^n f(x_i)$. This estimator is not unbiased, and even when $n\\to\\infty$ it has a fixed bias.\n",
    "$\\text{bias}(\\hat y,y_\\star)=\\mathbb E\\left[\\frac{1}{n}\\sum_{i=1}^n f(x_i)\\right]-f(\\mathbb E[x])=\\mathbb E[f(x)]-f(\\mathbb E[x])$. \n",
    "To see that $\\mathbb E[f(x)]\\neq f(\\mathbb E[x])$ in general, take the following example. Let $\\mathbb E[x]=0$, $\\mathbb E[x^2]=1$ and $f(x)=x^2$. Then\n",
    "\n",
    "1. $f(\\mathbb E[x])=f(0)=0$\n",
    "2. $\\mathbb E[f(x)]=\\mathbb E[x^2]=1$\n",
    "\n",
    "\n",
    "Below we plot the same quantities as in the previous cell, namely $\\hat y, \\hat y_2$, along with their one standard deviation interval.\n",
    "\n",
    "Observe the behavior of $\\hat y_2$ for large $n$. It does not converge to $y_\\star=f(x_\\star)$  !!"
   ]
  },
  {
   "cell_type": "code",
   "execution_count": 30,
   "id": "f1f72f36-9531-459f-84ab-03cfc345ef95",
   "metadata": {},
   "outputs": [
    {
     "data": {
      "text/plain": [
       "Text(0.5, 0, 'n')"
      ]
     },
     "execution_count": 30,
     "metadata": {},
     "output_type": "execute_result"
    },
    {
     "data": {
      "image/png": "[encoded data removed]",
      "text/plain": [
       "<Figure size 640x480 with 1 Axes>"
      ]
     },
     "metadata": {},
     "output_type": "display_data"
    }
   ],
   "source": [
    "y_star=f(x_star)\n",
    "\n",
    "y_hat=f(x_hat)\n",
    "s_y_hat= np.sqrt(deriv_f(x_hat)**2*s_x_hat**2)\n",
    "plt.plot(y_hat,label=r\"$\\hat y=f(\\hat x)$\")\n",
    "plt.fill_between(np.arange(0,n),y_hat-s_y_hat,y_hat+s_y_hat,alpha=0.3,label=\"$[\\hat y-s_{\\hat y},\\hat y+s_{\\hat y}]$\")\n",
    "\n",
    "\n",
    "y_hat_2=np.cumsum(f(x))/np.arange(1,n+1)\n",
    "mean_y_squared=np.cumsum(f(x)**2)/np.arange(1,n+1)\n",
    "s_y_hat_2=np.sqrt((mean_y_squared-y_hat_2**2)/np.arange(1,n+1))\n",
    "plt.plot(y_hat_2,label=r\"$\\hat y_2=\\frac{1}{n}\\sum_i f(x_i)$\")\n",
    "\n",
    "plt.fill_between(np.arange(0,n),y_hat_2-s_y_hat_2,y_hat_2+s_y_hat_2,alpha=0.3,label=\"$[\\hat y_2-s_{\\hat y_2},\\hat y_2+s_{\\hat y_2}]$\")\n",
    "plt.axhline(y_star,c=\"black\",label=\"$y_\\star$\")\n",
    "plt.plot()\n",
    "plt.legend()\n",
    "plt.grid(alpha=0.4)\n",
    "plt.xscale('log')\n",
    "plt.xlabel('n')"
   ]
  },
  {
   "cell_type": "markdown",
   "id": "f1de642d-0635-4e0c-a931-d762c9ceed8b",
   "metadata": {},
   "source": [
    "### Ex 1.5\n",
    "After reading about the bias variance decomposition explain:\n",
    "1. Why in Exercise 1.4 you observed that the value of $\\hat y_2$ was not compatible with $y_\\star$.\n",
    "2. What is the meaning of $s_{\\hat y_2}$ and why it does not capture the deviation from $y_\\star$\n",
    "3. Would you use $\\hat y_2$ to estimate $y_\\star$?"
   ]
  },
  {
   "cell_type": "markdown",
   "id": "c66efdbb-4acb-4c3f-bd1a-7a89ce078ef9",
   "metadata": {},
   "source": [
    "#### Solution:\n",
    "(1 and 2) $\\hat y_2$ is biased, even asymptotically, so it converges to a value different than $y_\\star$. Moreover the error bars don't take this into account because they measure the standard deviation of $\\hat y_2$, which indeed goes to zero when $n\\to\\infty$. Thus the incompatibility arises from the fact that standard deviation of $\\hat y_2$ goes to zero while the bias is fixed. This inevitably gives $|\\hat y_2-y_\\star|\\gg s_{\\hat y_2}$.\n",
    "\n",
    "(3) No"
   ]
  },
  {
   "cell_type": "markdown",
   "id": "096cdfd1-4596-4e80-a94e-2ed46a908476",
   "metadata": {
    "tags": []
   },
   "source": [
    "# Ex 2: multivariate error propagation\n",
    "Consider error propagation through a function with $d$ variables: $f(\\pmb x)=f(x_1,\\dots,x_d)$. In this section the index $i\\in\\{1,\\dots,n\\}$ will run across samples, while the index $a\\in\\{1,\\dots,d\\}$ will run across variables. Moreover we use the notation $\\pmb x=(x_1,\\dots,x_d)$ and $\\mathbb E[\\pmb x]=\\left(\\mathbb E[x_1],\\dots,\\mathbb E[x_d]\\right)$.  \n",
    "\n",
    "The empirical mean $\\bar {\\pmb x}$ is $\\bar {\\pmb x}=(\\bar x_1,\\dots,\\bar x_d)$, with $\\bar x_a=\\frac{1}{n}\\sum_{i=1}^n x_{ai}$.\n",
    "Similarly one can associate an empirical standard deviation $s_a$ to each coordinate. We define $y=f(\\bar{\\pmb x})$.\n",
    "\n",
    "In the lecture part 7.3 you saw two formulas for propagating errors through functions:\n",
    "\n",
    "1. $\\text{Var}(f(x))=\\sum_{a=1}^d \\left(\\frac{\\partial f}{\\partial x_a}(\\mathbb E [\\pmb x])\\right)^2 \\text{Var}(x_a),$ which is **valid when all $x_a$ are uncorrelated**. When we estimate the mean $\\bar{\\pmb x}$ and the standard deviations $\\{s_a\\}$ this formula becomes $$s_y=\\sqrt{\\sum_{a=1}^d \\left(\\frac{\\partial f}{\\partial x_a}(\\bar {\\pmb x})\\right)^2 s_a^2},$$ where $s_y$ is the standard deviation of $f(\\bar{\\pmb x})$ and $s_a$ is the standard deviation of the empirical mean of $x_a$.  \n",
    "2. If we suspect our variables to be correlated, then one can use the more conservative (meaning it gives larger errors) formula $\\sigma_y=\\sum_{a=1}^d \\left|\\frac{\\partial f}{\\partial x_a}(\\mathbb E[\\pmb x])\\right| \\sigma_a$, where $\\sigma_a^2=\\text{Var}(x_a)$. Replacing mean and variance with their empirical estimates gives\n",
    "\n",
    "$$s_y=\\sum_{a=1}^d \\left|\\frac{\\partial f}{\\partial x_a}(\\bar {\\pmb x})\\right| s_a,$$ which one can directly apply to data."
   ]
  },
  {
   "cell_type": "markdown",
   "id": "5b1447cb-a61b-428f-a5a6-06f5588f9c15",
   "metadata": {},
   "source": [
    "### Multivariate error propagation in theory\n",
    "In a lab experiment you want to estimate the calorific value $H_C^\\star$ of a combustible (meaning the energy per unit of mass one obtains when burning the combustible).\n",
    "\n",
    "\n",
    "We compute this quantity by burning a mass $m_c$ (`mc` in the code) of combustible and using the heat to increase the temperature of a mass $M$ of water by $\\Delta T$ (`DT` in the code). We repeat this procedure several times. In the next code cell you can find the values of $m_c, M,\\Delta T$ obtained in different repetitions.\n",
    "\n",
    "\n",
    "\n",
    "One can then compute the calorific value as $$H_C= c\\frac{ M\\Delta T}{m_c},\\quad c=4.184 \\,\\text{J} \\cdot\\text{g}^{-1} \\text{K}^{-1}.$$\n",
    "\n",
    "Based on the previous exercise your first reflex would be to compute the mean of $M$, $\\Delta T$, $m_c$, and then plug these into the formula for $H_C$. But this is wrong, let's see why.\n",
    "In this example there are no unique true values $m_c^\\star,\\Delta T^\\star, M^\\star$ that give $H_C^\\star$. Instead one can obtain $H_C^\\star$ from several different combinations of $M,\\Delta T,m_c$.\n",
    "For example both $M=500,\\Delta T=4,m_c=0.2$ and $M=1000,\\Delta T=2,m_c=0.2$ give $H_C=10^5$. And it is indeed likely that in different realizations of the experiment one finds himself with completely different values of $M$, $\\Delta T$, $m_c$, which all give similar $H_C$. \n",
    "\n",
    "The best thing to do in this case is to compute a different estimate of $H_C$ from each combination of $M$, $\\Delta T$, $m_c$. In other words we will have\n",
    "$$(H_C)_i= c\\frac{ M_i\\Delta T_i}{(m_c)_i},\\quad i\\in\\{1,\\dots,n\\}$$\n",
    "\n",
    "For each $(H_C)_i$ we propagate the uncertainty of the measurement onto $H_C$, finding the standard deviation $(s_{H_C})_i$. We do so by using the uncertainties given by the sensitivity of the measuring instruments (scales and thermometer). Hence in this case one does not need to estimate the standard deviation from data.\n",
    "The measurements of $m_c$, $\\Delta T$, $M$ are all affected by errors $\\sigma_{m_c}=0.029\\,g,\\;\\sigma_{M}=14 \\,g$, $\\sigma_{\\Delta T}=0.058\\, K$.\n",
    "Propagating the uncertainties will give us $(\\sigma_{H_C})_i$, i.e., the standard deviation of the $i-th$ estimate of $H_C$.\n",
    "\n",
    "To estimate $H_C^\\star$ we compute $$\\hat H_C=\\frac{1}{n}\\sum_{i=1}^n (H_C)_i$$\n",
    "\n",
    "\n"
   ]
  },
  {
   "cell_type": "markdown",
   "id": "0b727d15-9507-483b-a127-4e3859180260",
   "metadata": {},
   "source": [
    "### Ex 2.1: analytical error propagation\n",
    "Apply both (the one for uncorrelated and the conservative one) error propagation formulas to $H_C$ to find an analytical expression for $s_{H_C}$."
   ]
  },
  {
   "cell_type": "markdown",
   "id": "ae27e139-6e83-4bd7-9c41-966b4a2e910c",
   "metadata": {},
   "source": [
    "#### Solution:\n",
    "Assuming uncorrelated variables\n",
    "$$\\sigma_{H_c}^2=\\left(c \\frac{ M}{{m_c}}\\right)^2\\sigma_{{\\Delta T}}^2+\\left(c\\frac{{\\Delta T}}{{m_c}}\\right)^2\\sigma_{ M}^2+\\left(c\\frac{{M}{\\Delta T}}{{m_c}^2}\\right)^2\\sigma_{m_c}^2$$\n",
    "Conservative estimate assuming correlated variables\n",
    "$$\\sigma_{H_c}=\\left|c \\frac{M}{{m_c}}\\right|\\sigma_{{\\Delta T}}+\\left|c\\frac{{\\Delta T}}{{m_c}}\\right|\\sigma_{M}+\\left|c\\frac{M\\Delta T}{m_c^2}\\right|\\sigma_{m_c}$$\n"
   ]
  },
  {
   "cell_type": "markdown",
   "id": "8ae6f7ee-79fe-4e2b-aac6-3d2fd67cb033",
   "metadata": {},
   "source": [
    "### Ex 2.2: numerical error propagation\n",
    "In the next code cell you can find the values of $m_c, M,\\Delta T$ obtained in $n=10$ repetitions fo the experiment. \n",
    "1. For each sample $i\\in\\{1,\\dots,n \\}$ compute $(H_C)_i$ using the formula given above.\n",
    "2. For each $i\\in\\{1,\\dots, n\\}$ compute $(s_{H_c})_i$ (i.e., the uncertainty on $(H_C)_i$) by using the formulas you derived in Ex 2.1. You should obtain two arrays of uncertainties. The length of each array is the same as the number $n$ samples.\n",
    "3. Verify (by printing the uncertainties on $H_C$) that the conservative uncertainties are indeed larger than the ones assuming no correlation\n",
    "4. Which of the two uncertaities (uncorrelated or conservative) does it make sense to use in this setting? Is it reasonable to assume that the errors on $M,m_c,\\Delta T$ are uncorrelated within each experiment?\n",
    "\n",
    "*Hint: recall that one measures $M,m_c,\\Delta T$ by reading them from the respective measuring instruments (scales and thermometer)*"
   ]
  },
  {
   "cell_type": "code",
   "execution_count": 31,
   "id": "361fae81-2991-4bae-82a9-a1e2f306fd43",
   "metadata": {},
   "outputs": [],
   "source": [
    "M=np.array([513.95,440,600,515,574.09,523,577,593.19,670,728])\n",
    "DT=np.array([4.60,4.70,4.70,4.70,4.70,4.50,4.50,4.30,4.10,3.90])\n",
    "mc=np.array([0.20,0.20,0.20,0.20,0.20,0.20,0.20,0.20,0.20,0.20])\n",
    "#TODO: compute HC using each sample. Propagate the uncertainties onto HC. Verify that the conservative uncertainties are indeed larger than the uncertainties that assume the variables are uncorrelated."
   ]
  },
  {
   "cell_type": "code",
   "execution_count": 32,
   "id": "e69d6637-c510-4ee6-bc76-68cca2faa5f4",
   "metadata": {},
   "outputs": [
    {
     "name": "stdout",
     "output_type": "stream",
     "text": [
      "uncorrelated uncertainties\n",
      "[7323.52313151 6444.47823998 8694.76802421 7496.35595254 8328.91671438\n",
      " 7287.42525911 8016.36208653 7872.14070683 8457.98727451 8732.63402465]\n",
      "conservative uncertainties\n",
      "[ 9142.32765    8183.4856    10658.74       9343.7611    10257.9034906\n",
      "  9091.65418    9894.29182    9716.4819662 10346.509     10637.98736  ]\n",
      "HC\n",
      "[49458.4364  43262.56    58994.4     50636.86    56446.82516 49235.22\n",
      " 54318.78    53360.99964 57467.24    59396.064  ]\n"
     ]
    }
   ],
   "source": [
    "#Solution\n",
    "HC=4.184*M*DT/mc\n",
    "s_M=14*np.ones_like(M)\n",
    "s_DT=0.058*np.ones_like(DT)\n",
    "s_mc=0.029*np.ones_like(mc)\n",
    "\n",
    "def prop_uncert_uncorr_HC(M,DT,mc,s_M,s_DT,s_mc):\n",
    "    s2=(M/mc*s_DT)**2+(DT/mc*s_M)**2+(M*DT/mc**2*s_mc)**2\n",
    "    return 4.184*np.sqrt(s2)\n",
    "def prop_uncert_conservative(M,DT,mc,s_M,s_DT,s_mc):\n",
    "    return 4.184*(np.abs(M/mc)*s_DT+np.abs(DT/mc)*s_M+np.abs(M*DT/mc**2)*s_mc)\n",
    "\n",
    "s_HC_uncorr=prop_uncert_uncorr_HC(M,DT,mc,s_M,s_DT,s_mc)\n",
    "s_HC_conservative=prop_uncert_conservative(M,DT,mc,s_M,s_DT,s_mc)\n",
    "\n",
    "print(\"uncorrelated uncertainties\")\n",
    "print(s_HC_uncorr)\n",
    "print(\"conservative uncertainties\")\n",
    "print(s_HC_conservative)\n",
    "print(\"HC\")\n",
    "print(HC)\n",
    "#One should use the formula for uncorrelated errors since the errors on the measurements are independent. There is no reason why the error on the thermometer should be correlated with the error on the scale."
   ]
  },
  {
   "cell_type": "markdown",
   "id": "4e6b4ef4-1569-4044-b9fe-bd1c1feabe0c",
   "metadata": {
    "tags": []
   },
   "source": [
    "#### Ex 2.3.1\n",
    "Since we want a single estimate of $H_C^\\star$ we now average all the measurements of $H_C$.\n",
    "Propagate analytically the errors $(s_{H_C})_i$  (use the errors obtained using the uncorrelated formula) onto $H_C$. \n",
    "In this case it is safer to use the conservative formula for correlated errors because the measurements taken in different experiments could be correlated. For example it is possible that when repeating the experiment several times, the state of experimental apparatus (e.g. the temperature of the calorimeter) is changed slightly every time, introducing correlations between successive measurements.\n",
    "\n",
    "Write down analytically the error propagation formula for $\\hat H_C$."
   ]
  },
  {
   "cell_type": "markdown",
   "id": "06b16a4b-2df3-4ba0-8ea2-6eae132bd9d9",
   "metadata": {},
   "source": [
    "#### Solution\n",
    "$$s_{\\hat H_c}=\\frac{1}{n}\\sum_{i=1}^n(s_{H_c})_i$$"
   ]
  },
  {
   "cell_type": "markdown",
   "id": "f354b794-fa28-4442-82c0-41e6ae64112c",
   "metadata": {},
   "source": [
    "#### Ex 2.3.2\n",
    "1. Compute and print $\\hat H_C$\n",
    "2. Compute and print the standard deviation of $\\hat H_C$ numerically.\n"
   ]
  },
  {
   "cell_type": "code",
   "execution_count": 33,
   "id": "3307ea8d-86c8-4460-b542-519070a2c95a",
   "metadata": {},
   "outputs": [
    {
     "name": "stdout",
     "output_type": "stream",
     "text": [
      "HC_hat=53257.73852\n",
      "s_HC_hat=7865.4591414268725\n"
     ]
    }
   ],
   "source": [
    "#Solution:\n",
    "\n",
    "HC_hat=np.mean(HC)\n",
    "s_HC_hat=np.mean(s_HC_uncorr)\n",
    "print(f\"HC_hat={HC_hat}\")\n",
    "print(f\"s_HC_hat={s_HC_hat}\")"
   ]
  }
 ],
 "metadata": {
  "kernelspec": {
   "display_name": "Python 3 (ipykernel)",
   "language": "python",
   "name": "python3"
  },
  "language_info": {
   "codemirror_mode": {
    "name": "ipython",
    "version": 3
   },
   "file_extension": ".py",
   "mimetype": "text/x-python",
   "name": "python",
   "nbconvert_exporter": "python",
   "pygments_lexer": "ipython3",
   "version": "3.9.10"
  }
 },
 "nbformat": 4,
 "nbformat_minor": 5
}
