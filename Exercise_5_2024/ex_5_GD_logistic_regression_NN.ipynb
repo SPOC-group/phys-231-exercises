{
 "cells": [
  {
   "cell_type": "code",
   "execution_count": 1,
   "id": "abd71f5b-7ad8-4570-ba67-f044acd061f0",
   "metadata": {
    "tags": []
   },
   "outputs": [],
   "source": [
    "import numpy as np\n",
    "import matplotlib.pyplot as plt\n",
    "from sklearn.model_selection import train_test_split"
   ]
  },
  {
   "cell_type": "markdown",
   "id": "93e37f8b-bc27-4430-be53-fd137b453c02",
   "metadata": {},
   "source": [
    "# Gradient descent, Logistic Regression and Introduction to Neural Networks\n",
    "\n",
    "Today's task is to do implement the gradient descent algorithm on a simple case and visalize what it does. Then, we will implement logistic regression to classify images of even/odd digits of the MNIST dataset.\n",
    "1. In Exercise 1, we will implement the gradient descent algorithm in a 1D case and visualize its behavior.\n",
    "2. In Exercise 2, we will load and preprocess the MNIST and its labels.\n",
    "3. In Exercise 3, we will perform classification by doing logistic regression.\n",
    "4. In Exercise 4, we will obtain some familiarity with Neural Networks using a web playground."
   ]
  },
  {
   "cell_type": "markdown",
   "id": "5c25a1f7",
   "metadata": {},
   "source": [
    "## Exercice 1: Gradient descent for a single variable function"
   ]
  },
  {
   "cell_type": "markdown",
   "id": "eee14410",
   "metadata": {},
   "source": [
    "In this exercise, we apply the gradient descend algorithm to find the minimum $\\hat{x}$ of the function $f(x)=x^2$, $x\\in\\mathbb{R}$."
   ]
  },
  {
   "cell_type": "markdown",
   "id": "14e0fbf9",
   "metadata": {},
   "source": [
    "**1.1** Code the function $f(x)$ that takes as an input a scalar or a numpy array and returns its (element-wise) square. Your code should not include a loop."
   ]
  },
  {
   "cell_type": "code",
   "execution_count": null,
   "id": "acb6232e",
   "metadata": {},
   "outputs": [],
   "source": [
    "# Your code here:"
   ]
  },
  {
   "cell_type": "markdown",
   "id": "285981fb",
   "metadata": {},
   "source": [
    "**1.2** To test your implementation, plot the function $f(x)$ between $-5$ and $5$."
   ]
  },
  {
   "cell_type": "code",
   "execution_count": null,
   "id": "a9b8bdb7",
   "metadata": {},
   "outputs": [],
   "source": [
    "# Your code here:"
   ]
  },
  {
   "cell_type": "markdown",
   "id": "832ee7d5",
   "metadata": {},
   "source": [
    "**1.3** Let us now compute the gradient. Since $x$ is a scalar, the gradient is simply the derivative. Code a function that takes as an input a scalar or a numpy array and returns the derivative $f'(x)$ element wise at the given input values:"
   ]
  },
  {
   "cell_type": "code",
   "execution_count": null,
   "id": "edc5a4c9",
   "metadata": {},
   "outputs": [],
   "source": [
    "# Your code here:"
   ]
  },
  {
   "cell_type": "markdown",
   "id": "e46cbcc3",
   "metadata": {},
   "source": [
    "**1.4** Implement the gradient descent algorithm to find the minimum $\\hat{x}$ of f. Set the learning rate $\\gamma=0.1$ and initialize $x=2$. Do $T=100$ iterations of the gradient descent algorithm (do not use a stopping/convergence condition). Print your obtained $\\hat{x}$. Check that your obtained result is close to the minimum of $f(x)= x^2$. Recall that one step of the gradient descent algorithm is\n",
    "$$\n",
    "x_{t+1}=x_t-\\gamma \\nabla f(x_t)\n",
    "$$\n",
    "and use your function from 1.3 to compute the gradient."
   ]
  },
  {
   "cell_type": "code",
   "execution_count": null,
   "id": "49ec7683",
   "metadata": {},
   "outputs": [],
   "source": [
    "# Your code here:"
   ]
  },
  {
   "cell_type": "markdown",
   "id": "a5f79187",
   "metadata": {},
   "source": [
    "Your answer here:"
   ]
  },
  {
   "cell_type": "markdown",
   "id": "13f72760",
   "metadata": {},
   "source": [
    "**1.5** We will now study the influence of the learning rate $\\gamma$. Apply the gradient descent algorithm for $T=7$ steps, $\\gamma=0.1$ and intialize $x=2$, and store the initial value of $x$ as well as the value of $x$ after each gradient descent step in a numpy array. Print the obtained array."
   ]
  },
  {
   "cell_type": "code",
   "execution_count": null,
   "id": "57c8dc33",
   "metadata": {},
   "outputs": [],
   "source": [
    "# Your code here:"
   ]
  },
  {
   "cell_type": "markdown",
   "id": "1709bfad",
   "metadata": {},
   "source": [
    "**1.6** Code a function that takes as an input a list of values of $x_i$ and that plots $f(x)$ in blue between $-3$ and $3$ and scatters the points $(x_i, f(x_i))$ in red on the same plot. The function should have an additional input which is a string that is used as the title of the figure. Call this function with the previously obtained list and a title indicated the used $\\gamma$. Describe and explain qualitatively what you obtain. Be concise (maximum 4-5 sentences). "
   ]
  },
  {
   "cell_type": "code",
   "execution_count": null,
   "id": "2013a962",
   "metadata": {},
   "outputs": [],
   "source": [
    "# Your code here:"
   ]
  },
  {
   "cell_type": "markdown",
   "id": "b796c6a7",
   "metadata": {},
   "source": [
    "Your answer here."
   ]
  },
  {
   "cell_type": "markdown",
   "id": "e5d6e30e",
   "metadata": {},
   "source": [
    "**1.7** Repeat 1.5 and 1.6 now with $T=5$ steps for $\\gamma=0.25, 0.5, 0.8 \\text{ and } 1.05$. Reuse your function from 1.6 to draw the figures (change the title to the appropriate learning rate). You can copy-past your code if needed, but in this case use a new cell for each learning rate."
   ]
  },
  {
   "cell_type": "code",
   "execution_count": null,
   "id": "04560012",
   "metadata": {},
   "outputs": [],
   "source": [
    "# Your code here:"
   ]
  },
  {
   "cell_type": "markdown",
   "id": "6dc477c1",
   "metadata": {},
   "source": [
    "**1.8** Answer briefly the following questions using your obtained figures:\n",
    "- Compare $\\gamma=0.1$ and $\\gamma=0.25$. What changes ?\n",
    "- Describe what happens for $\\gamma=0.8$.\n",
    "- Describe what happens for $\\gamma=1.05$. What is the problem ?\n",
    "- What happens for $\\gamma=0.5$ ? Explain why this happens. Is this dependent on the initial $x$ in our case ?"
   ]
  },
  {
   "cell_type": "markdown",
   "id": "a41775cb",
   "metadata": {},
   "source": [
    "Your answer here:"
   ]
  },
  {
   "cell_type": "markdown",
   "id": "5805235b-2417-4631-be05-d93c39666717",
   "metadata": {
    "tags": []
   },
   "source": [
    "## Ex 2. Dataset loading and preprocessing\n",
    "We first preprocess the mnist dataset.\n",
    "Our task is to do even/odd binary classification on the MNIST dataset. \n",
    "The dataset is composed of 10000 images, each of which is 28x28 pixels. "
   ]
  },
  {
   "cell_type": "code",
   "execution_count": 2,
   "id": "9d9b2af1-acd5-4fb7-bc68-3551e879c2e4",
   "metadata": {
    "tags": []
   },
   "outputs": [],
   "source": [
    "#load the mnist dataset\n",
    "mnist= np.load(\"mnist.npy\")\n",
    "mnist_labels = np.load(\"mnist_labels.npy\")\n",
    "\n",
    "X=mnist\n",
    "y=(mnist_labels%2)*2.0-1 # 1 for odd, -1 for even."
   ]
  },
  {
   "cell_type": "code",
   "execution_count": 3,
   "id": "c049e435-797e-4d06-aa2b-2f8cf828a93a",
   "metadata": {
    "tags": []
   },
   "outputs": [
    {
     "name": "stdout",
     "output_type": "stream",
     "text": [
      "label=1.0\n"
     ]
    },
    {
     "data": {
      "image/png": "[encoded data removed]",
      "text/plain": [
       "<Figure size 640x480 with 1 Axes>"
      ]
     },
     "metadata": {},
     "output_type": "display_data"
    }
   ],
   "source": [
    "#printing the first digit\n",
    "idx=0\n",
    "plt.imshow(X[idx])\n",
    "print(f\"label={y[idx]}\")"
   ]
  },
  {
   "cell_type": "markdown",
   "id": "9135a966-8ff5-407f-8e1f-db85bcee1101",
   "metadata": {},
   "source": [
    "#### Ex 2.1\n",
    "1. Reshape X so that it is a 10000 by 768 matrix.\n",
    "2. Do a 60:20:20  train, validation, test split. The train, validation and test set shall be named `X_train`,`y_train`, `X_val`, `y_val`, `X_test`,  `y_test`\n",
    "\n",
    "Before splitting, the lines of the data matrix should be randomly permuted to guarantee that samples in each set are independent.\n",
    "\n",
    "Hint: for the splitting, check for a dedicated function in skelarn"
   ]
  },
  {
   "cell_type": "code",
   "execution_count": 4,
   "id": "fcbe474d-510d-4a67-8869-7a621217d277",
   "metadata": {
    "tags": []
   },
   "outputs": [],
   "source": [
    "### your code goes here ###"
   ]
  },
  {
   "cell_type": "markdown",
   "id": "6a46a4f7-4f1b-4354-b60f-f7da73447e31",
   "metadata": {},
   "source": [
    "#### Ex 2.2 Normalize the dataset. \n",
    "1. Compute the mean and standard deviation (std) over the whole *training* dataset (i.e. the mean and std should be two scalars computed on all the elements of `X_train`). \n",
    "2. Then, normalize the `X_train`,`X_val`,`X_test` using the mean and std computed above.\n",
    "\n",
    "Why do we use `X_train` to compute the normalization and then applying the same normalization also to `X_val`,  `X_test`? For two reasons:\n",
    "1. If one computed the normalization on the whole `X`, this would have introduced correlations between the datasets\n",
    "2. In some cases `X_test,y_test` represent new data which are not available at the moment of training. Then it's important to have a unique way of normalizing, using only the training set\n",
    "\n",
    "An additional note on normalization: two weaks ago, we normalized the images by taking the mean and standard deviation for each pixel, last week we normalized the images by putting them in the range $0-1$, and this week we normalize them by taking the mean and standard deviation over all the pixels. As you can see, there is not a unique way of normalizing the data. Each method has its specific application and advantages. For instance, a normalization between $0-1$ may be more adapted when the distribution is not gaussian or when the standard deviation is very small, it is however sensitive to outliers."
   ]
  },
  {
   "cell_type": "code",
   "execution_count": 6,
   "id": "5603cccb-8fa0-4ba4-a358-7ab85f8c0fc0",
   "metadata": {
    "tags": []
   },
   "outputs": [],
   "source": [
    "### your code goes here ###"
   ]
  },
  {
   "cell_type": "markdown",
   "id": "1c3dfeec-19e5-443e-8391-201a9777a800",
   "metadata": {},
   "source": [
    "## Ex 3: Logistic regression\n",
    "In this exercise you will implement a classifier that uses logistic regression to distinguish even from odd digits in the MNIST dataset. The classifier will be trained using gradient descent.\n",
    "Let's set some notation: we call $n$ the number of datapoints in the training set and $d$ the dimensionality (in our case the number of pixels) of each datapoint.\n",
    "\n",
    "In the logistic regression case, recall that our predictor is $z= \\vec x \\cdot \\vec w$, where both $\\vec x$ and $\\vec w$ are in $\\mathbb R^d$.\n",
    "\n",
    "The regularized training loss is\n",
    "$$\\mathcal L(\\vec w)=\\frac{1}{n}\\sum_{\\mu=1}^n\\ell(y_\\mu,\\vec X_\\mu\\cdot \\vec w)+\\frac{\\lambda}{n}\\sum_{i=1}^d w_i^2,\\quad \\ell(y,z)=\\log(1+e^{-yz})$$"
   ]
  },
  {
   "cell_type": "markdown",
   "id": "60a71ba7-c0a4-43eb-bf59-9ba724d6d076",
   "metadata": {},
   "source": [
    "The gradient of the loss with respect to $\\vec w $ is \n",
    "$$\\frac{\\partial \\mathcal L}{\\partial \\vec w_i}(\\vec w)=-\\frac{1}{n}\\sum_{\\mu=1}^n \\frac{e^{-y_\\mu \\vec X_\\mu\\cdot \\vec w}}{1+e^{-y_\\mu \\vec X_\\mu\\cdot \\vec w}} X_{\\mu i} y_\\mu+\\frac{2\\lambda}{n}\\vec w_i$$"
   ]
  },
  {
   "cell_type": "markdown",
   "id": "2ef30c5a-d137-42c6-9d7d-51328a6b29aa",
   "metadata": {},
   "source": [
    "#### Ex 3.1:  Implementing the gradient\n",
    "Using the above formula, implement a function `loss_gradient` that takes as arguments `X_train,y_train,w,lambd` and returns a numpy array containing the gradient of the loss."
   ]
  },
  {
   "cell_type": "code",
   "execution_count": null,
   "id": "0b48be59-6575-4562-9224-44bec28099e3",
   "metadata": {},
   "outputs": [],
   "source": [
    "### your code goes here ###"
   ]
  },
  {
   "cell_type": "markdown",
   "id": "da193128-6394-417e-99f2-10692566fdef",
   "metadata": {
    "tags": []
   },
   "source": [
    "#### Ex 3.2: training\n",
    "Write a training loop that perfoms gradient descent.\n",
    "1. Set $\\lambda=1$ and choose a good step size that allows the algorithm to learn. 2000 steps should be enough to learn. For the initialization you can use a random one.\n",
    "2. Every 100 gradient steps, a measurement of training and validation accuracies (i.e. 1- error), should be taken and stored in lists. \n",
    "3. After the training make a plot of train and test accuracies vs time\n",
    "\n",
    "*Recall that the accuracy of a model is the fraction of times the model correctly predicts the class.*"
   ]
  },
  {
   "cell_type": "code",
   "execution_count": 9,
   "id": "40657f8c-8c90-49dc-b425-e7b1c4043a70",
   "metadata": {
    "tags": []
   },
   "outputs": [],
   "source": [
    "tmax=2000 #number of iterations\n",
    "lambd=1 #regularization\n",
    "\n",
    "### your code goes here ###\n",
    "\n",
    "for t in range(tmax):# training loop\n",
    "    ### your code goes here ###\n",
    "    pass "
   ]
  },
  {
   "cell_type": "markdown",
   "id": "42fa8c17-8d0e-461a-bed5-98df5447fb53",
   "metadata": {},
   "source": [
    "#### Ex 3.3: Early stopping\n",
    "Modify the training loop to implement early stopping (you can copy-paste the training loop you wrote and modify it). \n",
    "You will do so by still runnnig gradient descent for a fixed number of steps `tmax`.\n",
    "Whenever you take a measurement of the validation accuracy, check if this is the highest accuracy reached so far in the training. If it is, save in memory the current weight vector and time. This way at the end of training you will have your weight vector with highest validation accuracy.\n",
    "\n",
    "After training the model again make a showing the train and validation accuracies vs time. Mark in some way the time at which the highest validation accuracy was achieved. Finally compute the test error of the weight vector with highest validation error\n"
   ]
  },
  {
   "cell_type": "markdown",
   "id": "b93c6b9d-d7a6-4a8c-bfb2-b27ad7fa9b28",
   "metadata": {},
   "source": [
    "###  Ex 3.4: Logistic regression with sklearn\n",
    "The scikit-learn library contains a logistic regression implementation, allowing to train logistic regression in a couple of lines of code. \n",
    "1. Implement logistic regression without regularization\n",
    "2. Compute the test error\n"
   ]
  },
  {
   "cell_type": "code",
   "execution_count": 15,
   "id": "50f06971-6ecf-4112-8dcd-95ed628d9b13",
   "metadata": {
    "tags": []
   },
   "outputs": [],
   "source": [
    "from sklearn.linear_model import LogisticRegression\n",
    "### your code goes here ###"
   ]
  },
  {
   "cell_type": "markdown",
   "id": "9c80b9e1-ad51-4a49-a9f3-9ddb2cc4a24e",
   "metadata": {},
   "source": [
    "## Ex 4: Visualization of Neural Networks\n",
    "To obtain some familiarity with neural networks, go to https://playground.tensorflow.org/.\n",
    "On the left you can choose a dataset on which to do classification. You can then modify the network by choosing the number of hidden layers, number of neurons in each layer, activation function. \n",
    "\n",
    "The hardest dataset to learn is the spiral: play with the parameters of the network until it manages to learn this dataset."
   ]
  }
 ],
 "metadata": {
  "kernelspec": {
   "display_name": "Python 3 (ipykernel)",
   "language": "python",
   "name": "python3"
  },
  "language_info": {
   "codemirror_mode": {
    "name": "ipython",
    "version": 3
   },
   "file_extension": ".py",
   "mimetype": "text/x-python",
   "name": "python",
   "nbconvert_exporter": "python",
   "pygments_lexer": "ipython3",
   "version": "3.10.12"
  },
  "unianalytics_cell_mapping": [
   [
    "abd71f5b-7ad8-4570-ba67-f044acd061f0",
    "abd71f5b-7ad8-4570-ba67-f044acd061f0"
   ],
   [
    "93e37f8b-bc27-4430-be53-fd137b453c02",
    "93e37f8b-bc27-4430-be53-fd137b453c02"
   ],
   [
    "5c25a1f7",
    "5c25a1f7"
   ],
   [
    "eee14410",
    "eee14410"
   ],
   [
    "14e0fbf9",
    "14e0fbf9"
   ],
   [
    "acb6232e",
    "acb6232e"
   ],
   [
    "285981fb",
    "285981fb"
   ],
   [
    "a9b8bdb7",
    "a9b8bdb7"
   ],
   [
    "832ee7d5",
    "832ee7d5"
   ],
   [
    "edc5a4c9",
    "edc5a4c9"
   ],
   [
    "e46cbcc3",
    "e46cbcc3"
   ],
   [
    "49ec7683",
    "49ec7683"
   ],
   [
    "a5f79187",
    "a5f79187"
   ],
   [
    "13f72760",
    "13f72760"
   ],
   [
    "57c8dc33",
    "57c8dc33"
   ],
   [
    "1709bfad",
    "1709bfad"
   ],
   [
    "2013a962",
    "2013a962"
   ],
   [
    "b796c6a7",
    "b796c6a7"
   ],
   [
    "e5d6e30e",
    "e5d6e30e"
   ],
   [
    "04560012",
    "04560012"
   ],
   [
    "6dc477c1",
    "6dc477c1"
   ],
   [
    "a41775cb",
    "a41775cb"
   ],
   [
    "5805235b-2417-4631-be05-d93c39666717",
    "5805235b-2417-4631-be05-d93c39666717"
   ],
   [
    "9d9b2af1-acd5-4fb7-bc68-3551e879c2e4",
    "9d9b2af1-acd5-4fb7-bc68-3551e879c2e4"
   ],
   [
    "c049e435-797e-4d06-aa2b-2f8cf828a93a",
    "c049e435-797e-4d06-aa2b-2f8cf828a93a"
   ],
   [
    "9135a966-8ff5-407f-8e1f-db85bcee1101",
    "9135a966-8ff5-407f-8e1f-db85bcee1101"
   ],
   [
    "fcbe474d-510d-4a67-8869-7a621217d277",
    "fcbe474d-510d-4a67-8869-7a621217d277"
   ],
   [
    "6a46a4f7-4f1b-4354-b60f-f7da73447e31",
    "6a46a4f7-4f1b-4354-b60f-f7da73447e31"
   ],
   [
    "5603cccb-8fa0-4ba4-a358-7ab85f8c0fc0",
    "5603cccb-8fa0-4ba4-a358-7ab85f8c0fc0"
   ],
   [
    "1c3dfeec-19e5-443e-8391-201a9777a800",
    "1c3dfeec-19e5-443e-8391-201a9777a800"
   ],
   [
    "60a71ba7-c0a4-43eb-bf59-9ba724d6d076",
    "60a71ba7-c0a4-43eb-bf59-9ba724d6d076"
   ],
   [
    "2ef30c5a-d137-42c6-9d7d-51328a6b29aa",
    "2ef30c5a-d137-42c6-9d7d-51328a6b29aa"
   ],
   [
    "0b48be59-6575-4562-9224-44bec28099e3",
    "0b48be59-6575-4562-9224-44bec28099e3"
   ],
   [
    "da193128-6394-417e-99f2-10692566fdef",
    "da193128-6394-417e-99f2-10692566fdef"
   ],
   [
    "40657f8c-8c90-49dc-b425-e7b1c4043a70",
    "40657f8c-8c90-49dc-b425-e7b1c4043a70"
   ],
   [
    "42fa8c17-8d0e-461a-bed5-98df5447fb53",
    "42fa8c17-8d0e-461a-bed5-98df5447fb53"
   ],
   [
    "b93c6b9d-d7a6-4a8c-bfb2-b27ad7fa9b28",
    "b93c6b9d-d7a6-4a8c-bfb2-b27ad7fa9b28"
   ],
   [
    "50f06971-6ecf-4112-8dcd-95ed628d9b13",
    "50f06971-6ecf-4112-8dcd-95ed628d9b13"
   ],
   [
    "9c80b9e1-ad51-4a49-a9f3-9ddb2cc4a24e",
    "9c80b9e1-ad51-4a49-a9f3-9ddb2cc4a24e"
   ]
  ],
  "unianalytics_notebook_id": "9b2562e3-4e87-4218-858c-8beb1264ab41"
 },
 "nbformat": 4,
 "nbformat_minor": 5
}
